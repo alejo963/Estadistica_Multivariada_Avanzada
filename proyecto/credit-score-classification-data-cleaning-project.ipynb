{
 "cells": [
  {
   "cell_type": "markdown",
   "id": "a267ab48",
   "metadata": {
    "_cell_guid": "f332e7e9-ad0c-4e58-a944-5e67659a683b",
    "_uuid": "52b8c013-70b8-4847-968d-e4c04976bfb1",
    "papermill": {
     "duration": 0.035083,
     "end_time": "2022-09-17T17:03:30.182397",
     "exception": false,
     "start_time": "2022-09-17T17:03:30.147314",
     "status": "completed"
    },
    "tags": []
   },
   "source": [
    "<p style=\"background-color:romance; color:jaguar; font-size:250%; text-align:center; border-radius:10px 10px; font-family:newtimeroman; line-height: 1.4; text-transform: uppercase;\"><strong>Data Analysis & Cleaning with Python</strong></p>\n",
    "\n",
    "<p style=\"background-color:romance; color:jaguar; font-size:200%; text-align:center; border-radius:10px 10px; font-family:newtimeroman; line-height: 1.4; text-transform: title;\"><strong>Analysis of Credit Score Classification</strong></p>\n",
    "\n",
    "<p style=\"background-color:romance; color:jaguar; font-size:200%; text-align:center; border-radius:10px 10px; font-family:newtimeroman; line-height: 1.1;\">Project Solution: Data Cleaning</p>"
   ]
  },
  {
   "cell_type": "markdown",
   "id": "f7ee4d7a",
   "metadata": {
    "_cell_guid": "49bea619-f9b5-404c-8400-8ff7d1d6c65c",
    "_uuid": "e173304d-6d65-4a75-a9b8-9dc36b13a277",
    "papermill": {
     "duration": 0.032854,
     "end_time": "2022-09-17T17:03:30.248123",
     "exception": false,
     "start_time": "2022-09-17T17:03:30.215269",
     "status": "completed"
    },
    "tags": []
   },
   "source": [
    "# 01. Importing Related Libraries\n",
    "\n",
    "- Once you've Installed NumPy and Pandas etc. you can Import them as a Library.\n",
    "- Reading the Data from File"
   ]
  },
  {
   "cell_type": "code",
   "execution_count": 1,
   "id": "972cae3e",
   "metadata": {
    "_cell_guid": "1f258617-945e-4547-82d9-ed7d8815f126",
    "_uuid": "5671bbad-3faa-4b1d-bbe5-f04d73011353",
    "collapsed": false,
    "execution": {
     "iopub.execute_input": "2022-09-17T17:03:30.316871Z",
     "iopub.status.busy": "2022-09-17T17:03:30.316398Z",
     "iopub.status.idle": "2022-09-17T17:03:30.337076Z",
     "shell.execute_reply": "2022-09-17T17:03:30.335677Z"
    },
    "jupyter": {
     "outputs_hidden": false
    },
    "papermill": {
     "duration": 0.05836,
     "end_time": "2022-09-17T17:03:30.340029",
     "exception": false,
     "start_time": "2022-09-17T17:03:30.281669",
     "status": "completed"
    },
    "tags": []
   },
   "outputs": [],
   "source": [
    "# This Python 3 environment comes with many helpful analytics libraries installed\n",
    "# It is defined by the kaggle/python Docker image: https://github.com/kaggle/docker-python\n",
    "# For example, here's several helpful packages to load\n",
    "\n",
    "import numpy as np # linear algebra\n",
    "import pandas as pd # data processing, CSV file I/O (e.g. pd.read_csv)\n",
    "\n",
    "# Input data files are available in the read-only \"../input/\" directory\n",
    "# For example, running this (by clicking run or pressing Shift+Enter) will list all files under the input directory\n",
    "\n",
    "# import os\n",
    "# for dirname, _, filenames in os.walk('/kaggle/input'):\n",
    "#     for filename in filenames:\n",
    "#         print(os.path.join(dirname, filename))\n",
    "\n",
    "# You can write up to 20GB to the current directory (/kaggle/working/) that gets preserved as output when you create a version using \"Save & Run All\" \n",
    "# You can also write temporary files to /kaggle/temp/, but they won't be saved outside of the current session"
   ]
  },
  {
   "cell_type": "code",
   "execution_count": 2,
   "id": "ba82f8ca",
   "metadata": {
    "_cell_guid": "ac8f72be-9f8f-422b-b60c-81116f3868ff",
    "_uuid": "6aca1c3a-a5e9-4957-9257-348207fab1f7",
    "collapsed": false,
    "execution": {
     "iopub.execute_input": "2022-09-17T17:03:30.409001Z",
     "iopub.status.busy": "2022-09-17T17:03:30.407897Z",
     "iopub.status.idle": "2022-09-17T17:03:30.413310Z",
     "shell.execute_reply": "2022-09-17T17:03:30.412207Z"
    },
    "jupyter": {
     "outputs_hidden": false
    },
    "papermill": {
     "duration": 0.042041,
     "end_time": "2022-09-17T17:03:30.415605",
     "exception": false,
     "start_time": "2022-09-17T17:03:30.373564",
     "status": "completed"
    },
    "tags": []
   },
   "outputs": [],
   "source": [
    "import warnings\n",
    "# Suppressing a warning \n",
    "warnings.filterwarnings(\"ignore\") \n",
    "warnings.warn(\"this will not show\")"
   ]
  },
  {
   "cell_type": "code",
   "execution_count": 3,
   "id": "162de361",
   "metadata": {
    "execution": {
     "iopub.execute_input": "2022-09-17T17:03:30.483241Z",
     "iopub.status.busy": "2022-09-17T17:03:30.482824Z",
     "iopub.status.idle": "2022-09-17T17:03:31.275071Z",
     "shell.execute_reply": "2022-09-17T17:03:31.273654Z"
    },
    "papermill": {
     "duration": 0.829436,
     "end_time": "2022-09-17T17:03:31.277913",
     "exception": false,
     "start_time": "2022-09-17T17:03:30.448477",
     "status": "completed"
    },
    "tags": []
   },
   "outputs": [],
   "source": [
    "# Statistics functions\n",
    "from scipy import stats"
   ]
  },
  {
   "cell_type": "markdown",
   "id": "97136250",
   "metadata": {
    "_cell_guid": "a10a7ab7-6760-4caa-8779-a3c2148e775d",
    "_uuid": "aad9ae8c-30fa-45ca-8ca3-0f3eab808dc1",
    "papermill": {
     "duration": 0.03234,
     "end_time": "2022-09-17T17:03:31.343367",
     "exception": false,
     "start_time": "2022-09-17T17:03:31.311027",
     "status": "completed"
    },
    "tags": []
   },
   "source": [
    "## Reading the Data from File"
   ]
  },
  {
   "cell_type": "code",
   "execution_count": 4,
   "id": "10d5ace9",
   "metadata": {
    "_cell_guid": "eed17339-c843-41c1-94b8-9e0cafb4c69d",
    "_uuid": "4230d894-e2ae-4c63-a1a1-7a1581130990",
    "collapsed": false,
    "execution": {
     "iopub.execute_input": "2022-09-17T17:03:31.413079Z",
     "iopub.status.busy": "2022-09-17T17:03:31.412591Z",
     "iopub.status.idle": "2022-09-17T17:03:33.114820Z",
     "shell.execute_reply": "2022-09-17T17:03:33.113609Z"
    },
    "jupyter": {
     "outputs_hidden": false
    },
    "papermill": {
     "duration": 1.7404,
     "end_time": "2022-09-17T17:03:33.117791",
     "exception": false,
     "start_time": "2022-09-17T17:03:31.377391",
     "status": "completed"
    },
    "tags": []
   },
   "outputs": [
    {
     "data": {
      "text/html": [
       "<div>\n",
       "<style scoped>\n",
       "    .dataframe tbody tr th:only-of-type {\n",
       "        vertical-align: middle;\n",
       "    }\n",
       "\n",
       "    .dataframe tbody tr th {\n",
       "        vertical-align: top;\n",
       "    }\n",
       "\n",
       "    .dataframe thead th {\n",
       "        text-align: right;\n",
       "    }\n",
       "</style>\n",
       "<table border=\"1\" class=\"dataframe\">\n",
       "  <thead>\n",
       "    <tr style=\"text-align: right;\">\n",
       "      <th></th>\n",
       "      <th>ID</th>\n",
       "      <th>Customer_ID</th>\n",
       "      <th>Month</th>\n",
       "      <th>Name</th>\n",
       "      <th>Age</th>\n",
       "      <th>SSN</th>\n",
       "      <th>Occupation</th>\n",
       "      <th>Annual_Income</th>\n",
       "      <th>Monthly_Inhand_Salary</th>\n",
       "      <th>Num_Bank_Accounts</th>\n",
       "      <th>...</th>\n",
       "      <th>Credit_Mix</th>\n",
       "      <th>Outstanding_Debt</th>\n",
       "      <th>Credit_Utilization_Ratio</th>\n",
       "      <th>Credit_History_Age</th>\n",
       "      <th>Payment_of_Min_Amount</th>\n",
       "      <th>Total_EMI_per_month</th>\n",
       "      <th>Amount_invested_monthly</th>\n",
       "      <th>Payment_Behaviour</th>\n",
       "      <th>Monthly_Balance</th>\n",
       "      <th>Credit_Score</th>\n",
       "    </tr>\n",
       "  </thead>\n",
       "  <tbody>\n",
       "    <tr>\n",
       "      <th>0</th>\n",
       "      <td>0x1602</td>\n",
       "      <td>CUS_0xd40</td>\n",
       "      <td>January</td>\n",
       "      <td>Aaron Maashoh</td>\n",
       "      <td>23</td>\n",
       "      <td>821-00-0265</td>\n",
       "      <td>Scientist</td>\n",
       "      <td>19114.12</td>\n",
       "      <td>1824.843333</td>\n",
       "      <td>3</td>\n",
       "      <td>...</td>\n",
       "      <td>_</td>\n",
       "      <td>809.98</td>\n",
       "      <td>26.822620</td>\n",
       "      <td>22 Years and 1 Months</td>\n",
       "      <td>No</td>\n",
       "      <td>49.574949</td>\n",
       "      <td>80.41529543900253</td>\n",
       "      <td>High_spent_Small_value_payments</td>\n",
       "      <td>312.49408867943663</td>\n",
       "      <td>Good</td>\n",
       "    </tr>\n",
       "    <tr>\n",
       "      <th>1</th>\n",
       "      <td>0x1603</td>\n",
       "      <td>CUS_0xd40</td>\n",
       "      <td>February</td>\n",
       "      <td>Aaron Maashoh</td>\n",
       "      <td>23</td>\n",
       "      <td>821-00-0265</td>\n",
       "      <td>Scientist</td>\n",
       "      <td>19114.12</td>\n",
       "      <td>NaN</td>\n",
       "      <td>3</td>\n",
       "      <td>...</td>\n",
       "      <td>Good</td>\n",
       "      <td>809.98</td>\n",
       "      <td>31.944960</td>\n",
       "      <td>NaN</td>\n",
       "      <td>No</td>\n",
       "      <td>49.574949</td>\n",
       "      <td>118.28022162236736</td>\n",
       "      <td>Low_spent_Large_value_payments</td>\n",
       "      <td>284.62916249607184</td>\n",
       "      <td>Good</td>\n",
       "    </tr>\n",
       "    <tr>\n",
       "      <th>2</th>\n",
       "      <td>0x1604</td>\n",
       "      <td>CUS_0xd40</td>\n",
       "      <td>March</td>\n",
       "      <td>Aaron Maashoh</td>\n",
       "      <td>-500</td>\n",
       "      <td>821-00-0265</td>\n",
       "      <td>Scientist</td>\n",
       "      <td>19114.12</td>\n",
       "      <td>NaN</td>\n",
       "      <td>3</td>\n",
       "      <td>...</td>\n",
       "      <td>Good</td>\n",
       "      <td>809.98</td>\n",
       "      <td>28.609352</td>\n",
       "      <td>22 Years and 3 Months</td>\n",
       "      <td>No</td>\n",
       "      <td>49.574949</td>\n",
       "      <td>81.699521264648</td>\n",
       "      <td>Low_spent_Medium_value_payments</td>\n",
       "      <td>331.2098628537912</td>\n",
       "      <td>Good</td>\n",
       "    </tr>\n",
       "    <tr>\n",
       "      <th>3</th>\n",
       "      <td>0x1605</td>\n",
       "      <td>CUS_0xd40</td>\n",
       "      <td>April</td>\n",
       "      <td>Aaron Maashoh</td>\n",
       "      <td>23</td>\n",
       "      <td>821-00-0265</td>\n",
       "      <td>Scientist</td>\n",
       "      <td>19114.12</td>\n",
       "      <td>NaN</td>\n",
       "      <td>3</td>\n",
       "      <td>...</td>\n",
       "      <td>Good</td>\n",
       "      <td>809.98</td>\n",
       "      <td>31.377862</td>\n",
       "      <td>22 Years and 4 Months</td>\n",
       "      <td>No</td>\n",
       "      <td>49.574949</td>\n",
       "      <td>199.4580743910713</td>\n",
       "      <td>Low_spent_Small_value_payments</td>\n",
       "      <td>223.45130972736786</td>\n",
       "      <td>Good</td>\n",
       "    </tr>\n",
       "    <tr>\n",
       "      <th>4</th>\n",
       "      <td>0x1606</td>\n",
       "      <td>CUS_0xd40</td>\n",
       "      <td>May</td>\n",
       "      <td>Aaron Maashoh</td>\n",
       "      <td>23</td>\n",
       "      <td>821-00-0265</td>\n",
       "      <td>Scientist</td>\n",
       "      <td>19114.12</td>\n",
       "      <td>1824.843333</td>\n",
       "      <td>3</td>\n",
       "      <td>...</td>\n",
       "      <td>Good</td>\n",
       "      <td>809.98</td>\n",
       "      <td>24.797347</td>\n",
       "      <td>22 Years and 5 Months</td>\n",
       "      <td>No</td>\n",
       "      <td>49.574949</td>\n",
       "      <td>41.420153086217326</td>\n",
       "      <td>High_spent_Medium_value_payments</td>\n",
       "      <td>341.48923103222177</td>\n",
       "      <td>Good</td>\n",
       "    </tr>\n",
       "    <tr>\n",
       "      <th>...</th>\n",
       "      <td>...</td>\n",
       "      <td>...</td>\n",
       "      <td>...</td>\n",
       "      <td>...</td>\n",
       "      <td>...</td>\n",
       "      <td>...</td>\n",
       "      <td>...</td>\n",
       "      <td>...</td>\n",
       "      <td>...</td>\n",
       "      <td>...</td>\n",
       "      <td>...</td>\n",
       "      <td>...</td>\n",
       "      <td>...</td>\n",
       "      <td>...</td>\n",
       "      <td>...</td>\n",
       "      <td>...</td>\n",
       "      <td>...</td>\n",
       "      <td>...</td>\n",
       "      <td>...</td>\n",
       "      <td>...</td>\n",
       "      <td>...</td>\n",
       "    </tr>\n",
       "    <tr>\n",
       "      <th>99995</th>\n",
       "      <td>0x25fe9</td>\n",
       "      <td>CUS_0x942c</td>\n",
       "      <td>April</td>\n",
       "      <td>Nicks</td>\n",
       "      <td>25</td>\n",
       "      <td>078-73-5990</td>\n",
       "      <td>Mechanic</td>\n",
       "      <td>39628.99</td>\n",
       "      <td>3359.415833</td>\n",
       "      <td>4</td>\n",
       "      <td>...</td>\n",
       "      <td>_</td>\n",
       "      <td>502.38</td>\n",
       "      <td>34.663572</td>\n",
       "      <td>31 Years and 6 Months</td>\n",
       "      <td>No</td>\n",
       "      <td>35.104023</td>\n",
       "      <td>60.97133255718485</td>\n",
       "      <td>High_spent_Large_value_payments</td>\n",
       "      <td>479.866228</td>\n",
       "      <td>Poor</td>\n",
       "    </tr>\n",
       "    <tr>\n",
       "      <th>99996</th>\n",
       "      <td>0x25fea</td>\n",
       "      <td>CUS_0x942c</td>\n",
       "      <td>May</td>\n",
       "      <td>Nicks</td>\n",
       "      <td>25</td>\n",
       "      <td>078-73-5990</td>\n",
       "      <td>Mechanic</td>\n",
       "      <td>39628.99</td>\n",
       "      <td>3359.415833</td>\n",
       "      <td>4</td>\n",
       "      <td>...</td>\n",
       "      <td>_</td>\n",
       "      <td>502.38</td>\n",
       "      <td>40.565631</td>\n",
       "      <td>31 Years and 7 Months</td>\n",
       "      <td>No</td>\n",
       "      <td>35.104023</td>\n",
       "      <td>54.18595028760385</td>\n",
       "      <td>High_spent_Medium_value_payments</td>\n",
       "      <td>496.65161</td>\n",
       "      <td>Poor</td>\n",
       "    </tr>\n",
       "    <tr>\n",
       "      <th>99997</th>\n",
       "      <td>0x25feb</td>\n",
       "      <td>CUS_0x942c</td>\n",
       "      <td>June</td>\n",
       "      <td>Nicks</td>\n",
       "      <td>25</td>\n",
       "      <td>078-73-5990</td>\n",
       "      <td>Mechanic</td>\n",
       "      <td>39628.99</td>\n",
       "      <td>3359.415833</td>\n",
       "      <td>4</td>\n",
       "      <td>...</td>\n",
       "      <td>Good</td>\n",
       "      <td>502.38</td>\n",
       "      <td>41.255522</td>\n",
       "      <td>31 Years and 8 Months</td>\n",
       "      <td>No</td>\n",
       "      <td>35.104023</td>\n",
       "      <td>24.02847744864441</td>\n",
       "      <td>High_spent_Large_value_payments</td>\n",
       "      <td>516.809083</td>\n",
       "      <td>Poor</td>\n",
       "    </tr>\n",
       "    <tr>\n",
       "      <th>99998</th>\n",
       "      <td>0x25fec</td>\n",
       "      <td>CUS_0x942c</td>\n",
       "      <td>July</td>\n",
       "      <td>Nicks</td>\n",
       "      <td>25</td>\n",
       "      <td>078-73-5990</td>\n",
       "      <td>Mechanic</td>\n",
       "      <td>39628.99</td>\n",
       "      <td>3359.415833</td>\n",
       "      <td>4</td>\n",
       "      <td>...</td>\n",
       "      <td>Good</td>\n",
       "      <td>502.38</td>\n",
       "      <td>33.638208</td>\n",
       "      <td>31 Years and 9 Months</td>\n",
       "      <td>No</td>\n",
       "      <td>35.104023</td>\n",
       "      <td>251.67258219721603</td>\n",
       "      <td>Low_spent_Large_value_payments</td>\n",
       "      <td>319.164979</td>\n",
       "      <td>Standard</td>\n",
       "    </tr>\n",
       "    <tr>\n",
       "      <th>99999</th>\n",
       "      <td>0x25fed</td>\n",
       "      <td>CUS_0x942c</td>\n",
       "      <td>August</td>\n",
       "      <td>Nicks</td>\n",
       "      <td>25</td>\n",
       "      <td>078-73-5990</td>\n",
       "      <td>Mechanic</td>\n",
       "      <td>39628.99_</td>\n",
       "      <td>3359.415833</td>\n",
       "      <td>4</td>\n",
       "      <td>...</td>\n",
       "      <td>Good</td>\n",
       "      <td>502.38</td>\n",
       "      <td>34.192463</td>\n",
       "      <td>31 Years and 10 Months</td>\n",
       "      <td>No</td>\n",
       "      <td>35.104023</td>\n",
       "      <td>167.1638651610451</td>\n",
       "      <td>!@9#%8</td>\n",
       "      <td>393.673696</td>\n",
       "      <td>Poor</td>\n",
       "    </tr>\n",
       "  </tbody>\n",
       "</table>\n",
       "<p>100000 rows × 28 columns</p>\n",
       "</div>"
      ],
      "text/plain": [
       "            ID Customer_ID     Month           Name   Age          SSN  \\\n",
       "0       0x1602   CUS_0xd40   January  Aaron Maashoh    23  821-00-0265   \n",
       "1       0x1603   CUS_0xd40  February  Aaron Maashoh    23  821-00-0265   \n",
       "2       0x1604   CUS_0xd40     March  Aaron Maashoh  -500  821-00-0265   \n",
       "3       0x1605   CUS_0xd40     April  Aaron Maashoh    23  821-00-0265   \n",
       "4       0x1606   CUS_0xd40       May  Aaron Maashoh    23  821-00-0265   \n",
       "...        ...         ...       ...            ...   ...          ...   \n",
       "99995  0x25fe9  CUS_0x942c     April          Nicks    25  078-73-5990   \n",
       "99996  0x25fea  CUS_0x942c       May          Nicks    25  078-73-5990   \n",
       "99997  0x25feb  CUS_0x942c      June          Nicks    25  078-73-5990   \n",
       "99998  0x25fec  CUS_0x942c      July          Nicks    25  078-73-5990   \n",
       "99999  0x25fed  CUS_0x942c    August          Nicks    25  078-73-5990   \n",
       "\n",
       "      Occupation Annual_Income  Monthly_Inhand_Salary  Num_Bank_Accounts  ...  \\\n",
       "0      Scientist      19114.12            1824.843333                  3  ...   \n",
       "1      Scientist      19114.12                    NaN                  3  ...   \n",
       "2      Scientist      19114.12                    NaN                  3  ...   \n",
       "3      Scientist      19114.12                    NaN                  3  ...   \n",
       "4      Scientist      19114.12            1824.843333                  3  ...   \n",
       "...          ...           ...                    ...                ...  ...   \n",
       "99995   Mechanic      39628.99            3359.415833                  4  ...   \n",
       "99996   Mechanic      39628.99            3359.415833                  4  ...   \n",
       "99997   Mechanic      39628.99            3359.415833                  4  ...   \n",
       "99998   Mechanic      39628.99            3359.415833                  4  ...   \n",
       "99999   Mechanic     39628.99_            3359.415833                  4  ...   \n",
       "\n",
       "       Credit_Mix  Outstanding_Debt Credit_Utilization_Ratio  \\\n",
       "0               _            809.98                26.822620   \n",
       "1            Good            809.98                31.944960   \n",
       "2            Good            809.98                28.609352   \n",
       "3            Good            809.98                31.377862   \n",
       "4            Good            809.98                24.797347   \n",
       "...           ...               ...                      ...   \n",
       "99995           _            502.38                34.663572   \n",
       "99996           _            502.38                40.565631   \n",
       "99997        Good            502.38                41.255522   \n",
       "99998        Good            502.38                33.638208   \n",
       "99999        Good            502.38                34.192463   \n",
       "\n",
       "           Credit_History_Age  Payment_of_Min_Amount Total_EMI_per_month  \\\n",
       "0       22 Years and 1 Months                     No           49.574949   \n",
       "1                         NaN                     No           49.574949   \n",
       "2       22 Years and 3 Months                     No           49.574949   \n",
       "3       22 Years and 4 Months                     No           49.574949   \n",
       "4       22 Years and 5 Months                     No           49.574949   \n",
       "...                       ...                    ...                 ...   \n",
       "99995   31 Years and 6 Months                     No           35.104023   \n",
       "99996   31 Years and 7 Months                     No           35.104023   \n",
       "99997   31 Years and 8 Months                     No           35.104023   \n",
       "99998   31 Years and 9 Months                     No           35.104023   \n",
       "99999  31 Years and 10 Months                     No           35.104023   \n",
       "\n",
       "      Amount_invested_monthly                 Payment_Behaviour  \\\n",
       "0           80.41529543900253   High_spent_Small_value_payments   \n",
       "1          118.28022162236736    Low_spent_Large_value_payments   \n",
       "2             81.699521264648   Low_spent_Medium_value_payments   \n",
       "3           199.4580743910713    Low_spent_Small_value_payments   \n",
       "4          41.420153086217326  High_spent_Medium_value_payments   \n",
       "...                       ...                               ...   \n",
       "99995       60.97133255718485   High_spent_Large_value_payments   \n",
       "99996       54.18595028760385  High_spent_Medium_value_payments   \n",
       "99997       24.02847744864441   High_spent_Large_value_payments   \n",
       "99998      251.67258219721603    Low_spent_Large_value_payments   \n",
       "99999       167.1638651610451                            !@9#%8   \n",
       "\n",
       "          Monthly_Balance Credit_Score  \n",
       "0      312.49408867943663         Good  \n",
       "1      284.62916249607184         Good  \n",
       "2       331.2098628537912         Good  \n",
       "3      223.45130972736786         Good  \n",
       "4      341.48923103222177         Good  \n",
       "...                   ...          ...  \n",
       "99995          479.866228         Poor  \n",
       "99996           496.65161         Poor  \n",
       "99997          516.809083         Poor  \n",
       "99998          319.164979     Standard  \n",
       "99999          393.673696         Poor  \n",
       "\n",
       "[100000 rows x 28 columns]"
      ]
     },
     "execution_count": 4,
     "metadata": {},
     "output_type": "execute_result"
    }
   ],
   "source": [
    "df_origin_train = pd.read_csv('./data/train.csv')\n",
    "df_train = df_origin_train.copy()\n",
    "df_train"
   ]
  },
  {
   "cell_type": "code",
   "execution_count": 5,
   "id": "ea3d6274",
   "metadata": {
    "_cell_guid": "375abdb1-5a89-486d-9f27-5fce4e8bcf8a",
    "_uuid": "b09fe22f-d4bf-4a4f-b394-5648fc98c83e",
    "collapsed": false,
    "execution": {
     "iopub.execute_input": "2022-09-17T17:03:33.187721Z",
     "iopub.status.busy": "2022-09-17T17:03:33.186733Z",
     "iopub.status.idle": "2022-09-17T17:03:33.942425Z",
     "shell.execute_reply": "2022-09-17T17:03:33.941262Z"
    },
    "jupyter": {
     "outputs_hidden": false
    },
    "papermill": {
     "duration": 0.793448,
     "end_time": "2022-09-17T17:03:33.945210",
     "exception": false,
     "start_time": "2022-09-17T17:03:33.151762",
     "status": "completed"
    },
    "tags": []
   },
   "outputs": [
    {
     "data": {
      "text/html": [
       "<div>\n",
       "<style scoped>\n",
       "    .dataframe tbody tr th:only-of-type {\n",
       "        vertical-align: middle;\n",
       "    }\n",
       "\n",
       "    .dataframe tbody tr th {\n",
       "        vertical-align: top;\n",
       "    }\n",
       "\n",
       "    .dataframe thead th {\n",
       "        text-align: right;\n",
       "    }\n",
       "</style>\n",
       "<table border=\"1\" class=\"dataframe\">\n",
       "  <thead>\n",
       "    <tr style=\"text-align: right;\">\n",
       "      <th></th>\n",
       "      <th>ID</th>\n",
       "      <th>Customer_ID</th>\n",
       "      <th>Month</th>\n",
       "      <th>Name</th>\n",
       "      <th>Age</th>\n",
       "      <th>SSN</th>\n",
       "      <th>Occupation</th>\n",
       "      <th>Annual_Income</th>\n",
       "      <th>Monthly_Inhand_Salary</th>\n",
       "      <th>Num_Bank_Accounts</th>\n",
       "      <th>...</th>\n",
       "      <th>Num_Credit_Inquiries</th>\n",
       "      <th>Credit_Mix</th>\n",
       "      <th>Outstanding_Debt</th>\n",
       "      <th>Credit_Utilization_Ratio</th>\n",
       "      <th>Credit_History_Age</th>\n",
       "      <th>Payment_of_Min_Amount</th>\n",
       "      <th>Total_EMI_per_month</th>\n",
       "      <th>Amount_invested_monthly</th>\n",
       "      <th>Payment_Behaviour</th>\n",
       "      <th>Monthly_Balance</th>\n",
       "    </tr>\n",
       "  </thead>\n",
       "  <tbody>\n",
       "    <tr>\n",
       "      <th>0</th>\n",
       "      <td>0x160a</td>\n",
       "      <td>CUS_0xd40</td>\n",
       "      <td>September</td>\n",
       "      <td>Aaron Maashoh</td>\n",
       "      <td>23</td>\n",
       "      <td>821-00-0265</td>\n",
       "      <td>Scientist</td>\n",
       "      <td>19114.12</td>\n",
       "      <td>1824.843333</td>\n",
       "      <td>3</td>\n",
       "      <td>...</td>\n",
       "      <td>2022.0</td>\n",
       "      <td>Good</td>\n",
       "      <td>809.98</td>\n",
       "      <td>35.030402</td>\n",
       "      <td>22 Years and 9 Months</td>\n",
       "      <td>No</td>\n",
       "      <td>49.574949</td>\n",
       "      <td>236.64268203272135</td>\n",
       "      <td>Low_spent_Small_value_payments</td>\n",
       "      <td>186.26670208571772</td>\n",
       "    </tr>\n",
       "    <tr>\n",
       "      <th>1</th>\n",
       "      <td>0x160b</td>\n",
       "      <td>CUS_0xd40</td>\n",
       "      <td>October</td>\n",
       "      <td>Aaron Maashoh</td>\n",
       "      <td>24</td>\n",
       "      <td>821-00-0265</td>\n",
       "      <td>Scientist</td>\n",
       "      <td>19114.12</td>\n",
       "      <td>1824.843333</td>\n",
       "      <td>3</td>\n",
       "      <td>...</td>\n",
       "      <td>4.0</td>\n",
       "      <td>Good</td>\n",
       "      <td>809.98</td>\n",
       "      <td>33.053114</td>\n",
       "      <td>22 Years and 10 Months</td>\n",
       "      <td>No</td>\n",
       "      <td>49.574949</td>\n",
       "      <td>21.465380264657146</td>\n",
       "      <td>High_spent_Medium_value_payments</td>\n",
       "      <td>361.44400385378196</td>\n",
       "    </tr>\n",
       "    <tr>\n",
       "      <th>2</th>\n",
       "      <td>0x160c</td>\n",
       "      <td>CUS_0xd40</td>\n",
       "      <td>November</td>\n",
       "      <td>Aaron Maashoh</td>\n",
       "      <td>24</td>\n",
       "      <td>821-00-0265</td>\n",
       "      <td>Scientist</td>\n",
       "      <td>19114.12</td>\n",
       "      <td>1824.843333</td>\n",
       "      <td>3</td>\n",
       "      <td>...</td>\n",
       "      <td>4.0</td>\n",
       "      <td>Good</td>\n",
       "      <td>809.98</td>\n",
       "      <td>33.811894</td>\n",
       "      <td>NaN</td>\n",
       "      <td>No</td>\n",
       "      <td>49.574949</td>\n",
       "      <td>148.23393788500925</td>\n",
       "      <td>Low_spent_Medium_value_payments</td>\n",
       "      <td>264.67544623342997</td>\n",
       "    </tr>\n",
       "    <tr>\n",
       "      <th>3</th>\n",
       "      <td>0x160d</td>\n",
       "      <td>CUS_0xd40</td>\n",
       "      <td>December</td>\n",
       "      <td>Aaron Maashoh</td>\n",
       "      <td>24_</td>\n",
       "      <td>821-00-0265</td>\n",
       "      <td>Scientist</td>\n",
       "      <td>19114.12</td>\n",
       "      <td>NaN</td>\n",
       "      <td>3</td>\n",
       "      <td>...</td>\n",
       "      <td>4.0</td>\n",
       "      <td>Good</td>\n",
       "      <td>809.98</td>\n",
       "      <td>32.430559</td>\n",
       "      <td>23 Years and 0 Months</td>\n",
       "      <td>No</td>\n",
       "      <td>49.574949</td>\n",
       "      <td>39.08251089460281</td>\n",
       "      <td>High_spent_Medium_value_payments</td>\n",
       "      <td>343.82687322383634</td>\n",
       "    </tr>\n",
       "    <tr>\n",
       "      <th>4</th>\n",
       "      <td>0x1616</td>\n",
       "      <td>CUS_0x21b1</td>\n",
       "      <td>September</td>\n",
       "      <td>Rick Rothackerj</td>\n",
       "      <td>28</td>\n",
       "      <td>004-07-5839</td>\n",
       "      <td>_______</td>\n",
       "      <td>34847.84</td>\n",
       "      <td>3037.986667</td>\n",
       "      <td>2</td>\n",
       "      <td>...</td>\n",
       "      <td>5.0</td>\n",
       "      <td>Good</td>\n",
       "      <td>605.03</td>\n",
       "      <td>25.926822</td>\n",
       "      <td>27 Years and 3 Months</td>\n",
       "      <td>No</td>\n",
       "      <td>18.816215</td>\n",
       "      <td>39.684018417945296</td>\n",
       "      <td>High_spent_Large_value_payments</td>\n",
       "      <td>485.2984336755923</td>\n",
       "    </tr>\n",
       "    <tr>\n",
       "      <th>...</th>\n",
       "      <td>...</td>\n",
       "      <td>...</td>\n",
       "      <td>...</td>\n",
       "      <td>...</td>\n",
       "      <td>...</td>\n",
       "      <td>...</td>\n",
       "      <td>...</td>\n",
       "      <td>...</td>\n",
       "      <td>...</td>\n",
       "      <td>...</td>\n",
       "      <td>...</td>\n",
       "      <td>...</td>\n",
       "      <td>...</td>\n",
       "      <td>...</td>\n",
       "      <td>...</td>\n",
       "      <td>...</td>\n",
       "      <td>...</td>\n",
       "      <td>...</td>\n",
       "      <td>...</td>\n",
       "      <td>...</td>\n",
       "      <td>...</td>\n",
       "    </tr>\n",
       "    <tr>\n",
       "      <th>49995</th>\n",
       "      <td>0x25fe5</td>\n",
       "      <td>CUS_0x8600</td>\n",
       "      <td>December</td>\n",
       "      <td>Sarah McBridec</td>\n",
       "      <td>4975</td>\n",
       "      <td>031-35-0942</td>\n",
       "      <td>Architect</td>\n",
       "      <td>20002.88</td>\n",
       "      <td>1929.906667</td>\n",
       "      <td>10</td>\n",
       "      <td>...</td>\n",
       "      <td>12.0</td>\n",
       "      <td>_</td>\n",
       "      <td>3571.7</td>\n",
       "      <td>34.780553</td>\n",
       "      <td>NaN</td>\n",
       "      <td>Yes</td>\n",
       "      <td>60.964772</td>\n",
       "      <td>146.48632477751087</td>\n",
       "      <td>Low_spent_Small_value_payments</td>\n",
       "      <td>275.53956951573343</td>\n",
       "    </tr>\n",
       "    <tr>\n",
       "      <th>49996</th>\n",
       "      <td>0x25fee</td>\n",
       "      <td>CUS_0x942c</td>\n",
       "      <td>September</td>\n",
       "      <td>Nicks</td>\n",
       "      <td>25</td>\n",
       "      <td>078-73-5990</td>\n",
       "      <td>Mechanic</td>\n",
       "      <td>39628.99</td>\n",
       "      <td>NaN</td>\n",
       "      <td>4</td>\n",
       "      <td>...</td>\n",
       "      <td>7.0</td>\n",
       "      <td>Good</td>\n",
       "      <td>502.38</td>\n",
       "      <td>27.758522</td>\n",
       "      <td>31 Years and 11 Months</td>\n",
       "      <td>NM</td>\n",
       "      <td>35.104023</td>\n",
       "      <td>181.44299902757518</td>\n",
       "      <td>Low_spent_Small_value_payments</td>\n",
       "      <td>409.39456169535066</td>\n",
       "    </tr>\n",
       "    <tr>\n",
       "      <th>49997</th>\n",
       "      <td>0x25fef</td>\n",
       "      <td>CUS_0x942c</td>\n",
       "      <td>October</td>\n",
       "      <td>Nicks</td>\n",
       "      <td>25</td>\n",
       "      <td>078-73-5990</td>\n",
       "      <td>Mechanic</td>\n",
       "      <td>39628.99</td>\n",
       "      <td>3359.415833</td>\n",
       "      <td>4</td>\n",
       "      <td>...</td>\n",
       "      <td>7.0</td>\n",
       "      <td>Good</td>\n",
       "      <td>502.38</td>\n",
       "      <td>36.858542</td>\n",
       "      <td>32 Years and 0 Months</td>\n",
       "      <td>No</td>\n",
       "      <td>35.104023</td>\n",
       "      <td>__10000__</td>\n",
       "      <td>Low_spent_Large_value_payments</td>\n",
       "      <td>349.7263321025098</td>\n",
       "    </tr>\n",
       "    <tr>\n",
       "      <th>49998</th>\n",
       "      <td>0x25ff0</td>\n",
       "      <td>CUS_0x942c</td>\n",
       "      <td>November</td>\n",
       "      <td>Nicks</td>\n",
       "      <td>25</td>\n",
       "      <td>078-73-5990</td>\n",
       "      <td>Mechanic</td>\n",
       "      <td>39628.99</td>\n",
       "      <td>NaN</td>\n",
       "      <td>4</td>\n",
       "      <td>...</td>\n",
       "      <td>7.0</td>\n",
       "      <td>Good</td>\n",
       "      <td>502.38</td>\n",
       "      <td>39.139840</td>\n",
       "      <td>32 Years and 1 Months</td>\n",
       "      <td>No</td>\n",
       "      <td>35.104023</td>\n",
       "      <td>97.59857973344877</td>\n",
       "      <td>High_spent_Small_value_payments</td>\n",
       "      <td>463.23898098947717</td>\n",
       "    </tr>\n",
       "    <tr>\n",
       "      <th>49999</th>\n",
       "      <td>0x25ff1</td>\n",
       "      <td>CUS_0x942c</td>\n",
       "      <td>December</td>\n",
       "      <td>Nicks</td>\n",
       "      <td>25</td>\n",
       "      <td>078-73-5990</td>\n",
       "      <td>Mechanic</td>\n",
       "      <td>39628.99</td>\n",
       "      <td>3359.415833</td>\n",
       "      <td>4</td>\n",
       "      <td>...</td>\n",
       "      <td>7.0</td>\n",
       "      <td>_</td>\n",
       "      <td>502.38</td>\n",
       "      <td>34.108530</td>\n",
       "      <td>32 Years and 2 Months</td>\n",
       "      <td>No</td>\n",
       "      <td>35.104023</td>\n",
       "      <td>220.45787812168732</td>\n",
       "      <td>Low_spent_Medium_value_payments</td>\n",
       "      <td>360.37968260123847</td>\n",
       "    </tr>\n",
       "  </tbody>\n",
       "</table>\n",
       "<p>50000 rows × 27 columns</p>\n",
       "</div>"
      ],
      "text/plain": [
       "            ID Customer_ID      Month             Name   Age          SSN  \\\n",
       "0       0x160a   CUS_0xd40  September    Aaron Maashoh    23  821-00-0265   \n",
       "1       0x160b   CUS_0xd40    October    Aaron Maashoh    24  821-00-0265   \n",
       "2       0x160c   CUS_0xd40   November    Aaron Maashoh    24  821-00-0265   \n",
       "3       0x160d   CUS_0xd40   December    Aaron Maashoh   24_  821-00-0265   \n",
       "4       0x1616  CUS_0x21b1  September  Rick Rothackerj    28  004-07-5839   \n",
       "...        ...         ...        ...              ...   ...          ...   \n",
       "49995  0x25fe5  CUS_0x8600   December   Sarah McBridec  4975  031-35-0942   \n",
       "49996  0x25fee  CUS_0x942c  September            Nicks    25  078-73-5990   \n",
       "49997  0x25fef  CUS_0x942c    October            Nicks    25  078-73-5990   \n",
       "49998  0x25ff0  CUS_0x942c   November            Nicks    25  078-73-5990   \n",
       "49999  0x25ff1  CUS_0x942c   December            Nicks    25  078-73-5990   \n",
       "\n",
       "      Occupation Annual_Income  Monthly_Inhand_Salary  Num_Bank_Accounts  ...  \\\n",
       "0      Scientist      19114.12            1824.843333                  3  ...   \n",
       "1      Scientist      19114.12            1824.843333                  3  ...   \n",
       "2      Scientist      19114.12            1824.843333                  3  ...   \n",
       "3      Scientist      19114.12                    NaN                  3  ...   \n",
       "4        _______      34847.84            3037.986667                  2  ...   \n",
       "...          ...           ...                    ...                ...  ...   \n",
       "49995  Architect      20002.88            1929.906667                 10  ...   \n",
       "49996   Mechanic      39628.99                    NaN                  4  ...   \n",
       "49997   Mechanic      39628.99            3359.415833                  4  ...   \n",
       "49998   Mechanic      39628.99                    NaN                  4  ...   \n",
       "49999   Mechanic      39628.99            3359.415833                  4  ...   \n",
       "\n",
       "       Num_Credit_Inquiries  Credit_Mix Outstanding_Debt  \\\n",
       "0                    2022.0        Good           809.98   \n",
       "1                       4.0        Good           809.98   \n",
       "2                       4.0        Good           809.98   \n",
       "3                       4.0        Good           809.98   \n",
       "4                       5.0        Good           605.03   \n",
       "...                     ...         ...              ...   \n",
       "49995                  12.0           _           3571.7   \n",
       "49996                   7.0        Good           502.38   \n",
       "49997                   7.0        Good           502.38   \n",
       "49998                   7.0        Good           502.38   \n",
       "49999                   7.0           _           502.38   \n",
       "\n",
       "      Credit_Utilization_Ratio      Credit_History_Age Payment_of_Min_Amount  \\\n",
       "0                    35.030402   22 Years and 9 Months                    No   \n",
       "1                    33.053114  22 Years and 10 Months                    No   \n",
       "2                    33.811894                     NaN                    No   \n",
       "3                    32.430559   23 Years and 0 Months                    No   \n",
       "4                    25.926822   27 Years and 3 Months                    No   \n",
       "...                        ...                     ...                   ...   \n",
       "49995                34.780553                     NaN                   Yes   \n",
       "49996                27.758522  31 Years and 11 Months                    NM   \n",
       "49997                36.858542   32 Years and 0 Months                    No   \n",
       "49998                39.139840   32 Years and 1 Months                    No   \n",
       "49999                34.108530   32 Years and 2 Months                    No   \n",
       "\n",
       "      Total_EMI_per_month  Amount_invested_monthly  \\\n",
       "0               49.574949       236.64268203272135   \n",
       "1               49.574949       21.465380264657146   \n",
       "2               49.574949       148.23393788500925   \n",
       "3               49.574949        39.08251089460281   \n",
       "4               18.816215       39.684018417945296   \n",
       "...                   ...                      ...   \n",
       "49995           60.964772       146.48632477751087   \n",
       "49996           35.104023       181.44299902757518   \n",
       "49997           35.104023                __10000__   \n",
       "49998           35.104023        97.59857973344877   \n",
       "49999           35.104023       220.45787812168732   \n",
       "\n",
       "                      Payment_Behaviour     Monthly_Balance  \n",
       "0        Low_spent_Small_value_payments  186.26670208571772  \n",
       "1      High_spent_Medium_value_payments  361.44400385378196  \n",
       "2       Low_spent_Medium_value_payments  264.67544623342997  \n",
       "3      High_spent_Medium_value_payments  343.82687322383634  \n",
       "4       High_spent_Large_value_payments   485.2984336755923  \n",
       "...                                 ...                 ...  \n",
       "49995    Low_spent_Small_value_payments  275.53956951573343  \n",
       "49996    Low_spent_Small_value_payments  409.39456169535066  \n",
       "49997    Low_spent_Large_value_payments   349.7263321025098  \n",
       "49998   High_spent_Small_value_payments  463.23898098947717  \n",
       "49999   Low_spent_Medium_value_payments  360.37968260123847  \n",
       "\n",
       "[50000 rows x 27 columns]"
      ]
     },
     "execution_count": 5,
     "metadata": {},
     "output_type": "execute_result"
    }
   ],
   "source": [
    "df_origin_test = pd.read_csv('./data/test.csv')\n",
    "df_test = df_origin_test.copy()\n",
    "df_test"
   ]
  },
  {
   "cell_type": "markdown",
   "id": "589253e6",
   "metadata": {
    "_cell_guid": "f8d01bce-678b-4bd9-9bf2-f01365ff22dd",
    "_uuid": "59d6b652-0f5d-4bb9-bdd2-efbeb9bd8020",
    "papermill": {
     "duration": 0.033596,
     "end_time": "2022-09-17T17:03:34.013325",
     "exception": false,
     "start_time": "2022-09-17T17:03:33.979729",
     "status": "completed"
    },
    "tags": []
   },
   "source": [
    "## Recognizing and Understanding Data"
   ]
  },
  {
   "cell_type": "markdown",
   "id": "28d061f0",
   "metadata": {
    "_cell_guid": "5cb1a77a-f74d-48d2-8904-9e99d3356d9c",
    "_uuid": "3d40e825-49b7-429a-bcea-4b8b6f1befdd",
    "papermill": {
     "duration": 0.034242,
     "end_time": "2022-09-17T17:03:34.081549",
     "exception": false,
     "start_time": "2022-09-17T17:03:34.047307",
     "status": "completed"
    },
    "tags": []
   },
   "source": [
    "- Check the head, shape, data-types of the features."
   ]
  },
  {
   "cell_type": "code",
   "execution_count": 6,
   "id": "36f66c6d",
   "metadata": {
    "_cell_guid": "97aaf1ec-9bbf-4582-ad7e-4b17c92cd477",
    "_uuid": "b2be0b96-4ced-40a9-9225-974ef2571fd4",
    "collapsed": false,
    "execution": {
     "iopub.execute_input": "2022-09-17T17:03:34.151750Z",
     "iopub.status.busy": "2022-09-17T17:03:34.150979Z",
     "iopub.status.idle": "2022-09-17T17:03:34.158579Z",
     "shell.execute_reply": "2022-09-17T17:03:34.157338Z"
    },
    "jupyter": {
     "outputs_hidden": false
    },
    "papermill": {
     "duration": 0.045072,
     "end_time": "2022-09-17T17:03:34.160796",
     "exception": false,
     "start_time": "2022-09-17T17:03:34.115724",
     "status": "completed"
    },
    "tags": []
   },
   "outputs": [
    {
     "data": {
      "text/plain": [
       "((100000, 28), (50000, 27))"
      ]
     },
     "execution_count": 6,
     "metadata": {},
     "output_type": "execute_result"
    }
   ],
   "source": [
    "df_train.shape, df_test.shape"
   ]
  },
  {
   "cell_type": "code",
   "execution_count": 7,
   "id": "5a68ae50",
   "metadata": {
    "_cell_guid": "c31ae5ed-80d3-47cb-ba7c-fa7f405fd177",
    "_uuid": "a0f166ae-4c1a-45c6-9077-de66562ce2b0",
    "collapsed": false,
    "execution": {
     "iopub.execute_input": "2022-09-17T17:03:34.231744Z",
     "iopub.status.busy": "2022-09-17T17:03:34.231360Z",
     "iopub.status.idle": "2022-09-17T17:03:34.399368Z",
     "shell.execute_reply": "2022-09-17T17:03:34.398251Z"
    },
    "jupyter": {
     "outputs_hidden": false
    },
    "papermill": {
     "duration": 0.206974,
     "end_time": "2022-09-17T17:03:34.402267",
     "exception": false,
     "start_time": "2022-09-17T17:03:34.195293",
     "status": "completed"
    },
    "tags": []
   },
   "outputs": [
    {
     "name": "stdout",
     "output_type": "stream",
     "text": [
      "<class 'pandas.core.frame.DataFrame'>\n",
      "RangeIndex: 100000 entries, 0 to 99999\n",
      "Data columns (total 28 columns):\n",
      " #   Column                    Non-Null Count   Dtype  \n",
      "---  ------                    --------------   -----  \n",
      " 0   ID                        100000 non-null  object \n",
      " 1   Customer_ID               100000 non-null  object \n",
      " 2   Month                     100000 non-null  object \n",
      " 3   Name                      90015 non-null   object \n",
      " 4   Age                       100000 non-null  object \n",
      " 5   SSN                       100000 non-null  object \n",
      " 6   Occupation                100000 non-null  object \n",
      " 7   Annual_Income             100000 non-null  object \n",
      " 8   Monthly_Inhand_Salary     84998 non-null   float64\n",
      " 9   Num_Bank_Accounts         100000 non-null  int64  \n",
      " 10  Num_Credit_Card           100000 non-null  int64  \n",
      " 11  Interest_Rate             100000 non-null  int64  \n",
      " 12  Num_of_Loan               100000 non-null  object \n",
      " 13  Type_of_Loan              88592 non-null   object \n",
      " 14  Delay_from_due_date       100000 non-null  int64  \n",
      " 15  Num_of_Delayed_Payment    92998 non-null   object \n",
      " 16  Changed_Credit_Limit      100000 non-null  object \n",
      " 17  Num_Credit_Inquiries      98035 non-null   float64\n",
      " 18  Credit_Mix                100000 non-null  object \n",
      " 19  Outstanding_Debt          100000 non-null  object \n",
      " 20  Credit_Utilization_Ratio  100000 non-null  float64\n",
      " 21  Credit_History_Age        90970 non-null   object \n",
      " 22  Payment_of_Min_Amount     100000 non-null  object \n",
      " 23  Total_EMI_per_month       100000 non-null  float64\n",
      " 24  Amount_invested_monthly   95521 non-null   object \n",
      " 25  Payment_Behaviour         100000 non-null  object \n",
      " 26  Monthly_Balance           98800 non-null   object \n",
      " 27  Credit_Score              100000 non-null  object \n",
      "dtypes: float64(4), int64(4), object(20)\n",
      "memory usage: 21.4+ MB\n",
      "\n",
      "<class 'pandas.core.frame.DataFrame'>\n",
      "RangeIndex: 50000 entries, 0 to 49999\n",
      "Data columns (total 27 columns):\n",
      " #   Column                    Non-Null Count  Dtype  \n",
      "---  ------                    --------------  -----  \n",
      " 0   ID                        50000 non-null  object \n",
      " 1   Customer_ID               50000 non-null  object \n",
      " 2   Month                     50000 non-null  object \n",
      " 3   Name                      44985 non-null  object \n",
      " 4   Age                       50000 non-null  object \n",
      " 5   SSN                       50000 non-null  object \n",
      " 6   Occupation                50000 non-null  object \n",
      " 7   Annual_Income             50000 non-null  object \n",
      " 8   Monthly_Inhand_Salary     42502 non-null  float64\n",
      " 9   Num_Bank_Accounts         50000 non-null  int64  \n",
      " 10  Num_Credit_Card           50000 non-null  int64  \n",
      " 11  Interest_Rate             50000 non-null  int64  \n",
      " 12  Num_of_Loan               50000 non-null  object \n",
      " 13  Type_of_Loan              44296 non-null  object \n",
      " 14  Delay_from_due_date       50000 non-null  int64  \n",
      " 15  Num_of_Delayed_Payment    46502 non-null  object \n",
      " 16  Changed_Credit_Limit      50000 non-null  object \n",
      " 17  Num_Credit_Inquiries      48965 non-null  float64\n",
      " 18  Credit_Mix                50000 non-null  object \n",
      " 19  Outstanding_Debt          50000 non-null  object \n",
      " 20  Credit_Utilization_Ratio  50000 non-null  float64\n",
      " 21  Credit_History_Age        45530 non-null  object \n",
      " 22  Payment_of_Min_Amount     50000 non-null  object \n",
      " 23  Total_EMI_per_month       50000 non-null  float64\n",
      " 24  Amount_invested_monthly   47729 non-null  object \n",
      " 25  Payment_Behaviour         50000 non-null  object \n",
      " 26  Monthly_Balance           49438 non-null  object \n",
      "dtypes: float64(4), int64(4), object(19)\n",
      "memory usage: 10.3+ MB\n"
     ]
    },
    {
     "data": {
      "text/plain": [
       "None"
      ]
     },
     "metadata": {},
     "output_type": "display_data"
    },
    {
     "data": {
      "text/plain": [
       "None"
      ]
     },
     "metadata": {},
     "output_type": "display_data"
    },
    {
     "data": {
      "text/plain": [
       "None"
      ]
     },
     "metadata": {},
     "output_type": "display_data"
    }
   ],
   "source": [
    "display(\n",
    "    df_train.info(), \n",
    "    print(), \n",
    "    df_test.info()\n",
    ")"
   ]
  },
  {
   "cell_type": "markdown",
   "id": "0c86a8a5",
   "metadata": {
    "_cell_guid": "f7e042c0-d1c0-4eca-9fbe-a37ff9fe3fc1",
    "_uuid": "75339246-7bd1-4e6b-9e27-8b072bbbae21",
    "papermill": {
     "duration": 0.035272,
     "end_time": "2022-09-17T17:03:34.473928",
     "exception": false,
     "start_time": "2022-09-17T17:03:34.438656",
     "status": "completed"
    },
    "tags": []
   },
   "source": [
    "- Check the statistical values of features."
   ]
  },
  {
   "cell_type": "code",
   "execution_count": 8,
   "id": "30e68dc0",
   "metadata": {
    "_cell_guid": "a1192e54-2d65-436e-8ca2-8518711d617d",
    "_uuid": "43ada858-bb0e-46cb-a931-4bf0891dba87",
    "collapsed": false,
    "execution": {
     "iopub.execute_input": "2022-09-17T17:03:34.546108Z",
     "iopub.status.busy": "2022-09-17T17:03:34.545675Z",
     "iopub.status.idle": "2022-09-17T17:03:34.662547Z",
     "shell.execute_reply": "2022-09-17T17:03:34.661351Z"
    },
    "jupyter": {
     "outputs_hidden": false
    },
    "papermill": {
     "duration": 0.155689,
     "end_time": "2022-09-17T17:03:34.664681",
     "exception": false,
     "start_time": "2022-09-17T17:03:34.508992",
     "status": "completed"
    },
    "tags": []
   },
   "outputs": [
    {
     "data": {
      "text/html": [
       "<div>\n",
       "<style scoped>\n",
       "    .dataframe tbody tr th:only-of-type {\n",
       "        vertical-align: middle;\n",
       "    }\n",
       "\n",
       "    .dataframe tbody tr th {\n",
       "        vertical-align: top;\n",
       "    }\n",
       "\n",
       "    .dataframe thead th {\n",
       "        text-align: right;\n",
       "    }\n",
       "</style>\n",
       "<table border=\"1\" class=\"dataframe\">\n",
       "  <thead>\n",
       "    <tr style=\"text-align: right;\">\n",
       "      <th></th>\n",
       "      <th>count</th>\n",
       "      <th>mean</th>\n",
       "      <th>std</th>\n",
       "      <th>min</th>\n",
       "      <th>25%</th>\n",
       "      <th>50%</th>\n",
       "      <th>75%</th>\n",
       "      <th>max</th>\n",
       "    </tr>\n",
       "  </thead>\n",
       "  <tbody>\n",
       "    <tr>\n",
       "      <th>Monthly_Inhand_Salary</th>\n",
       "      <td>84998.0</td>\n",
       "      <td>4194.170850</td>\n",
       "      <td>3183.686167</td>\n",
       "      <td>303.645417</td>\n",
       "      <td>1625.568229</td>\n",
       "      <td>3093.745000</td>\n",
       "      <td>5957.448333</td>\n",
       "      <td>15204.633333</td>\n",
       "    </tr>\n",
       "    <tr>\n",
       "      <th>Num_Bank_Accounts</th>\n",
       "      <td>100000.0</td>\n",
       "      <td>17.091280</td>\n",
       "      <td>117.404834</td>\n",
       "      <td>-1.000000</td>\n",
       "      <td>3.000000</td>\n",
       "      <td>6.000000</td>\n",
       "      <td>7.000000</td>\n",
       "      <td>1798.000000</td>\n",
       "    </tr>\n",
       "    <tr>\n",
       "      <th>Num_Credit_Card</th>\n",
       "      <td>100000.0</td>\n",
       "      <td>22.474430</td>\n",
       "      <td>129.057410</td>\n",
       "      <td>0.000000</td>\n",
       "      <td>4.000000</td>\n",
       "      <td>5.000000</td>\n",
       "      <td>7.000000</td>\n",
       "      <td>1499.000000</td>\n",
       "    </tr>\n",
       "    <tr>\n",
       "      <th>Interest_Rate</th>\n",
       "      <td>100000.0</td>\n",
       "      <td>72.466040</td>\n",
       "      <td>466.422621</td>\n",
       "      <td>1.000000</td>\n",
       "      <td>8.000000</td>\n",
       "      <td>13.000000</td>\n",
       "      <td>20.000000</td>\n",
       "      <td>5797.000000</td>\n",
       "    </tr>\n",
       "    <tr>\n",
       "      <th>Delay_from_due_date</th>\n",
       "      <td>100000.0</td>\n",
       "      <td>21.068780</td>\n",
       "      <td>14.860104</td>\n",
       "      <td>-5.000000</td>\n",
       "      <td>10.000000</td>\n",
       "      <td>18.000000</td>\n",
       "      <td>28.000000</td>\n",
       "      <td>67.000000</td>\n",
       "    </tr>\n",
       "    <tr>\n",
       "      <th>Num_Credit_Inquiries</th>\n",
       "      <td>98035.0</td>\n",
       "      <td>27.754251</td>\n",
       "      <td>193.177339</td>\n",
       "      <td>0.000000</td>\n",
       "      <td>3.000000</td>\n",
       "      <td>6.000000</td>\n",
       "      <td>9.000000</td>\n",
       "      <td>2597.000000</td>\n",
       "    </tr>\n",
       "    <tr>\n",
       "      <th>Credit_Utilization_Ratio</th>\n",
       "      <td>100000.0</td>\n",
       "      <td>32.285173</td>\n",
       "      <td>5.116875</td>\n",
       "      <td>20.000000</td>\n",
       "      <td>28.052567</td>\n",
       "      <td>32.305784</td>\n",
       "      <td>36.496663</td>\n",
       "      <td>50.000000</td>\n",
       "    </tr>\n",
       "    <tr>\n",
       "      <th>Total_EMI_per_month</th>\n",
       "      <td>100000.0</td>\n",
       "      <td>1403.118217</td>\n",
       "      <td>8306.041270</td>\n",
       "      <td>0.000000</td>\n",
       "      <td>30.306660</td>\n",
       "      <td>69.249473</td>\n",
       "      <td>161.224249</td>\n",
       "      <td>82331.000000</td>\n",
       "    </tr>\n",
       "  </tbody>\n",
       "</table>\n",
       "</div>"
      ],
      "text/plain": [
       "                             count         mean          std         min  \\\n",
       "Monthly_Inhand_Salary      84998.0  4194.170850  3183.686167  303.645417   \n",
       "Num_Bank_Accounts         100000.0    17.091280   117.404834   -1.000000   \n",
       "Num_Credit_Card           100000.0    22.474430   129.057410    0.000000   \n",
       "Interest_Rate             100000.0    72.466040   466.422621    1.000000   \n",
       "Delay_from_due_date       100000.0    21.068780    14.860104   -5.000000   \n",
       "Num_Credit_Inquiries       98035.0    27.754251   193.177339    0.000000   \n",
       "Credit_Utilization_Ratio  100000.0    32.285173     5.116875   20.000000   \n",
       "Total_EMI_per_month       100000.0  1403.118217  8306.041270    0.000000   \n",
       "\n",
       "                                  25%          50%          75%           max  \n",
       "Monthly_Inhand_Salary     1625.568229  3093.745000  5957.448333  15204.633333  \n",
       "Num_Bank_Accounts            3.000000     6.000000     7.000000   1798.000000  \n",
       "Num_Credit_Card              4.000000     5.000000     7.000000   1499.000000  \n",
       "Interest_Rate                8.000000    13.000000    20.000000   5797.000000  \n",
       "Delay_from_due_date         10.000000    18.000000    28.000000     67.000000  \n",
       "Num_Credit_Inquiries         3.000000     6.000000     9.000000   2597.000000  \n",
       "Credit_Utilization_Ratio    28.052567    32.305784    36.496663     50.000000  \n",
       "Total_EMI_per_month         30.306660    69.249473   161.224249  82331.000000  "
      ]
     },
     "metadata": {},
     "output_type": "display_data"
    },
    {
     "data": {
      "text/html": [
       "<div>\n",
       "<style scoped>\n",
       "    .dataframe tbody tr th:only-of-type {\n",
       "        vertical-align: middle;\n",
       "    }\n",
       "\n",
       "    .dataframe tbody tr th {\n",
       "        vertical-align: top;\n",
       "    }\n",
       "\n",
       "    .dataframe thead th {\n",
       "        text-align: right;\n",
       "    }\n",
       "</style>\n",
       "<table border=\"1\" class=\"dataframe\">\n",
       "  <thead>\n",
       "    <tr style=\"text-align: right;\">\n",
       "      <th></th>\n",
       "      <th>count</th>\n",
       "      <th>mean</th>\n",
       "      <th>std</th>\n",
       "      <th>min</th>\n",
       "      <th>25%</th>\n",
       "      <th>50%</th>\n",
       "      <th>75%</th>\n",
       "      <th>max</th>\n",
       "    </tr>\n",
       "  </thead>\n",
       "  <tbody>\n",
       "    <tr>\n",
       "      <th>Monthly_Inhand_Salary</th>\n",
       "      <td>42502.0</td>\n",
       "      <td>4182.004291</td>\n",
       "      <td>3174.109304</td>\n",
       "      <td>303.645417</td>\n",
       "      <td>1625.188333</td>\n",
       "      <td>3086.305000</td>\n",
       "      <td>5934.189094</td>\n",
       "      <td>15204.633333</td>\n",
       "    </tr>\n",
       "    <tr>\n",
       "      <th>Num_Bank_Accounts</th>\n",
       "      <td>50000.0</td>\n",
       "      <td>16.838260</td>\n",
       "      <td>116.396848</td>\n",
       "      <td>-1.000000</td>\n",
       "      <td>3.000000</td>\n",
       "      <td>6.000000</td>\n",
       "      <td>7.000000</td>\n",
       "      <td>1798.000000</td>\n",
       "    </tr>\n",
       "    <tr>\n",
       "      <th>Num_Credit_Card</th>\n",
       "      <td>50000.0</td>\n",
       "      <td>22.921480</td>\n",
       "      <td>129.314804</td>\n",
       "      <td>0.000000</td>\n",
       "      <td>4.000000</td>\n",
       "      <td>5.000000</td>\n",
       "      <td>7.000000</td>\n",
       "      <td>1499.000000</td>\n",
       "    </tr>\n",
       "    <tr>\n",
       "      <th>Interest_Rate</th>\n",
       "      <td>50000.0</td>\n",
       "      <td>68.772640</td>\n",
       "      <td>451.602363</td>\n",
       "      <td>1.000000</td>\n",
       "      <td>8.000000</td>\n",
       "      <td>13.000000</td>\n",
       "      <td>20.000000</td>\n",
       "      <td>5799.000000</td>\n",
       "    </tr>\n",
       "    <tr>\n",
       "      <th>Delay_from_due_date</th>\n",
       "      <td>50000.0</td>\n",
       "      <td>21.052640</td>\n",
       "      <td>14.860397</td>\n",
       "      <td>-5.000000</td>\n",
       "      <td>10.000000</td>\n",
       "      <td>18.000000</td>\n",
       "      <td>28.000000</td>\n",
       "      <td>67.000000</td>\n",
       "    </tr>\n",
       "    <tr>\n",
       "      <th>Num_Credit_Inquiries</th>\n",
       "      <td>48965.0</td>\n",
       "      <td>30.080200</td>\n",
       "      <td>196.984121</td>\n",
       "      <td>0.000000</td>\n",
       "      <td>4.000000</td>\n",
       "      <td>7.000000</td>\n",
       "      <td>10.000000</td>\n",
       "      <td>2593.000000</td>\n",
       "    </tr>\n",
       "    <tr>\n",
       "      <th>Credit_Utilization_Ratio</th>\n",
       "      <td>50000.0</td>\n",
       "      <td>32.279581</td>\n",
       "      <td>5.106238</td>\n",
       "      <td>20.509652</td>\n",
       "      <td>28.061040</td>\n",
       "      <td>32.280390</td>\n",
       "      <td>36.468591</td>\n",
       "      <td>48.540663</td>\n",
       "    </tr>\n",
       "    <tr>\n",
       "      <th>Total_EMI_per_month</th>\n",
       "      <td>50000.0</td>\n",
       "      <td>1491.304305</td>\n",
       "      <td>8595.647887</td>\n",
       "      <td>0.000000</td>\n",
       "      <td>32.222388</td>\n",
       "      <td>74.733349</td>\n",
       "      <td>176.157491</td>\n",
       "      <td>82398.000000</td>\n",
       "    </tr>\n",
       "  </tbody>\n",
       "</table>\n",
       "</div>"
      ],
      "text/plain": [
       "                            count         mean          std         min  \\\n",
       "Monthly_Inhand_Salary     42502.0  4182.004291  3174.109304  303.645417   \n",
       "Num_Bank_Accounts         50000.0    16.838260   116.396848   -1.000000   \n",
       "Num_Credit_Card           50000.0    22.921480   129.314804    0.000000   \n",
       "Interest_Rate             50000.0    68.772640   451.602363    1.000000   \n",
       "Delay_from_due_date       50000.0    21.052640    14.860397   -5.000000   \n",
       "Num_Credit_Inquiries      48965.0    30.080200   196.984121    0.000000   \n",
       "Credit_Utilization_Ratio  50000.0    32.279581     5.106238   20.509652   \n",
       "Total_EMI_per_month       50000.0  1491.304305  8595.647887    0.000000   \n",
       "\n",
       "                                  25%          50%          75%           max  \n",
       "Monthly_Inhand_Salary     1625.188333  3086.305000  5934.189094  15204.633333  \n",
       "Num_Bank_Accounts            3.000000     6.000000     7.000000   1798.000000  \n",
       "Num_Credit_Card              4.000000     5.000000     7.000000   1499.000000  \n",
       "Interest_Rate                8.000000    13.000000    20.000000   5799.000000  \n",
       "Delay_from_due_date         10.000000    18.000000    28.000000     67.000000  \n",
       "Num_Credit_Inquiries         4.000000     7.000000    10.000000   2593.000000  \n",
       "Credit_Utilization_Ratio    28.061040    32.280390    36.468591     48.540663  \n",
       "Total_EMI_per_month         32.222388    74.733349   176.157491  82398.000000  "
      ]
     },
     "metadata": {},
     "output_type": "display_data"
    }
   ],
   "source": [
    "display(\n",
    "    df_train.describe().T, \n",
    "    df_test.describe().T\n",
    ")"
   ]
  },
  {
   "cell_type": "code",
   "execution_count": 9,
   "id": "39f5aad0",
   "metadata": {
    "_cell_guid": "500b55b0-71b3-4e9d-b4cb-5d16c00e03a5",
    "_uuid": "77e7011a-a3c9-4f42-b316-c94251deef5c",
    "collapsed": false,
    "execution": {
     "iopub.execute_input": "2022-09-17T17:03:34.741442Z",
     "iopub.status.busy": "2022-09-17T17:03:34.740178Z",
     "iopub.status.idle": "2022-09-17T17:03:35.462285Z",
     "shell.execute_reply": "2022-09-17T17:03:35.460941Z"
    },
    "jupyter": {
     "outputs_hidden": false
    },
    "papermill": {
     "duration": 0.763211,
     "end_time": "2022-09-17T17:03:35.465113",
     "exception": false,
     "start_time": "2022-09-17T17:03:34.701902",
     "status": "completed"
    },
    "tags": []
   },
   "outputs": [
    {
     "data": {
      "text/html": [
       "<div>\n",
       "<style scoped>\n",
       "    .dataframe tbody tr th:only-of-type {\n",
       "        vertical-align: middle;\n",
       "    }\n",
       "\n",
       "    .dataframe tbody tr th {\n",
       "        vertical-align: top;\n",
       "    }\n",
       "\n",
       "    .dataframe thead th {\n",
       "        text-align: right;\n",
       "    }\n",
       "</style>\n",
       "<table border=\"1\" class=\"dataframe\">\n",
       "  <thead>\n",
       "    <tr style=\"text-align: right;\">\n",
       "      <th></th>\n",
       "      <th>count</th>\n",
       "      <th>unique</th>\n",
       "      <th>top</th>\n",
       "      <th>freq</th>\n",
       "    </tr>\n",
       "  </thead>\n",
       "  <tbody>\n",
       "    <tr>\n",
       "      <th>ID</th>\n",
       "      <td>100000</td>\n",
       "      <td>100000</td>\n",
       "      <td>0x1602</td>\n",
       "      <td>1</td>\n",
       "    </tr>\n",
       "    <tr>\n",
       "      <th>Customer_ID</th>\n",
       "      <td>100000</td>\n",
       "      <td>12500</td>\n",
       "      <td>CUS_0xd40</td>\n",
       "      <td>8</td>\n",
       "    </tr>\n",
       "    <tr>\n",
       "      <th>Month</th>\n",
       "      <td>100000</td>\n",
       "      <td>8</td>\n",
       "      <td>January</td>\n",
       "      <td>12500</td>\n",
       "    </tr>\n",
       "    <tr>\n",
       "      <th>Name</th>\n",
       "      <td>90015</td>\n",
       "      <td>10139</td>\n",
       "      <td>Langep</td>\n",
       "      <td>44</td>\n",
       "    </tr>\n",
       "    <tr>\n",
       "      <th>Age</th>\n",
       "      <td>100000</td>\n",
       "      <td>1788</td>\n",
       "      <td>38</td>\n",
       "      <td>2833</td>\n",
       "    </tr>\n",
       "    <tr>\n",
       "      <th>SSN</th>\n",
       "      <td>100000</td>\n",
       "      <td>12501</td>\n",
       "      <td>#F%$D@*&amp;8</td>\n",
       "      <td>5572</td>\n",
       "    </tr>\n",
       "    <tr>\n",
       "      <th>Occupation</th>\n",
       "      <td>100000</td>\n",
       "      <td>16</td>\n",
       "      <td>_______</td>\n",
       "      <td>7062</td>\n",
       "    </tr>\n",
       "    <tr>\n",
       "      <th>Annual_Income</th>\n",
       "      <td>100000</td>\n",
       "      <td>18940</td>\n",
       "      <td>36585.12</td>\n",
       "      <td>16</td>\n",
       "    </tr>\n",
       "    <tr>\n",
       "      <th>Num_of_Loan</th>\n",
       "      <td>100000</td>\n",
       "      <td>434</td>\n",
       "      <td>3</td>\n",
       "      <td>14386</td>\n",
       "    </tr>\n",
       "    <tr>\n",
       "      <th>Type_of_Loan</th>\n",
       "      <td>88592</td>\n",
       "      <td>6260</td>\n",
       "      <td>Not Specified</td>\n",
       "      <td>1408</td>\n",
       "    </tr>\n",
       "    <tr>\n",
       "      <th>Num_of_Delayed_Payment</th>\n",
       "      <td>92998</td>\n",
       "      <td>749</td>\n",
       "      <td>19</td>\n",
       "      <td>5327</td>\n",
       "    </tr>\n",
       "    <tr>\n",
       "      <th>Changed_Credit_Limit</th>\n",
       "      <td>100000</td>\n",
       "      <td>4384</td>\n",
       "      <td>_</td>\n",
       "      <td>2091</td>\n",
       "    </tr>\n",
       "    <tr>\n",
       "      <th>Credit_Mix</th>\n",
       "      <td>100000</td>\n",
       "      <td>4</td>\n",
       "      <td>Standard</td>\n",
       "      <td>36479</td>\n",
       "    </tr>\n",
       "    <tr>\n",
       "      <th>Outstanding_Debt</th>\n",
       "      <td>100000</td>\n",
       "      <td>13178</td>\n",
       "      <td>1360.45</td>\n",
       "      <td>24</td>\n",
       "    </tr>\n",
       "    <tr>\n",
       "      <th>Credit_History_Age</th>\n",
       "      <td>90970</td>\n",
       "      <td>404</td>\n",
       "      <td>15 Years and 11 Months</td>\n",
       "      <td>446</td>\n",
       "    </tr>\n",
       "    <tr>\n",
       "      <th>Payment_of_Min_Amount</th>\n",
       "      <td>100000</td>\n",
       "      <td>3</td>\n",
       "      <td>Yes</td>\n",
       "      <td>52326</td>\n",
       "    </tr>\n",
       "    <tr>\n",
       "      <th>Amount_invested_monthly</th>\n",
       "      <td>95521</td>\n",
       "      <td>91049</td>\n",
       "      <td>__10000__</td>\n",
       "      <td>4305</td>\n",
       "    </tr>\n",
       "    <tr>\n",
       "      <th>Payment_Behaviour</th>\n",
       "      <td>100000</td>\n",
       "      <td>7</td>\n",
       "      <td>Low_spent_Small_value_payments</td>\n",
       "      <td>25513</td>\n",
       "    </tr>\n",
       "    <tr>\n",
       "      <th>Monthly_Balance</th>\n",
       "      <td>98800</td>\n",
       "      <td>98792</td>\n",
       "      <td>__-333333333333333333333333333__</td>\n",
       "      <td>9</td>\n",
       "    </tr>\n",
       "    <tr>\n",
       "      <th>Credit_Score</th>\n",
       "      <td>100000</td>\n",
       "      <td>3</td>\n",
       "      <td>Standard</td>\n",
       "      <td>53174</td>\n",
       "    </tr>\n",
       "  </tbody>\n",
       "</table>\n",
       "</div>"
      ],
      "text/plain": [
       "                          count  unique                               top  \\\n",
       "ID                       100000  100000                            0x1602   \n",
       "Customer_ID              100000   12500                         CUS_0xd40   \n",
       "Month                    100000       8                           January   \n",
       "Name                      90015   10139                            Langep   \n",
       "Age                      100000    1788                                38   \n",
       "SSN                      100000   12501                         #F%$D@*&8   \n",
       "Occupation               100000      16                           _______   \n",
       "Annual_Income            100000   18940                          36585.12   \n",
       "Num_of_Loan              100000     434                                 3   \n",
       "Type_of_Loan              88592    6260                     Not Specified   \n",
       "Num_of_Delayed_Payment    92998     749                                19   \n",
       "Changed_Credit_Limit     100000    4384                                 _   \n",
       "Credit_Mix               100000       4                          Standard   \n",
       "Outstanding_Debt         100000   13178                           1360.45   \n",
       "Credit_History_Age        90970     404            15 Years and 11 Months   \n",
       "Payment_of_Min_Amount    100000       3                               Yes   \n",
       "Amount_invested_monthly   95521   91049                         __10000__   \n",
       "Payment_Behaviour        100000       7    Low_spent_Small_value_payments   \n",
       "Monthly_Balance           98800   98792  __-333333333333333333333333333__   \n",
       "Credit_Score             100000       3                          Standard   \n",
       "\n",
       "                          freq  \n",
       "ID                           1  \n",
       "Customer_ID                  8  \n",
       "Month                    12500  \n",
       "Name                        44  \n",
       "Age                       2833  \n",
       "SSN                       5572  \n",
       "Occupation                7062  \n",
       "Annual_Income               16  \n",
       "Num_of_Loan              14386  \n",
       "Type_of_Loan              1408  \n",
       "Num_of_Delayed_Payment    5327  \n",
       "Changed_Credit_Limit      2091  \n",
       "Credit_Mix               36479  \n",
       "Outstanding_Debt            24  \n",
       "Credit_History_Age         446  \n",
       "Payment_of_Min_Amount    52326  \n",
       "Amount_invested_monthly   4305  \n",
       "Payment_Behaviour        25513  \n",
       "Monthly_Balance              9  \n",
       "Credit_Score             53174  "
      ]
     },
     "metadata": {},
     "output_type": "display_data"
    },
    {
     "data": {
      "text/html": [
       "<div>\n",
       "<style scoped>\n",
       "    .dataframe tbody tr th:only-of-type {\n",
       "        vertical-align: middle;\n",
       "    }\n",
       "\n",
       "    .dataframe tbody tr th {\n",
       "        vertical-align: top;\n",
       "    }\n",
       "\n",
       "    .dataframe thead th {\n",
       "        text-align: right;\n",
       "    }\n",
       "</style>\n",
       "<table border=\"1\" class=\"dataframe\">\n",
       "  <thead>\n",
       "    <tr style=\"text-align: right;\">\n",
       "      <th></th>\n",
       "      <th>count</th>\n",
       "      <th>unique</th>\n",
       "      <th>top</th>\n",
       "      <th>freq</th>\n",
       "    </tr>\n",
       "  </thead>\n",
       "  <tbody>\n",
       "    <tr>\n",
       "      <th>ID</th>\n",
       "      <td>50000</td>\n",
       "      <td>50000</td>\n",
       "      <td>0x160a</td>\n",
       "      <td>1</td>\n",
       "    </tr>\n",
       "    <tr>\n",
       "      <th>Customer_ID</th>\n",
       "      <td>50000</td>\n",
       "      <td>12500</td>\n",
       "      <td>CUS_0xd40</td>\n",
       "      <td>4</td>\n",
       "    </tr>\n",
       "    <tr>\n",
       "      <th>Month</th>\n",
       "      <td>50000</td>\n",
       "      <td>4</td>\n",
       "      <td>September</td>\n",
       "      <td>12500</td>\n",
       "    </tr>\n",
       "    <tr>\n",
       "      <th>Name</th>\n",
       "      <td>44985</td>\n",
       "      <td>10139</td>\n",
       "      <td>Stevex</td>\n",
       "      <td>22</td>\n",
       "    </tr>\n",
       "    <tr>\n",
       "      <th>Age</th>\n",
       "      <td>50000</td>\n",
       "      <td>976</td>\n",
       "      <td>39</td>\n",
       "      <td>1493</td>\n",
       "    </tr>\n",
       "    <tr>\n",
       "      <th>SSN</th>\n",
       "      <td>50000</td>\n",
       "      <td>12501</td>\n",
       "      <td>#F%$D@*&amp;8</td>\n",
       "      <td>2828</td>\n",
       "    </tr>\n",
       "    <tr>\n",
       "      <th>Occupation</th>\n",
       "      <td>50000</td>\n",
       "      <td>16</td>\n",
       "      <td>_______</td>\n",
       "      <td>3438</td>\n",
       "    </tr>\n",
       "    <tr>\n",
       "      <th>Annual_Income</th>\n",
       "      <td>50000</td>\n",
       "      <td>16121</td>\n",
       "      <td>109945.32</td>\n",
       "      <td>8</td>\n",
       "    </tr>\n",
       "    <tr>\n",
       "      <th>Num_of_Loan</th>\n",
       "      <td>50000</td>\n",
       "      <td>263</td>\n",
       "      <td>2</td>\n",
       "      <td>7173</td>\n",
       "    </tr>\n",
       "    <tr>\n",
       "      <th>Type_of_Loan</th>\n",
       "      <td>44296</td>\n",
       "      <td>6260</td>\n",
       "      <td>Not Specified</td>\n",
       "      <td>704</td>\n",
       "    </tr>\n",
       "    <tr>\n",
       "      <th>Num_of_Delayed_Payment</th>\n",
       "      <td>46502</td>\n",
       "      <td>443</td>\n",
       "      <td>19</td>\n",
       "      <td>2622</td>\n",
       "    </tr>\n",
       "    <tr>\n",
       "      <th>Changed_Credit_Limit</th>\n",
       "      <td>50000</td>\n",
       "      <td>3927</td>\n",
       "      <td>_</td>\n",
       "      <td>1059</td>\n",
       "    </tr>\n",
       "    <tr>\n",
       "      <th>Credit_Mix</th>\n",
       "      <td>50000</td>\n",
       "      <td>4</td>\n",
       "      <td>Standard</td>\n",
       "      <td>18379</td>\n",
       "    </tr>\n",
       "    <tr>\n",
       "      <th>Outstanding_Debt</th>\n",
       "      <td>50000</td>\n",
       "      <td>12685</td>\n",
       "      <td>1109.03</td>\n",
       "      <td>12</td>\n",
       "    </tr>\n",
       "    <tr>\n",
       "      <th>Credit_History_Age</th>\n",
       "      <td>45530</td>\n",
       "      <td>399</td>\n",
       "      <td>20 Years and 1 Months</td>\n",
       "      <td>254</td>\n",
       "    </tr>\n",
       "    <tr>\n",
       "      <th>Payment_of_Min_Amount</th>\n",
       "      <td>50000</td>\n",
       "      <td>3</td>\n",
       "      <td>Yes</td>\n",
       "      <td>26158</td>\n",
       "    </tr>\n",
       "    <tr>\n",
       "      <th>Amount_invested_monthly</th>\n",
       "      <td>47729</td>\n",
       "      <td>45450</td>\n",
       "      <td>__10000__</td>\n",
       "      <td>2175</td>\n",
       "    </tr>\n",
       "    <tr>\n",
       "      <th>Payment_Behaviour</th>\n",
       "      <td>50000</td>\n",
       "      <td>7</td>\n",
       "      <td>Low_spent_Small_value_payments</td>\n",
       "      <td>12694</td>\n",
       "    </tr>\n",
       "    <tr>\n",
       "      <th>Monthly_Balance</th>\n",
       "      <td>49438</td>\n",
       "      <td>49433</td>\n",
       "      <td>__-333333333333333333333333333__</td>\n",
       "      <td>6</td>\n",
       "    </tr>\n",
       "  </tbody>\n",
       "</table>\n",
       "</div>"
      ],
      "text/plain": [
       "                         count unique                               top   freq\n",
       "ID                       50000  50000                            0x160a      1\n",
       "Customer_ID              50000  12500                         CUS_0xd40      4\n",
       "Month                    50000      4                         September  12500\n",
       "Name                     44985  10139                            Stevex     22\n",
       "Age                      50000    976                                39   1493\n",
       "SSN                      50000  12501                         #F%$D@*&8   2828\n",
       "Occupation               50000     16                           _______   3438\n",
       "Annual_Income            50000  16121                         109945.32      8\n",
       "Num_of_Loan              50000    263                                 2   7173\n",
       "Type_of_Loan             44296   6260                     Not Specified    704\n",
       "Num_of_Delayed_Payment   46502    443                                19   2622\n",
       "Changed_Credit_Limit     50000   3927                                 _   1059\n",
       "Credit_Mix               50000      4                          Standard  18379\n",
       "Outstanding_Debt         50000  12685                           1109.03     12\n",
       "Credit_History_Age       45530    399             20 Years and 1 Months    254\n",
       "Payment_of_Min_Amount    50000      3                               Yes  26158\n",
       "Amount_invested_monthly  47729  45450                         __10000__   2175\n",
       "Payment_Behaviour        50000      7    Low_spent_Small_value_payments  12694\n",
       "Monthly_Balance          49438  49433  __-333333333333333333333333333__      6"
      ]
     },
     "metadata": {},
     "output_type": "display_data"
    }
   ],
   "source": [
    "display(\n",
    "    df_train.describe(exclude=np.number).T, \n",
    "    df_test.describe(exclude=np.number).T\n",
    ")"
   ]
  },
  {
   "cell_type": "markdown",
   "id": "7db7a4de",
   "metadata": {
    "_cell_guid": "1b07299e-bb05-4d00-a468-ecae05605657",
    "_uuid": "7d0d6860-48c8-4940-b80b-851d0462b8c0",
    "papermill": {
     "duration": 0.037942,
     "end_time": "2022-09-17T17:03:35.541560",
     "exception": false,
     "start_time": "2022-09-17T17:03:35.503618",
     "status": "completed"
    },
    "tags": []
   },
   "source": [
    "- Basically check the missing values"
   ]
  },
  {
   "cell_type": "code",
   "execution_count": 10,
   "id": "e995e2ef",
   "metadata": {
    "execution": {
     "iopub.execute_input": "2022-09-17T17:03:35.616368Z",
     "iopub.status.busy": "2022-09-17T17:03:35.615337Z",
     "iopub.status.idle": "2022-09-17T17:03:35.626757Z",
     "shell.execute_reply": "2022-09-17T17:03:35.625910Z"
    },
    "papermill": {
     "duration": 0.051049,
     "end_time": "2022-09-17T17:03:35.628970",
     "exception": false,
     "start_time": "2022-09-17T17:03:35.577921",
     "status": "completed"
    },
    "tags": []
   },
   "outputs": [
    {
     "data": {
      "text/plain": [
       "0"
      ]
     },
     "execution_count": 10,
     "metadata": {},
     "output_type": "execute_result"
    }
   ],
   "source": [
    "df_train['Credit_Score'].isna().sum()"
   ]
  },
  {
   "cell_type": "code",
   "execution_count": 11,
   "id": "4bf66343",
   "metadata": {
    "execution": {
     "iopub.execute_input": "2022-09-17T17:03:35.704170Z",
     "iopub.status.busy": "2022-09-17T17:03:35.703428Z",
     "iopub.status.idle": "2022-09-17T17:03:35.710158Z",
     "shell.execute_reply": "2022-09-17T17:03:35.709299Z"
    },
    "papermill": {
     "duration": 0.04739,
     "end_time": "2022-09-17T17:03:35.712660",
     "exception": false,
     "start_time": "2022-09-17T17:03:35.665270",
     "status": "completed"
    },
    "tags": []
   },
   "outputs": [
    {
     "data": {
      "text/plain": [
       "0"
      ]
     },
     "execution_count": 11,
     "metadata": {},
     "output_type": "execute_result"
    }
   ],
   "source": [
    "(df_train.columns[:-1]!=df_test.columns).sum()"
   ]
  },
  {
   "cell_type": "code",
   "execution_count": 12,
   "id": "0320671d",
   "metadata": {
    "execution": {
     "iopub.execute_input": "2022-09-17T17:03:35.789721Z",
     "iopub.status.busy": "2022-09-17T17:03:35.788978Z",
     "iopub.status.idle": "2022-09-17T17:03:35.900214Z",
     "shell.execute_reply": "2022-09-17T17:03:35.899369Z"
    },
    "papermill": {
     "duration": 0.152005,
     "end_time": "2022-09-17T17:03:35.902710",
     "exception": false,
     "start_time": "2022-09-17T17:03:35.750705",
     "status": "completed"
    },
    "tags": []
   },
   "outputs": [
    {
     "data": {
      "text/plain": [
       "(150000, 28)"
      ]
     },
     "execution_count": 12,
     "metadata": {},
     "output_type": "execute_result"
    }
   ],
   "source": [
    "df = pd.concat([df_train, df_test], ignore_index=True)\n",
    "df.shape"
   ]
  },
  {
   "cell_type": "code",
   "execution_count": 13,
   "id": "8ca1244f",
   "metadata": {
    "execution": {
     "iopub.execute_input": "2022-09-17T17:03:35.978725Z",
     "iopub.status.busy": "2022-09-17T17:03:35.977946Z",
     "iopub.status.idle": "2022-09-17T17:03:35.991995Z",
     "shell.execute_reply": "2022-09-17T17:03:35.990939Z"
    },
    "papermill": {
     "duration": 0.055044,
     "end_time": "2022-09-17T17:03:35.994492",
     "exception": false,
     "start_time": "2022-09-17T17:03:35.939448",
     "status": "completed"
    },
    "tags": []
   },
   "outputs": [
    {
     "data": {
      "text/plain": [
       "50000"
      ]
     },
     "execution_count": 13,
     "metadata": {},
     "output_type": "execute_result"
    }
   ],
   "source": [
    "df['Credit_Score'].isna().sum()"
   ]
  },
  {
   "cell_type": "code",
   "execution_count": 14,
   "id": "04f95bd7",
   "metadata": {
    "_cell_guid": "4947d9b1-6e39-484a-b5d8-7f8a3d85e3d9",
    "_uuid": "c413b3f1-eaa0-481d-853c-8ea8cd574917",
    "collapsed": false,
    "execution": {
     "iopub.execute_input": "2022-09-17T17:03:36.071702Z",
     "iopub.status.busy": "2022-09-17T17:03:36.070826Z",
     "iopub.status.idle": "2022-09-17T17:03:36.214541Z",
     "shell.execute_reply": "2022-09-17T17:03:36.213313Z"
    },
    "jupyter": {
     "outputs_hidden": false
    },
    "papermill": {
     "duration": 0.185824,
     "end_time": "2022-09-17T17:03:36.217331",
     "exception": false,
     "start_time": "2022-09-17T17:03:36.031507",
     "status": "completed"
    },
    "tags": []
   },
   "outputs": [
    {
     "data": {
      "text/plain": [
       "ID                              0\n",
       "Customer_ID                     0\n",
       "Month                           0\n",
       "Name                        15000\n",
       "Age                             0\n",
       "SSN                             0\n",
       "Occupation                      0\n",
       "Annual_Income                   0\n",
       "Monthly_Inhand_Salary       22500\n",
       "Num_Bank_Accounts               0\n",
       "Num_Credit_Card                 0\n",
       "Interest_Rate                   0\n",
       "Num_of_Loan                     0\n",
       "Type_of_Loan                17112\n",
       "Delay_from_due_date             0\n",
       "Num_of_Delayed_Payment      10500\n",
       "Changed_Credit_Limit            0\n",
       "Num_Credit_Inquiries         3000\n",
       "Credit_Mix                      0\n",
       "Outstanding_Debt                0\n",
       "Credit_Utilization_Ratio        0\n",
       "Credit_History_Age          13500\n",
       "Payment_of_Min_Amount           0\n",
       "Total_EMI_per_month             0\n",
       "Amount_invested_monthly      6750\n",
       "Payment_Behaviour               0\n",
       "Monthly_Balance              1762\n",
       "Credit_Score                50000\n",
       "dtype: int64"
      ]
     },
     "execution_count": 14,
     "metadata": {},
     "output_type": "execute_result"
    }
   ],
   "source": [
    "df.isna().sum()"
   ]
  },
  {
   "cell_type": "code",
   "execution_count": 15,
   "id": "84edb611",
   "metadata": {
    "_cell_guid": "c2cc2abb-a6c4-4b2d-b485-f23026b273b9",
    "_uuid": "2be84542-0ad8-43f6-8199-b69f443100c6",
    "collapsed": false,
    "execution": {
     "iopub.execute_input": "2022-09-17T17:03:36.295338Z",
     "iopub.status.busy": "2022-09-17T17:03:36.294228Z",
     "iopub.status.idle": "2022-09-17T17:03:36.433854Z",
     "shell.execute_reply": "2022-09-17T17:03:36.433004Z"
    },
    "jupyter": {
     "outputs_hidden": false
    },
    "papermill": {
     "duration": 0.180875,
     "end_time": "2022-09-17T17:03:36.436070",
     "exception": false,
     "start_time": "2022-09-17T17:03:36.255195",
     "status": "completed"
    },
    "tags": []
   },
   "outputs": [
    {
     "data": {
      "text/plain": [
       "ID                           0.000000\n",
       "Customer_ID                  0.000000\n",
       "Month                        0.000000\n",
       "Name                        10.000000\n",
       "Age                          0.000000\n",
       "SSN                          0.000000\n",
       "Occupation                   0.000000\n",
       "Annual_Income                0.000000\n",
       "Monthly_Inhand_Salary       15.000000\n",
       "Num_Bank_Accounts            0.000000\n",
       "Num_Credit_Card              0.000000\n",
       "Interest_Rate                0.000000\n",
       "Num_of_Loan                  0.000000\n",
       "Type_of_Loan                11.408000\n",
       "Delay_from_due_date          0.000000\n",
       "Num_of_Delayed_Payment       7.000000\n",
       "Changed_Credit_Limit         0.000000\n",
       "Num_Credit_Inquiries         2.000000\n",
       "Credit_Mix                   0.000000\n",
       "Outstanding_Debt             0.000000\n",
       "Credit_Utilization_Ratio     0.000000\n",
       "Credit_History_Age           9.000000\n",
       "Payment_of_Min_Amount        0.000000\n",
       "Total_EMI_per_month          0.000000\n",
       "Amount_invested_monthly      4.500000\n",
       "Payment_Behaviour            0.000000\n",
       "Monthly_Balance              1.174667\n",
       "Credit_Score                33.333333\n",
       "dtype: float64"
      ]
     },
     "execution_count": 15,
     "metadata": {},
     "output_type": "execute_result"
    }
   ],
   "source": [
    "df.isnull().mean()*100"
   ]
  },
  {
   "cell_type": "markdown",
   "id": "8b51d587",
   "metadata": {
    "_cell_guid": "fd57f1d8-f2d5-4036-b88f-c793ea162fd0",
    "_uuid": "65b84721-edd8-4d81-a1f5-2493b0c69072",
    "papermill": {
     "duration": 0.03813,
     "end_time": "2022-09-17T17:03:36.513321",
     "exception": false,
     "start_time": "2022-09-17T17:03:36.475191",
     "status": "completed"
    },
    "tags": []
   },
   "source": [
    "## If needed, rename the columns' names for easy use."
   ]
  },
  {
   "cell_type": "code",
   "execution_count": 16,
   "id": "3b08d783",
   "metadata": {
    "_cell_guid": "724a23c2-43f8-43c9-aaf1-02bcc376a9ce",
    "_uuid": "ab503312-b562-4334-9a9a-5ae3531f8686",
    "collapsed": false,
    "execution": {
     "iopub.execute_input": "2022-09-17T17:03:36.589833Z",
     "iopub.status.busy": "2022-09-17T17:03:36.588726Z",
     "iopub.status.idle": "2022-09-17T17:03:36.597060Z",
     "shell.execute_reply": "2022-09-17T17:03:36.595939Z"
    },
    "jupyter": {
     "outputs_hidden": false
    },
    "papermill": {
     "duration": 0.048848,
     "end_time": "2022-09-17T17:03:36.599205",
     "exception": false,
     "start_time": "2022-09-17T17:03:36.550357",
     "status": "completed"
    },
    "tags": []
   },
   "outputs": [
    {
     "data": {
      "text/plain": [
       "Index(['ID', 'Customer_ID', 'Month', 'Name', 'Age', 'SSN', 'Occupation',\n",
       "       'Annual_Income', 'Monthly_Inhand_Salary', 'Num_Bank_Accounts',\n",
       "       'Num_Credit_Card', 'Interest_Rate', 'Num_of_Loan', 'Type_of_Loan',\n",
       "       'Delay_from_due_date', 'Num_of_Delayed_Payment', 'Changed_Credit_Limit',\n",
       "       'Num_Credit_Inquiries', 'Credit_Mix', 'Outstanding_Debt',\n",
       "       'Credit_Utilization_Ratio', 'Credit_History_Age',\n",
       "       'Payment_of_Min_Amount', 'Total_EMI_per_month',\n",
       "       'Amount_invested_monthly', 'Payment_Behaviour', 'Monthly_Balance',\n",
       "       'Credit_Score'],\n",
       "      dtype='object')"
      ]
     },
     "execution_count": 16,
     "metadata": {},
     "output_type": "execute_result"
    }
   ],
   "source": [
    "df.columns"
   ]
  },
  {
   "cell_type": "markdown",
   "id": "7d75750d",
   "metadata": {
    "_cell_guid": "6c6b00bc-c10d-406c-82d2-b5c0d848797d",
    "_uuid": "e5fe6155-32ed-43b6-a9ad-6a0c118de736",
    "papermill": {
     "duration": 0.036624,
     "end_time": "2022-09-17T17:03:36.672438",
     "exception": false,
     "start_time": "2022-09-17T17:03:36.635814",
     "status": "completed"
    },
    "tags": []
   },
   "source": [
    "## Examining the Data"
   ]
  },
  {
   "cell_type": "code",
   "execution_count": 17,
   "id": "24b2cc27",
   "metadata": {
    "_cell_guid": "8910eb4d-5b26-4907-8e87-0f0461d45a64",
    "_uuid": "a50664b4-8f4b-4c2e-9033-a8b3dce1871a",
    "collapsed": false,
    "execution": {
     "iopub.execute_input": "2022-09-17T17:03:36.748940Z",
     "iopub.status.busy": "2022-09-17T17:03:36.748272Z",
     "iopub.status.idle": "2022-09-17T17:03:37.051642Z",
     "shell.execute_reply": "2022-09-17T17:03:37.050038Z"
    },
    "jupyter": {
     "outputs_hidden": false
    },
    "papermill": {
     "duration": 0.344781,
     "end_time": "2022-09-17T17:03:37.054365",
     "exception": false,
     "start_time": "2022-09-17T17:03:36.709584",
     "status": "completed"
    },
    "tags": []
   },
   "outputs": [
    {
     "name": "stdout",
     "output_type": "stream",
     "text": [
      "<class 'pandas.core.frame.DataFrame'>\n",
      "RangeIndex: 150000 entries, 0 to 149999\n",
      "Data columns (total 20 columns):\n",
      " #   Column                   Non-Null Count   Dtype \n",
      "---  ------                   --------------   ----- \n",
      " 0   ID                       150000 non-null  object\n",
      " 1   Customer_ID              150000 non-null  object\n",
      " 2   Month                    150000 non-null  object\n",
      " 3   Name                     135000 non-null  object\n",
      " 4   Age                      150000 non-null  object\n",
      " 5   SSN                      150000 non-null  object\n",
      " 6   Occupation               150000 non-null  object\n",
      " 7   Annual_Income            150000 non-null  object\n",
      " 8   Num_of_Loan              150000 non-null  object\n",
      " 9   Type_of_Loan             132888 non-null  object\n",
      " 10  Num_of_Delayed_Payment   139500 non-null  object\n",
      " 11  Changed_Credit_Limit     150000 non-null  object\n",
      " 12  Credit_Mix               150000 non-null  object\n",
      " 13  Outstanding_Debt         150000 non-null  object\n",
      " 14  Credit_History_Age       136500 non-null  object\n",
      " 15  Payment_of_Min_Amount    150000 non-null  object\n",
      " 16  Amount_invested_monthly  143250 non-null  object\n",
      " 17  Payment_Behaviour        150000 non-null  object\n",
      " 18  Monthly_Balance          148238 non-null  object\n",
      " 19  Credit_Score             100000 non-null  object\n",
      "dtypes: object(20)\n",
      "memory usage: 22.9+ MB\n"
     ]
    }
   ],
   "source": [
    "df.select_dtypes('O').info()"
   ]
  },
  {
   "cell_type": "markdown",
   "id": "badebf4b",
   "metadata": {
    "_cell_guid": "4e46e219-8a1f-4513-987f-e1efba140c77",
    "_uuid": "1298f2fa-2534-49e7-8f46-fa75a5fc2455",
    "papermill": {
     "duration": 0.036823,
     "end_time": "2022-09-17T17:03:37.128899",
     "exception": false,
     "start_time": "2022-09-17T17:03:37.092076",
     "status": "completed"
    },
    "tags": []
   },
   "source": [
    "- Detect strange values apart from the NaN Values"
   ]
  },
  {
   "cell_type": "code",
   "execution_count": 18,
   "id": "2350f2c4",
   "metadata": {
    "_cell_guid": "82ce6303-597b-420c-9f5f-fda4bffe14e9",
    "_uuid": "d04e3963-3a33-4cab-bed4-3d7a75e57fca",
    "collapsed": false,
    "execution": {
     "iopub.execute_input": "2022-09-17T17:03:37.205976Z",
     "iopub.status.busy": "2022-09-17T17:03:37.204919Z",
     "iopub.status.idle": "2022-09-17T17:03:37.899095Z",
     "shell.execute_reply": "2022-09-17T17:03:37.898152Z"
    },
    "jupyter": {
     "outputs_hidden": false
    },
    "papermill": {
     "duration": 0.735204,
     "end_time": "2022-09-17T17:03:37.901339",
     "exception": false,
     "start_time": "2022-09-17T17:03:37.166135",
     "status": "completed"
    },
    "tags": []
   },
   "outputs": [
    {
     "data": {
      "text/plain": [
       "Index(['ID', 'Customer_ID', 'Month', 'Name', 'Age', 'SSN', 'Occupation',\n",
       "       'Annual_Income', 'Num_of_Loan', 'Type_of_Loan',\n",
       "       'Num_of_Delayed_Payment', 'Changed_Credit_Limit', 'Credit_Mix',\n",
       "       'Outstanding_Debt', 'Credit_History_Age', 'Payment_of_Min_Amount',\n",
       "       'Amount_invested_monthly', 'Payment_Behaviour', 'Monthly_Balance',\n",
       "       'Credit_Score'],\n",
       "      dtype='object')"
      ]
     },
     "execution_count": 18,
     "metadata": {},
     "output_type": "execute_result"
    }
   ],
   "source": [
    "object_col = df.describe(include='O').columns\n",
    "object_col"
   ]
  },
  {
   "cell_type": "code",
   "execution_count": 19,
   "id": "029e9477",
   "metadata": {},
   "outputs": [
    {
     "data": {
      "text/plain": [
       "8.0"
      ]
     },
     "execution_count": 19,
     "metadata": {},
     "output_type": "execute_result"
    }
   ],
   "source": [
    "# Datos tipo Panel: Cada usuario tiene exactamente 8 registros en distintas fechas\n",
    "df_train['Customer_ID'].value_counts(dropna=False).mean()"
   ]
  },
  {
   "cell_type": "code",
   "execution_count": 20,
   "id": "8f8e8f17",
   "metadata": {
    "_cell_guid": "eca57286-5cda-4070-a3b3-e880332d6689",
    "_uuid": "b1951cff-6f49-4db7-850d-989f5609a52e",
    "collapsed": false,
    "execution": {
     "iopub.execute_input": "2022-09-17T17:03:37.980157Z",
     "iopub.status.busy": "2022-09-17T17:03:37.979682Z",
     "iopub.status.idle": "2022-09-17T17:03:38.300272Z",
     "shell.execute_reply": "2022-09-17T17:03:38.299021Z"
    },
    "jupyter": {
     "outputs_hidden": false
    },
    "papermill": {
     "duration": 0.363319,
     "end_time": "2022-09-17T17:03:38.302654",
     "exception": false,
     "start_time": "2022-09-17T17:03:37.939335",
     "status": "completed"
    },
    "tags": []
   },
   "outputs": [
    {
     "name": "stdout",
     "output_type": "stream",
     "text": [
      "Column Name: ID\n",
      "****************************************\n",
      "0x1602     1\n",
      "0x19c88    1\n",
      "0x19caa    1\n",
      "0x19ca5    1\n",
      "0x19ca4    1\n",
      "          ..\n",
      "0xd94d     1\n",
      "0xd94c     1\n",
      "0xd94b     1\n",
      "0xd94a     1\n",
      "0x25fed    1\n",
      "Name: ID, Length: 100000, dtype: int64\n",
      "END ------------------------------------ \n",
      "\n",
      "Column Name: Customer_ID\n",
      "****************************************\n",
      "CUS_0xd40     8\n",
      "CUS_0x9bf4    8\n",
      "CUS_0x5ae3    8\n",
      "CUS_0xbe9a    8\n",
      "CUS_0x4874    8\n",
      "             ..\n",
      "CUS_0x2eb4    8\n",
      "CUS_0x7863    8\n",
      "CUS_0x9d89    8\n",
      "CUS_0xc045    8\n",
      "CUS_0x942c    8\n",
      "Name: Customer_ID, Length: 12500, dtype: int64\n",
      "END ------------------------------------ \n",
      "\n",
      "Column Name: Month\n",
      "****************************************\n",
      "January     12500\n",
      "February    12500\n",
      "March       12500\n",
      "April       12500\n",
      "May         12500\n",
      "June        12500\n",
      "July        12500\n",
      "August      12500\n",
      "Name: Month, dtype: int64\n",
      "END ------------------------------------ \n",
      "\n",
      "Column Name: Name\n",
      "****************************************\n",
      "NaN               9985\n",
      "Stevex              44\n",
      "Langep              44\n",
      "Jessicad            39\n",
      "Vaughanl            39\n",
      "                  ... \n",
      "Robin Pomeroyz       4\n",
      "Matt Scuffhamk       4\n",
      "Julieno              4\n",
      "Bavierq              4\n",
      "Timothyl             3\n",
      "Name: Name, Length: 10140, dtype: int64\n",
      "END ------------------------------------ \n",
      "\n",
      "Column Name: Age\n",
      "****************************************\n",
      "38      2833\n",
      "28      2829\n",
      "31      2806\n",
      "26      2792\n",
      "32      2749\n",
      "        ... \n",
      "471        1\n",
      "1520       1\n",
      "8663       1\n",
      "3363       1\n",
      "1342       1\n",
      "Name: Age, Length: 1788, dtype: int64\n",
      "END ------------------------------------ \n",
      "\n",
      "Column Name: SSN\n",
      "****************************************\n",
      "#F%$D@*&8      5572\n",
      "078-73-5990       8\n",
      "486-78-3816       8\n",
      "750-67-7525       8\n",
      "903-50-0305       8\n",
      "               ... \n",
      "856-06-6147       4\n",
      "753-72-2651       4\n",
      "331-28-1921       4\n",
      "604-62-6133       4\n",
      "286-44-9634       4\n",
      "Name: SSN, Length: 12501, dtype: int64\n",
      "END ------------------------------------ \n",
      "\n",
      "Column Name: Occupation\n",
      "****************************************\n",
      "_______          7062\n",
      "Lawyer           6575\n",
      "Architect        6355\n",
      "Engineer         6350\n",
      "Scientist        6299\n",
      "Mechanic         6291\n",
      "Accountant       6271\n",
      "Developer        6235\n",
      "Media_Manager    6232\n",
      "Teacher          6215\n",
      "Entrepreneur     6174\n",
      "Doctor           6087\n",
      "Journalist       6085\n",
      "Manager          5973\n",
      "Musician         5911\n",
      "Writer           5885\n",
      "Name: Occupation, dtype: int64\n",
      "END ------------------------------------ \n",
      "\n",
      "Column Name: Annual_Income\n",
      "****************************************\n",
      "36585.12     16\n",
      "20867.67     16\n",
      "17273.83     16\n",
      "9141.63      15\n",
      "33029.66     15\n",
      "             ..\n",
      "20269.93_     1\n",
      "15157.25_     1\n",
      "44955.64_     1\n",
      "76650.12_     1\n",
      "4262933.0     1\n",
      "Name: Annual_Income, Length: 18940, dtype: int64\n",
      "END ------------------------------------ \n",
      "\n",
      "Column Name: Num_of_Loan\n",
      "****************************************\n",
      "3        14386\n",
      "2        14250\n",
      "4        14016\n",
      "0        10380\n",
      "1        10083\n",
      "         ...  \n",
      "1320_        1\n",
      "103          1\n",
      "1444         1\n",
      "392          1\n",
      "966          1\n",
      "Name: Num_of_Loan, Length: 434, dtype: int64\n",
      "END ------------------------------------ \n",
      "\n",
      "Column Name: Type_of_Loan\n",
      "****************************************\n",
      "NaN                                                                                                                                   11408\n",
      "Not Specified                                                                                                                          1408\n",
      "Credit-Builder Loan                                                                                                                    1280\n",
      "Personal Loan                                                                                                                          1272\n",
      "Debt Consolidation Loan                                                                                                                1264\n",
      "                                                                                                                                      ...  \n",
      "Not Specified, Mortgage Loan, Auto Loan, and Payday Loan                                                                                  8\n",
      "Payday Loan, Mortgage Loan, Debt Consolidation Loan, and Student Loan                                                                     8\n",
      "Debt Consolidation Loan, Auto Loan, Personal Loan, Debt Consolidation Loan, Student Loan, and Credit-Builder Loan                         8\n",
      "Student Loan, Auto Loan, Student Loan, Credit-Builder Loan, Home Equity Loan, Debt Consolidation Loan, and Debt Consolidation Loan        8\n",
      "Personal Loan, Auto Loan, Mortgage Loan, Student Loan, and Student Loan                                                                   8\n",
      "Name: Type_of_Loan, Length: 6261, dtype: int64\n",
      "END ------------------------------------ \n",
      "\n",
      "Column Name: Num_of_Delayed_Payment\n",
      "****************************************\n",
      "NaN     7002\n",
      "19      5327\n",
      "17      5261\n",
      "16      5173\n",
      "10      5153\n",
      "        ... \n",
      "848_       1\n",
      "4134       1\n",
      "1530       1\n",
      "1502       1\n",
      "2047       1\n",
      "Name: Num_of_Delayed_Payment, Length: 750, dtype: int64\n",
      "END ------------------------------------ \n",
      "\n",
      "Column Name: Changed_Credit_Limit\n",
      "****************************************\n",
      "_                     2091\n",
      "8.22                   133\n",
      "11.5                   127\n",
      "11.32                  126\n",
      "7.35                   121\n",
      "                      ... \n",
      "-1.84                    1\n",
      "0.8899999999999999       1\n",
      "28.06                    1\n",
      "1.5599999999999996       1\n",
      "21.17                    1\n",
      "Name: Changed_Credit_Limit, Length: 4384, dtype: int64\n",
      "END ------------------------------------ \n",
      "\n",
      "Column Name: Credit_Mix\n",
      "****************************************\n",
      "Standard    36479\n",
      "Good        24337\n",
      "_           20195\n",
      "Bad         18989\n",
      "Name: Credit_Mix, dtype: int64\n",
      "END ------------------------------------ \n",
      "\n",
      "Column Name: Outstanding_Debt\n",
      "****************************************\n",
      "1360.45     24\n",
      "460.46      23\n",
      "1151.7      23\n",
      "1109.03     23\n",
      "467.7       16\n",
      "            ..\n",
      "245.46_      1\n",
      "645.77_      1\n",
      "174.79_      1\n",
      "1181.13_     1\n",
      "1013.53_     1\n",
      "Name: Outstanding_Debt, Length: 13178, dtype: int64\n",
      "END ------------------------------------ \n",
      "\n",
      "Column Name: Credit_History_Age\n",
      "****************************************\n",
      "NaN                       9030\n",
      "15 Years and 11 Months     446\n",
      "19 Years and 4 Months      445\n",
      "19 Years and 5 Months      444\n",
      "17 Years and 11 Months     443\n",
      "                          ... \n",
      "0 Years and 3 Months        20\n",
      "0 Years and 2 Months        15\n",
      "33 Years and 7 Months       14\n",
      "33 Years and 8 Months       12\n",
      "0 Years and 1 Months         2\n",
      "Name: Credit_History_Age, Length: 405, dtype: int64\n",
      "END ------------------------------------ \n",
      "\n",
      "Column Name: Payment_of_Min_Amount\n",
      "****************************************\n",
      "Yes    52326\n",
      "No     35667\n",
      "NM     12007\n",
      "Name: Payment_of_Min_Amount, dtype: int64\n",
      "END ------------------------------------ \n",
      "\n",
      "Column Name: Amount_invested_monthly\n",
      "****************************************\n",
      "NaN                   4479\n",
      "__10000__             4305\n",
      "0.0                    169\n",
      "36.66235139442514        1\n",
      "89.7384893604547         1\n",
      "                      ... \n",
      "36.541908593249026       1\n",
      "93.45116318631192        1\n",
      "140.80972223052834       1\n",
      "38.73937670100975        1\n",
      "167.1638651610451        1\n",
      "Name: Amount_invested_monthly, Length: 91050, dtype: int64\n",
      "END ------------------------------------ \n",
      "\n",
      "Column Name: Payment_Behaviour\n",
      "****************************************\n",
      "Low_spent_Small_value_payments      25513\n",
      "High_spent_Medium_value_payments    17540\n",
      "Low_spent_Medium_value_payments     13861\n",
      "High_spent_Large_value_payments     13721\n",
      "High_spent_Small_value_payments     11340\n",
      "Low_spent_Large_value_payments      10425\n",
      "!@9#%8                               7600\n",
      "Name: Payment_Behaviour, dtype: int64\n",
      "END ------------------------------------ \n",
      "\n",
      "Column Name: Monthly_Balance\n",
      "****************************************\n",
      "NaN                                 1200\n",
      "__-333333333333333333333333333__       9\n",
      "312.49408867943663                     1\n",
      "347.413889978152                       1\n",
      "254.9709216273975                      1\n",
      "                                    ... \n",
      "366.2890379762706                      1\n",
      "151.1882696261166                      1\n",
      "306.75027851710234                     1\n",
      "278.8720257394474                      1\n",
      "393.6736955618808                      1\n",
      "Name: Monthly_Balance, Length: 98793, dtype: int64\n",
      "END ------------------------------------ \n",
      "\n",
      "Column Name: Credit_Score\n",
      "****************************************\n",
      "Standard    53174\n",
      "Poor        28998\n",
      "Good        17828\n",
      "Name: Credit_Score, dtype: int64\n",
      "END ------------------------------------ \n",
      "\n"
     ]
    }
   ],
   "source": [
    "for col in object_col:\n",
    "    print('Column Name: '+col)\n",
    "    print(\"**\"*20)\n",
    "    print(df_train[col].value_counts(dropna=False))\n",
    "    print('END', \"--\"*18, '\\n')"
   ]
  },
  {
   "cell_type": "code",
   "execution_count": 21,
   "id": "c9b5cbdd",
   "metadata": {
    "execution": {
     "iopub.execute_input": "2022-09-17T17:03:38.380067Z",
     "iopub.status.busy": "2022-09-17T17:03:38.379184Z",
     "iopub.status.idle": "2022-09-17T17:03:38.403413Z",
     "shell.execute_reply": "2022-09-17T17:03:38.402535Z"
    },
    "papermill": {
     "duration": 0.065313,
     "end_time": "2022-09-17T17:03:38.405656",
     "exception": false,
     "start_time": "2022-09-17T17:03:38.340343",
     "status": "completed"
    },
    "tags": []
   },
   "outputs": [
    {
     "data": {
      "text/plain": [
       "(150000, 28)"
      ]
     },
     "execution_count": 21,
     "metadata": {},
     "output_type": "execute_result"
    }
   ],
   "source": [
    "df1 = df.copy()\n",
    "df1.shape"
   ]
  },
  {
   "cell_type": "markdown",
   "id": "518d1a0a",
   "metadata": {
    "_cell_guid": "99b79a7f-351f-48f0-96e2-1865f395036b",
    "_uuid": "d765b2f1-393c-4c51-acd3-7964b063693d",
    "papermill": {
     "duration": 0.037091,
     "end_time": "2022-09-17T17:03:38.480722",
     "exception": false,
     "start_time": "2022-09-17T17:03:38.443631",
     "status": "completed"
    },
    "tags": []
   },
   "source": [
    "- Clear strange values apart from the NaN Values"
   ]
  },
  {
   "cell_type": "code",
   "execution_count": 22,
   "id": "2dc631d2",
   "metadata": {
    "_cell_guid": "7137d490-63b4-4b2a-950f-2d9df46ecf67",
    "_uuid": "f2d5e319-bdc0-4e76-bd38-d3851ac7b4cb",
    "collapsed": false,
    "execution": {
     "iopub.execute_input": "2022-09-17T17:03:38.559208Z",
     "iopub.status.busy": "2022-09-17T17:03:38.558394Z",
     "iopub.status.idle": "2022-09-17T17:03:41.617651Z",
     "shell.execute_reply": "2022-09-17T17:03:41.616762Z"
    },
    "jupyter": {
     "outputs_hidden": false
    },
    "papermill": {
     "duration": 3.102384,
     "end_time": "2022-09-17T17:03:41.620921",
     "exception": false,
     "start_time": "2022-09-17T17:03:38.518537",
     "status": "completed"
    },
    "tags": []
   },
   "outputs": [
    {
     "data": {
      "text/html": [
       "<div>\n",
       "<style scoped>\n",
       "    .dataframe tbody tr th:only-of-type {\n",
       "        vertical-align: middle;\n",
       "    }\n",
       "\n",
       "    .dataframe tbody tr th {\n",
       "        vertical-align: top;\n",
       "    }\n",
       "\n",
       "    .dataframe thead th {\n",
       "        text-align: right;\n",
       "    }\n",
       "</style>\n",
       "<table border=\"1\" class=\"dataframe\">\n",
       "  <thead>\n",
       "    <tr style=\"text-align: right;\">\n",
       "      <th></th>\n",
       "      <th>ID</th>\n",
       "      <th>Customer_ID</th>\n",
       "      <th>Month</th>\n",
       "      <th>Name</th>\n",
       "      <th>Age</th>\n",
       "      <th>SSN</th>\n",
       "      <th>Occupation</th>\n",
       "      <th>Annual_Income</th>\n",
       "      <th>Monthly_Inhand_Salary</th>\n",
       "      <th>Num_Bank_Accounts</th>\n",
       "      <th>...</th>\n",
       "      <th>Credit_Mix</th>\n",
       "      <th>Outstanding_Debt</th>\n",
       "      <th>Credit_Utilization_Ratio</th>\n",
       "      <th>Credit_History_Age</th>\n",
       "      <th>Payment_of_Min_Amount</th>\n",
       "      <th>Total_EMI_per_month</th>\n",
       "      <th>Amount_invested_monthly</th>\n",
       "      <th>Payment_Behaviour</th>\n",
       "      <th>Monthly_Balance</th>\n",
       "      <th>Credit_Score</th>\n",
       "    </tr>\n",
       "  </thead>\n",
       "  <tbody>\n",
       "    <tr>\n",
       "      <th>0</th>\n",
       "      <td>0x1602</td>\n",
       "      <td>CUS_0xd40</td>\n",
       "      <td>January</td>\n",
       "      <td>Aaron Maashoh</td>\n",
       "      <td>23</td>\n",
       "      <td>821-00-0265</td>\n",
       "      <td>Scientist</td>\n",
       "      <td>19114.12</td>\n",
       "      <td>1824.843333</td>\n",
       "      <td>3</td>\n",
       "      <td>...</td>\n",
       "      <td>NaN</td>\n",
       "      <td>809.98</td>\n",
       "      <td>26.822620</td>\n",
       "      <td>22 Years and 1 Months</td>\n",
       "      <td>No</td>\n",
       "      <td>49.574949</td>\n",
       "      <td>80.41529543900253</td>\n",
       "      <td>High_spent_Small_value_payments</td>\n",
       "      <td>312.49408867943663</td>\n",
       "      <td>Good</td>\n",
       "    </tr>\n",
       "    <tr>\n",
       "      <th>1</th>\n",
       "      <td>0x1603</td>\n",
       "      <td>CUS_0xd40</td>\n",
       "      <td>February</td>\n",
       "      <td>Aaron Maashoh</td>\n",
       "      <td>23</td>\n",
       "      <td>821-00-0265</td>\n",
       "      <td>Scientist</td>\n",
       "      <td>19114.12</td>\n",
       "      <td>NaN</td>\n",
       "      <td>3</td>\n",
       "      <td>...</td>\n",
       "      <td>Good</td>\n",
       "      <td>809.98</td>\n",
       "      <td>31.944960</td>\n",
       "      <td>NaN</td>\n",
       "      <td>No</td>\n",
       "      <td>49.574949</td>\n",
       "      <td>118.28022162236736</td>\n",
       "      <td>Low_spent_Large_value_payments</td>\n",
       "      <td>284.62916249607184</td>\n",
       "      <td>Good</td>\n",
       "    </tr>\n",
       "    <tr>\n",
       "      <th>2</th>\n",
       "      <td>0x1604</td>\n",
       "      <td>CUS_0xd40</td>\n",
       "      <td>March</td>\n",
       "      <td>Aaron Maashoh</td>\n",
       "      <td>-500</td>\n",
       "      <td>821-00-0265</td>\n",
       "      <td>Scientist</td>\n",
       "      <td>19114.12</td>\n",
       "      <td>NaN</td>\n",
       "      <td>3</td>\n",
       "      <td>...</td>\n",
       "      <td>Good</td>\n",
       "      <td>809.98</td>\n",
       "      <td>28.609352</td>\n",
       "      <td>22 Years and 3 Months</td>\n",
       "      <td>No</td>\n",
       "      <td>49.574949</td>\n",
       "      <td>81.699521264648</td>\n",
       "      <td>Low_spent_Medium_value_payments</td>\n",
       "      <td>331.2098628537912</td>\n",
       "      <td>Good</td>\n",
       "    </tr>\n",
       "    <tr>\n",
       "      <th>3</th>\n",
       "      <td>0x1605</td>\n",
       "      <td>CUS_0xd40</td>\n",
       "      <td>April</td>\n",
       "      <td>Aaron Maashoh</td>\n",
       "      <td>23</td>\n",
       "      <td>821-00-0265</td>\n",
       "      <td>Scientist</td>\n",
       "      <td>19114.12</td>\n",
       "      <td>NaN</td>\n",
       "      <td>3</td>\n",
       "      <td>...</td>\n",
       "      <td>Good</td>\n",
       "      <td>809.98</td>\n",
       "      <td>31.377862</td>\n",
       "      <td>22 Years and 4 Months</td>\n",
       "      <td>No</td>\n",
       "      <td>49.574949</td>\n",
       "      <td>199.4580743910713</td>\n",
       "      <td>Low_spent_Small_value_payments</td>\n",
       "      <td>223.45130972736786</td>\n",
       "      <td>Good</td>\n",
       "    </tr>\n",
       "    <tr>\n",
       "      <th>4</th>\n",
       "      <td>0x1606</td>\n",
       "      <td>CUS_0xd40</td>\n",
       "      <td>May</td>\n",
       "      <td>Aaron Maashoh</td>\n",
       "      <td>23</td>\n",
       "      <td>821-00-0265</td>\n",
       "      <td>Scientist</td>\n",
       "      <td>19114.12</td>\n",
       "      <td>1824.843333</td>\n",
       "      <td>3</td>\n",
       "      <td>...</td>\n",
       "      <td>Good</td>\n",
       "      <td>809.98</td>\n",
       "      <td>24.797347</td>\n",
       "      <td>22 Years and 5 Months</td>\n",
       "      <td>No</td>\n",
       "      <td>49.574949</td>\n",
       "      <td>41.420153086217326</td>\n",
       "      <td>High_spent_Medium_value_payments</td>\n",
       "      <td>341.48923103222177</td>\n",
       "      <td>Good</td>\n",
       "    </tr>\n",
       "    <tr>\n",
       "      <th>...</th>\n",
       "      <td>...</td>\n",
       "      <td>...</td>\n",
       "      <td>...</td>\n",
       "      <td>...</td>\n",
       "      <td>...</td>\n",
       "      <td>...</td>\n",
       "      <td>...</td>\n",
       "      <td>...</td>\n",
       "      <td>...</td>\n",
       "      <td>...</td>\n",
       "      <td>...</td>\n",
       "      <td>...</td>\n",
       "      <td>...</td>\n",
       "      <td>...</td>\n",
       "      <td>...</td>\n",
       "      <td>...</td>\n",
       "      <td>...</td>\n",
       "      <td>...</td>\n",
       "      <td>...</td>\n",
       "      <td>...</td>\n",
       "      <td>...</td>\n",
       "    </tr>\n",
       "    <tr>\n",
       "      <th>149995</th>\n",
       "      <td>0x25fe5</td>\n",
       "      <td>CUS_0x8600</td>\n",
       "      <td>December</td>\n",
       "      <td>Sarah McBridec</td>\n",
       "      <td>4975</td>\n",
       "      <td>031-35-0942</td>\n",
       "      <td>Architect</td>\n",
       "      <td>20002.88</td>\n",
       "      <td>1929.906667</td>\n",
       "      <td>10</td>\n",
       "      <td>...</td>\n",
       "      <td>NaN</td>\n",
       "      <td>3571.7</td>\n",
       "      <td>34.780553</td>\n",
       "      <td>NaN</td>\n",
       "      <td>Yes</td>\n",
       "      <td>60.964772</td>\n",
       "      <td>146.48632477751087</td>\n",
       "      <td>Low_spent_Small_value_payments</td>\n",
       "      <td>275.53956951573343</td>\n",
       "      <td>NaN</td>\n",
       "    </tr>\n",
       "    <tr>\n",
       "      <th>149996</th>\n",
       "      <td>0x25fee</td>\n",
       "      <td>CUS_0x942c</td>\n",
       "      <td>September</td>\n",
       "      <td>Nicks</td>\n",
       "      <td>25</td>\n",
       "      <td>078-73-5990</td>\n",
       "      <td>Mechanic</td>\n",
       "      <td>39628.99</td>\n",
       "      <td>NaN</td>\n",
       "      <td>4</td>\n",
       "      <td>...</td>\n",
       "      <td>Good</td>\n",
       "      <td>502.38</td>\n",
       "      <td>27.758522</td>\n",
       "      <td>31 Years and 11 Months</td>\n",
       "      <td>NM</td>\n",
       "      <td>35.104023</td>\n",
       "      <td>181.44299902757518</td>\n",
       "      <td>Low_spent_Small_value_payments</td>\n",
       "      <td>409.39456169535066</td>\n",
       "      <td>NaN</td>\n",
       "    </tr>\n",
       "    <tr>\n",
       "      <th>149997</th>\n",
       "      <td>0x25fef</td>\n",
       "      <td>CUS_0x942c</td>\n",
       "      <td>October</td>\n",
       "      <td>Nicks</td>\n",
       "      <td>25</td>\n",
       "      <td>078-73-5990</td>\n",
       "      <td>Mechanic</td>\n",
       "      <td>39628.99</td>\n",
       "      <td>3359.415833</td>\n",
       "      <td>4</td>\n",
       "      <td>...</td>\n",
       "      <td>Good</td>\n",
       "      <td>502.38</td>\n",
       "      <td>36.858542</td>\n",
       "      <td>32 Years and 0 Months</td>\n",
       "      <td>No</td>\n",
       "      <td>35.104023</td>\n",
       "      <td>10000</td>\n",
       "      <td>Low_spent_Large_value_payments</td>\n",
       "      <td>349.7263321025098</td>\n",
       "      <td>NaN</td>\n",
       "    </tr>\n",
       "    <tr>\n",
       "      <th>149998</th>\n",
       "      <td>0x25ff0</td>\n",
       "      <td>CUS_0x942c</td>\n",
       "      <td>November</td>\n",
       "      <td>Nicks</td>\n",
       "      <td>25</td>\n",
       "      <td>078-73-5990</td>\n",
       "      <td>Mechanic</td>\n",
       "      <td>39628.99</td>\n",
       "      <td>NaN</td>\n",
       "      <td>4</td>\n",
       "      <td>...</td>\n",
       "      <td>Good</td>\n",
       "      <td>502.38</td>\n",
       "      <td>39.139840</td>\n",
       "      <td>32 Years and 1 Months</td>\n",
       "      <td>No</td>\n",
       "      <td>35.104023</td>\n",
       "      <td>97.59857973344877</td>\n",
       "      <td>High_spent_Small_value_payments</td>\n",
       "      <td>463.23898098947717</td>\n",
       "      <td>NaN</td>\n",
       "    </tr>\n",
       "    <tr>\n",
       "      <th>149999</th>\n",
       "      <td>0x25ff1</td>\n",
       "      <td>CUS_0x942c</td>\n",
       "      <td>December</td>\n",
       "      <td>Nicks</td>\n",
       "      <td>25</td>\n",
       "      <td>078-73-5990</td>\n",
       "      <td>Mechanic</td>\n",
       "      <td>39628.99</td>\n",
       "      <td>3359.415833</td>\n",
       "      <td>4</td>\n",
       "      <td>...</td>\n",
       "      <td>NaN</td>\n",
       "      <td>502.38</td>\n",
       "      <td>34.108530</td>\n",
       "      <td>32 Years and 2 Months</td>\n",
       "      <td>No</td>\n",
       "      <td>35.104023</td>\n",
       "      <td>220.45787812168732</td>\n",
       "      <td>Low_spent_Medium_value_payments</td>\n",
       "      <td>360.37968260123847</td>\n",
       "      <td>NaN</td>\n",
       "    </tr>\n",
       "  </tbody>\n",
       "</table>\n",
       "<p>150000 rows × 28 columns</p>\n",
       "</div>"
      ],
      "text/plain": [
       "             ID Customer_ID      Month            Name   Age          SSN  \\\n",
       "0        0x1602   CUS_0xd40    January   Aaron Maashoh    23  821-00-0265   \n",
       "1        0x1603   CUS_0xd40   February   Aaron Maashoh    23  821-00-0265   \n",
       "2        0x1604   CUS_0xd40      March   Aaron Maashoh  -500  821-00-0265   \n",
       "3        0x1605   CUS_0xd40      April   Aaron Maashoh    23  821-00-0265   \n",
       "4        0x1606   CUS_0xd40        May   Aaron Maashoh    23  821-00-0265   \n",
       "...         ...         ...        ...             ...   ...          ...   \n",
       "149995  0x25fe5  CUS_0x8600   December  Sarah McBridec  4975  031-35-0942   \n",
       "149996  0x25fee  CUS_0x942c  September           Nicks    25  078-73-5990   \n",
       "149997  0x25fef  CUS_0x942c    October           Nicks    25  078-73-5990   \n",
       "149998  0x25ff0  CUS_0x942c   November           Nicks    25  078-73-5990   \n",
       "149999  0x25ff1  CUS_0x942c   December           Nicks    25  078-73-5990   \n",
       "\n",
       "       Occupation Annual_Income  Monthly_Inhand_Salary  Num_Bank_Accounts  \\\n",
       "0       Scientist      19114.12            1824.843333                  3   \n",
       "1       Scientist      19114.12                    NaN                  3   \n",
       "2       Scientist      19114.12                    NaN                  3   \n",
       "3       Scientist      19114.12                    NaN                  3   \n",
       "4       Scientist      19114.12            1824.843333                  3   \n",
       "...           ...           ...                    ...                ...   \n",
       "149995  Architect      20002.88            1929.906667                 10   \n",
       "149996   Mechanic      39628.99                    NaN                  4   \n",
       "149997   Mechanic      39628.99            3359.415833                  4   \n",
       "149998   Mechanic      39628.99                    NaN                  4   \n",
       "149999   Mechanic      39628.99            3359.415833                  4   \n",
       "\n",
       "        ...  Credit_Mix  Outstanding_Debt Credit_Utilization_Ratio  \\\n",
       "0       ...         NaN            809.98                26.822620   \n",
       "1       ...        Good            809.98                31.944960   \n",
       "2       ...        Good            809.98                28.609352   \n",
       "3       ...        Good            809.98                31.377862   \n",
       "4       ...        Good            809.98                24.797347   \n",
       "...     ...         ...               ...                      ...   \n",
       "149995  ...         NaN            3571.7                34.780553   \n",
       "149996  ...        Good            502.38                27.758522   \n",
       "149997  ...        Good            502.38                36.858542   \n",
       "149998  ...        Good            502.38                39.139840   \n",
       "149999  ...         NaN            502.38                34.108530   \n",
       "\n",
       "            Credit_History_Age  Payment_of_Min_Amount Total_EMI_per_month  \\\n",
       "0        22 Years and 1 Months                     No           49.574949   \n",
       "1                          NaN                     No           49.574949   \n",
       "2        22 Years and 3 Months                     No           49.574949   \n",
       "3        22 Years and 4 Months                     No           49.574949   \n",
       "4        22 Years and 5 Months                     No           49.574949   \n",
       "...                        ...                    ...                 ...   \n",
       "149995                     NaN                    Yes           60.964772   \n",
       "149996  31 Years and 11 Months                     NM           35.104023   \n",
       "149997   32 Years and 0 Months                     No           35.104023   \n",
       "149998   32 Years and 1 Months                     No           35.104023   \n",
       "149999   32 Years and 2 Months                     No           35.104023   \n",
       "\n",
       "       Amount_invested_monthly                 Payment_Behaviour  \\\n",
       "0            80.41529543900253   High_spent_Small_value_payments   \n",
       "1           118.28022162236736    Low_spent_Large_value_payments   \n",
       "2              81.699521264648   Low_spent_Medium_value_payments   \n",
       "3            199.4580743910713    Low_spent_Small_value_payments   \n",
       "4           41.420153086217326  High_spent_Medium_value_payments   \n",
       "...                        ...                               ...   \n",
       "149995      146.48632477751087    Low_spent_Small_value_payments   \n",
       "149996      181.44299902757518    Low_spent_Small_value_payments   \n",
       "149997                   10000    Low_spent_Large_value_payments   \n",
       "149998       97.59857973344877   High_spent_Small_value_payments   \n",
       "149999      220.45787812168732   Low_spent_Medium_value_payments   \n",
       "\n",
       "           Monthly_Balance Credit_Score  \n",
       "0       312.49408867943663         Good  \n",
       "1       284.62916249607184         Good  \n",
       "2        331.2098628537912         Good  \n",
       "3       223.45130972736786         Good  \n",
       "4       341.48923103222177         Good  \n",
       "...                    ...          ...  \n",
       "149995  275.53956951573343          NaN  \n",
       "149996  409.39456169535066          NaN  \n",
       "149997   349.7263321025098          NaN  \n",
       "149998  463.23898098947717          NaN  \n",
       "149999  360.37968260123847          NaN  \n",
       "\n",
       "[150000 rows x 28 columns]"
      ]
     },
     "execution_count": 22,
     "metadata": {},
     "output_type": "execute_result"
    }
   ],
   "source": [
    "df = df.applymap(lambda x: x if x is np.NaN or not isinstance(x, str) else str(x).strip('_ ,\"')\n",
    "                      ).replace(['', 'nan', '!@9#%8', '#F%$D@*&8'], np.NaN)\n",
    "df"
   ]
  },
  {
   "cell_type": "code",
   "execution_count": 23,
   "id": "737d5293",
   "metadata": {
    "_cell_guid": "0cbdd78b-a48e-4814-85d8-f95fcfd52d6f",
    "_uuid": "47badb29-2e07-49c6-9c84-676cece6280b",
    "collapsed": false,
    "execution": {
     "iopub.execute_input": "2022-09-17T17:03:41.718783Z",
     "iopub.status.busy": "2022-09-17T17:03:41.717729Z",
     "iopub.status.idle": "2022-09-17T17:03:41.871805Z",
     "shell.execute_reply": "2022-09-17T17:03:41.870624Z"
    },
    "jupyter": {
     "outputs_hidden": false
    },
    "papermill": {
     "duration": 0.205504,
     "end_time": "2022-09-17T17:03:41.875016",
     "exception": false,
     "start_time": "2022-09-17T17:03:41.669512",
     "status": "completed"
    },
    "tags": []
   },
   "outputs": [
    {
     "data": {
      "text/plain": [
       "ID                              0\n",
       "Customer_ID                     0\n",
       "Month                           0\n",
       "Name                        15000\n",
       "Age                             0\n",
       "SSN                          8400\n",
       "Occupation                  10500\n",
       "Annual_Income                   0\n",
       "Monthly_Inhand_Salary       22500\n",
       "Num_Bank_Accounts               0\n",
       "Num_Credit_Card                 0\n",
       "Interest_Rate                   0\n",
       "Num_of_Loan                     0\n",
       "Type_of_Loan                17112\n",
       "Delay_from_due_date             0\n",
       "Num_of_Delayed_Payment      10500\n",
       "Changed_Credit_Limit         3150\n",
       "Num_Credit_Inquiries         3000\n",
       "Credit_Mix                  30000\n",
       "Outstanding_Debt                0\n",
       "Credit_Utilization_Ratio        0\n",
       "Credit_History_Age          13500\n",
       "Payment_of_Min_Amount           0\n",
       "Total_EMI_per_month             0\n",
       "Amount_invested_monthly      6750\n",
       "Payment_Behaviour           11400\n",
       "Monthly_Balance              1762\n",
       "Credit_Score                50000\n",
       "dtype: int64"
      ]
     },
     "execution_count": 23,
     "metadata": {},
     "output_type": "execute_result"
    }
   ],
   "source": [
    "df.isna().sum()"
   ]
  },
  {
   "cell_type": "markdown",
   "id": "6c5f2994",
   "metadata": {
    "_cell_guid": "78429edb-16f1-4231-9101-c90e60a07232",
    "_uuid": "8dbedffd-7112-45ee-8a68-9fa194d72986",
    "papermill": {
     "duration": 0.038713,
     "end_time": "2022-09-17T17:03:41.963618",
     "exception": false,
     "start_time": "2022-09-17T17:03:41.924905",
     "status": "completed"
    },
    "tags": []
   },
   "source": [
    "## Fixing a data type (value_counts(), astype(), infer_objects(), convert_dtypes())\n",
    "\n",
    "- Detect strange values by Columns Convert Object Types to Numeric Types (int, float, np.int64, pd.Int64Dtype())\n",
    "- Combining object columns\n",
    "\n",
    "Change column type in pandas:\n",
    "\n",
    "  01. astype() - convert (almost) any type to (almost) any other type (even if it's not necessarily sensible to do so). Also   allows you to convert to categorial types (very useful).\n",
    "  02. infer_objects() - a utility method to convert object columns holding Python objects to a pandas type if possible.\n",
    "  03. convert_dtypes() - convert DataFrame columns to the \"best possible\" dtype that supports pd.NA (pandas' object to indicate a missing value).\n",
    "  04. to_numeric() - provides functionality to safely convert non-numeric types.(See also to_datetime() and to_timedelta().)\n",
    "  05. factorize() - provides sorting"
   ]
  },
  {
   "cell_type": "code",
   "execution_count": 24,
   "id": "d6dd7495",
   "metadata": {
    "_cell_guid": "e7b63f2d-0d3a-45db-9dbd-2dbd2276d650",
    "_uuid": "2cffc2b8-276f-475e-85f4-472e4f4086fc",
    "collapsed": false,
    "execution": {
     "iopub.execute_input": "2022-09-17T17:03:42.045176Z",
     "iopub.status.busy": "2022-09-17T17:03:42.044175Z",
     "iopub.status.idle": "2022-09-17T17:03:42.227897Z",
     "shell.execute_reply": "2022-09-17T17:03:42.226533Z"
    },
    "jupyter": {
     "outputs_hidden": false
    },
    "papermill": {
     "duration": 0.228237,
     "end_time": "2022-09-17T17:03:42.231488",
     "exception": false,
     "start_time": "2022-09-17T17:03:42.003251",
     "status": "completed"
    },
    "tags": []
   },
   "outputs": [
    {
     "name": "stdout",
     "output_type": "stream",
     "text": [
      "<class 'pandas.core.frame.DataFrame'>\n",
      "RangeIndex: 150000 entries, 0 to 149999\n",
      "Data columns (total 20 columns):\n",
      " #   Column                   Non-Null Count   Dtype \n",
      "---  ------                   --------------   ----- \n",
      " 0   ID                       150000 non-null  object\n",
      " 1   Customer_ID              150000 non-null  object\n",
      " 2   Month                    150000 non-null  object\n",
      " 3   Name                     135000 non-null  object\n",
      " 4   Age                      150000 non-null  object\n",
      " 5   SSN                      141600 non-null  object\n",
      " 6   Occupation               139500 non-null  object\n",
      " 7   Annual_Income            150000 non-null  object\n",
      " 8   Num_of_Loan              150000 non-null  object\n",
      " 9   Type_of_Loan             132888 non-null  object\n",
      " 10  Num_of_Delayed_Payment   139500 non-null  object\n",
      " 11  Changed_Credit_Limit     146850 non-null  object\n",
      " 12  Credit_Mix               120000 non-null  object\n",
      " 13  Outstanding_Debt         150000 non-null  object\n",
      " 14  Credit_History_Age       136500 non-null  object\n",
      " 15  Payment_of_Min_Amount    150000 non-null  object\n",
      " 16  Amount_invested_monthly  143250 non-null  object\n",
      " 17  Payment_Behaviour        138600 non-null  object\n",
      " 18  Monthly_Balance          148238 non-null  object\n",
      " 19  Credit_Score             100000 non-null  object\n",
      "dtypes: object(20)\n",
      "memory usage: 22.9+ MB\n"
     ]
    }
   ],
   "source": [
    "df.select_dtypes('O').info()"
   ]
  },
  {
   "cell_type": "code",
   "execution_count": 25,
   "id": "b0ebb6d2",
   "metadata": {
    "_cell_guid": "17704277-aae0-4a26-9c66-a06c977405d9",
    "_uuid": "2993fa06-c1a5-4d33-af7c-c8571e6b36a9",
    "collapsed": false,
    "execution": {
     "iopub.execute_input": "2022-09-17T17:03:42.317156Z",
     "iopub.status.busy": "2022-09-17T17:03:42.316521Z",
     "iopub.status.idle": "2022-09-17T17:03:42.437008Z",
     "shell.execute_reply": "2022-09-17T17:03:42.436005Z"
    },
    "jupyter": {
     "outputs_hidden": false
    },
    "papermill": {
     "duration": 0.165006,
     "end_time": "2022-09-17T17:03:42.439594",
     "exception": false,
     "start_time": "2022-09-17T17:03:42.274588",
     "status": "completed"
    },
    "tags": []
   },
   "outputs": [],
   "source": [
    "df['ID'] = df.ID.apply(lambda x: int(x, 16))"
   ]
  },
  {
   "cell_type": "code",
   "execution_count": 26,
   "id": "bfa96e0b",
   "metadata": {
    "_cell_guid": "8a8dcd14-3acd-42df-86c0-dc19c2774fa7",
    "_uuid": "b6b13a9f-1366-49ec-8b2c-7b62837d9cc1",
    "collapsed": false,
    "execution": {
     "iopub.execute_input": "2022-09-17T17:03:42.520007Z",
     "iopub.status.busy": "2022-09-17T17:03:42.519549Z",
     "iopub.status.idle": "2022-09-17T17:03:42.653949Z",
     "shell.execute_reply": "2022-09-17T17:03:42.652910Z"
    },
    "jupyter": {
     "outputs_hidden": false
    },
    "papermill": {
     "duration": 0.178088,
     "end_time": "2022-09-17T17:03:42.656763",
     "exception": false,
     "start_time": "2022-09-17T17:03:42.478675",
     "status": "completed"
    },
    "tags": []
   },
   "outputs": [],
   "source": [
    "df['Customer_ID'] = df.Customer_ID.apply(lambda x: int(x[4:], 16))"
   ]
  },
  {
   "cell_type": "code",
   "execution_count": 27,
   "id": "407ed3de",
   "metadata": {
    "_cell_guid": "8373f2a1-d6bc-4d32-9549-eef7f061ded1",
    "_uuid": "330b74c1-6f49-4476-a6cd-72d1704b7e82",
    "collapsed": false,
    "execution": {
     "iopub.execute_input": "2022-09-17T17:03:42.736241Z",
     "iopub.status.busy": "2022-09-17T17:03:42.735833Z",
     "iopub.status.idle": "2022-09-17T17:03:42.801379Z",
     "shell.execute_reply": "2022-09-17T17:03:42.800339Z"
    },
    "jupyter": {
     "outputs_hidden": false
    },
    "papermill": {
     "duration": 0.10831,
     "end_time": "2022-09-17T17:03:42.804082",
     "exception": false,
     "start_time": "2022-09-17T17:03:42.695772",
     "status": "completed"
    },
    "tags": []
   },
   "outputs": [],
   "source": [
    "df['Month'] = pd.to_datetime(df.Month, format='%B').dt.month"
   ]
  },
  {
   "cell_type": "code",
   "execution_count": 28,
   "id": "3872c4c3",
   "metadata": {
    "_cell_guid": "c3af9603-7274-4f57-b6df-d6bd9a7ce09f",
    "_uuid": "28910157-dc0f-4aad-a208-ad7e3c702efe",
    "collapsed": false,
    "execution": {
     "iopub.execute_input": "2022-09-17T17:03:42.885493Z",
     "iopub.status.busy": "2022-09-17T17:03:42.884655Z",
     "iopub.status.idle": "2022-09-17T17:03:42.928016Z",
     "shell.execute_reply": "2022-09-17T17:03:42.926911Z"
    },
    "jupyter": {
     "outputs_hidden": false
    },
    "papermill": {
     "duration": 0.087247,
     "end_time": "2022-09-17T17:03:42.930768",
     "exception": false,
     "start_time": "2022-09-17T17:03:42.843521",
     "status": "completed"
    },
    "tags": []
   },
   "outputs": [],
   "source": [
    "df['Age'] = df.Age.astype(int)        "
   ]
  },
  {
   "cell_type": "code",
   "execution_count": 29,
   "id": "32375497",
   "metadata": {
    "_cell_guid": "da6fad06-4ef1-4c3a-ac0f-463d1d9e31ea",
    "_uuid": "29ca2bd8-c55a-4939-9ee8-288239bc9a1d",
    "collapsed": false,
    "execution": {
     "iopub.execute_input": "2022-09-17T17:03:43.011306Z",
     "iopub.status.busy": "2022-09-17T17:03:43.010903Z",
     "iopub.status.idle": "2022-09-17T17:03:43.183336Z",
     "shell.execute_reply": "2022-09-17T17:03:43.182278Z"
    },
    "jupyter": {
     "outputs_hidden": false
    },
    "papermill": {
     "duration": 0.215404,
     "end_time": "2022-09-17T17:03:43.186135",
     "exception": false,
     "start_time": "2022-09-17T17:03:42.970731",
     "status": "completed"
    },
    "tags": []
   },
   "outputs": [],
   "source": [
    "df['SSN'] = df.SSN.apply(lambda x: x if x is np.NaN else int(str(x).replace('-', ''))).astype(float)"
   ]
  },
  {
   "cell_type": "code",
   "execution_count": 30,
   "id": "27230b61",
   "metadata": {
    "_cell_guid": "9a366f79-0f5c-4a6b-8a61-17752e74071b",
    "_uuid": "3e194c70-60d2-463a-86f2-8ed3b9aab185",
    "collapsed": false,
    "execution": {
     "iopub.execute_input": "2022-09-17T17:03:43.266621Z",
     "iopub.status.busy": "2022-09-17T17:03:43.266224Z",
     "iopub.status.idle": "2022-09-17T17:03:43.309975Z",
     "shell.execute_reply": "2022-09-17T17:03:43.308655Z"
    },
    "jupyter": {
     "outputs_hidden": false
    },
    "papermill": {
     "duration": 0.087824,
     "end_time": "2022-09-17T17:03:43.312648",
     "exception": false,
     "start_time": "2022-09-17T17:03:43.224824",
     "status": "completed"
    },
    "tags": []
   },
   "outputs": [],
   "source": [
    "df['Annual_Income'] = df.Annual_Income.astype(float)"
   ]
  },
  {
   "cell_type": "code",
   "execution_count": 31,
   "id": "05430add",
   "metadata": {
    "_cell_guid": "d4cd7ead-abd6-446b-a5e0-9ca99e9c0fd1",
    "_uuid": "e4a422ee-c02c-40c3-ad5b-3f75a1210c00",
    "collapsed": false,
    "execution": {
     "iopub.execute_input": "2022-09-17T17:03:43.391962Z",
     "iopub.status.busy": "2022-09-17T17:03:43.390719Z",
     "iopub.status.idle": "2022-09-17T17:03:43.431639Z",
     "shell.execute_reply": "2022-09-17T17:03:43.430312Z"
    },
    "jupyter": {
     "outputs_hidden": false
    },
    "papermill": {
     "duration": 0.083592,
     "end_time": "2022-09-17T17:03:43.434510",
     "exception": false,
     "start_time": "2022-09-17T17:03:43.350918",
     "status": "completed"
    },
    "tags": []
   },
   "outputs": [],
   "source": [
    "df['Num_of_Loan'] = df.Num_of_Loan.astype(int) "
   ]
  },
  {
   "cell_type": "code",
   "execution_count": 32,
   "id": "71edd2fb",
   "metadata": {
    "_cell_guid": "656f24e6-a1a9-4baf-8fb0-d7e82c11d81f",
    "_uuid": "39cc8b9b-015d-4f5b-b39f-40cc28a435cb",
    "collapsed": false,
    "execution": {
     "iopub.execute_input": "2022-09-17T17:03:43.516469Z",
     "iopub.status.busy": "2022-09-17T17:03:43.515302Z",
     "iopub.status.idle": "2022-09-17T17:03:43.553383Z",
     "shell.execute_reply": "2022-09-17T17:03:43.552520Z"
    },
    "jupyter": {
     "outputs_hidden": false
    },
    "papermill": {
     "duration": 0.080422,
     "end_time": "2022-09-17T17:03:43.555808",
     "exception": false,
     "start_time": "2022-09-17T17:03:43.475386",
     "status": "completed"
    },
    "tags": []
   },
   "outputs": [],
   "source": [
    "df['Num_of_Delayed_Payment'] = df.Num_of_Delayed_Payment.astype(float)"
   ]
  },
  {
   "cell_type": "code",
   "execution_count": 33,
   "id": "ee29a96c",
   "metadata": {
    "_cell_guid": "26b02158-002e-4b1c-8fb5-f5894093dd88",
    "_uuid": "c5057d1e-f722-42aa-8e62-e05712eb322e",
    "collapsed": false,
    "execution": {
     "iopub.execute_input": "2022-09-17T17:03:43.634438Z",
     "iopub.status.busy": "2022-09-17T17:03:43.634052Z",
     "iopub.status.idle": "2022-09-17T17:03:43.673874Z",
     "shell.execute_reply": "2022-09-17T17:03:43.672906Z"
    },
    "jupyter": {
     "outputs_hidden": false
    },
    "papermill": {
     "duration": 0.082173,
     "end_time": "2022-09-17T17:03:43.676481",
     "exception": false,
     "start_time": "2022-09-17T17:03:43.594308",
     "status": "completed"
    },
    "tags": []
   },
   "outputs": [],
   "source": [
    "df['Changed_Credit_Limit'] = df.Changed_Credit_Limit.astype(float)"
   ]
  },
  {
   "cell_type": "code",
   "execution_count": 34,
   "id": "50fa072f",
   "metadata": {
    "_cell_guid": "77c72333-eb08-4022-8e36-4689e364d390",
    "_uuid": "304c57db-8895-44e7-9dbb-76227d353c15",
    "collapsed": false,
    "execution": {
     "iopub.execute_input": "2022-09-17T17:03:43.755573Z",
     "iopub.status.busy": "2022-09-17T17:03:43.754669Z",
     "iopub.status.idle": "2022-09-17T17:03:43.792000Z",
     "shell.execute_reply": "2022-09-17T17:03:43.791020Z"
    },
    "jupyter": {
     "outputs_hidden": false
    },
    "papermill": {
     "duration": 0.079609,
     "end_time": "2022-09-17T17:03:43.794716",
     "exception": false,
     "start_time": "2022-09-17T17:03:43.715107",
     "status": "completed"
    },
    "tags": []
   },
   "outputs": [],
   "source": [
    "df['Outstanding_Debt'] = df.Outstanding_Debt.astype(float)"
   ]
  },
  {
   "cell_type": "code",
   "execution_count": 35,
   "id": "113bb800",
   "metadata": {
    "_cell_guid": "3601f923-8a22-4a8e-bee8-75b5b55e588b",
    "_uuid": "70534096-39be-454c-8afb-330d4e3585fe",
    "collapsed": false,
    "execution": {
     "iopub.execute_input": "2022-09-17T17:03:43.874576Z",
     "iopub.status.busy": "2022-09-17T17:03:43.873450Z",
     "iopub.status.idle": "2022-09-17T17:03:43.945683Z",
     "shell.execute_reply": "2022-09-17T17:03:43.944756Z"
    },
    "jupyter": {
     "outputs_hidden": false
    },
    "papermill": {
     "duration": 0.115265,
     "end_time": "2022-09-17T17:03:43.948311",
     "exception": false,
     "start_time": "2022-09-17T17:03:43.833046",
     "status": "completed"
    },
    "tags": []
   },
   "outputs": [],
   "source": [
    "df['Amount_invested_monthly'] = df.Amount_invested_monthly.astype(float)"
   ]
  },
  {
   "cell_type": "code",
   "execution_count": 36,
   "id": "4378b3e8",
   "metadata": {
    "_cell_guid": "a707bc4f-af0c-464f-8077-8a73ab6d15f4",
    "_uuid": "55ccfb7a-9f2e-46c6-b223-901a5fa5755d",
    "collapsed": false,
    "execution": {
     "iopub.execute_input": "2022-09-17T17:03:44.027626Z",
     "iopub.status.busy": "2022-09-17T17:03:44.027201Z",
     "iopub.status.idle": "2022-09-17T17:03:44.099805Z",
     "shell.execute_reply": "2022-09-17T17:03:44.098729Z"
    },
    "jupyter": {
     "outputs_hidden": false
    },
    "papermill": {
     "duration": 0.114586,
     "end_time": "2022-09-17T17:03:44.102318",
     "exception": false,
     "start_time": "2022-09-17T17:03:43.987732",
     "status": "completed"
    },
    "tags": []
   },
   "outputs": [],
   "source": [
    "df['Monthly_Balance'] = df.Monthly_Balance.astype(float)"
   ]
  },
  {
   "cell_type": "markdown",
   "id": "62889964",
   "metadata": {
    "_cell_guid": "6b116f8e-6dcb-45b8-97de-d38503e0026d",
    "_uuid": "981eaf1e-3508-4f2c-887a-72878633e33f",
    "papermill": {
     "duration": 0.038304,
     "end_time": "2022-09-17T17:03:44.179116",
     "exception": false,
     "start_time": "2022-09-17T17:03:44.140812",
     "status": "completed"
    },
    "tags": []
   },
   "source": [
    "### Assign Categorical Types to Numeric Types\n",
    "- Maybe Use Before Machine Learning or Use OrdinalEncoder, LabelEncoder etc."
   ]
  },
  {
   "cell_type": "code",
   "execution_count": 36,
   "id": "799bb830",
   "metadata": {
    "_cell_guid": "94157eb7-3459-4776-9389-71bc6fac8e6a",
    "_uuid": "077c0072-e06c-4a25-ac44-8e202d92aabc",
    "collapsed": false,
    "execution": {
     "iopub.execute_input": "2022-09-17T17:03:44.258413Z",
     "iopub.status.busy": "2022-09-17T17:03:44.257378Z",
     "iopub.status.idle": "2022-09-17T17:03:44.261648Z",
     "shell.execute_reply": "2022-09-17T17:03:44.260905Z"
    },
    "jupyter": {
     "outputs_hidden": false
    },
    "papermill": {
     "duration": 0.046075,
     "end_time": "2022-09-17T17:03:44.263723",
     "exception": false,
     "start_time": "2022-09-17T17:03:44.217648",
     "status": "completed"
    },
    "tags": []
   },
   "outputs": [],
   "source": [
    "# df['Occupation_Num'] = df.Occupation.astype('category').cat.codes\n",
    "# df['Credit_Mix_Num'] = df.Credit_Mix.astype('category').cat.codes\n",
    "# df['Payment_of_Min_Amount_Num'] = df.Payment_of_Min_Amount.astype('category').cat.codes\n",
    "# df['Payment_Behaviour_Num'] = df.Payment_Behaviour.astype('category').cat.codes"
   ]
  },
  {
   "cell_type": "markdown",
   "id": "c3a8d381",
   "metadata": {
    "_cell_guid": "fad00f20-c9e5-4c29-9d88-acd91994e914",
    "_uuid": "b461b4ed-cf03-4f85-8fe1-a7b6d28e6e0e",
    "papermill": {
     "duration": 0.038272,
     "end_time": "2022-09-17T17:03:44.341587",
     "exception": false,
     "start_time": "2022-09-17T17:03:44.303315",
     "status": "completed"
    },
    "tags": []
   },
   "source": [
    "### Combining object columns"
   ]
  },
  {
   "cell_type": "code",
   "execution_count": 37,
   "id": "c23f7ef9",
   "metadata": {
    "_cell_guid": "35d2c8a6-55dd-4725-9a3b-8812ce85b7d6",
    "_uuid": "b37144d7-f92a-454d-9fb6-86663bb7575e",
    "collapsed": false,
    "execution": {
     "iopub.execute_input": "2022-09-17T17:03:44.422790Z",
     "iopub.status.busy": "2022-09-17T17:03:44.421947Z",
     "iopub.status.idle": "2022-09-17T17:03:44.427582Z",
     "shell.execute_reply": "2022-09-17T17:03:44.426728Z"
    },
    "jupyter": {
     "outputs_hidden": false
    },
    "papermill": {
     "duration": 0.049505,
     "end_time": "2022-09-17T17:03:44.429959",
     "exception": false,
     "start_time": "2022-09-17T17:03:44.380454",
     "status": "completed"
    },
    "tags": []
   },
   "outputs": [],
   "source": [
    "def Month_Converter(x):\n",
    "    if pd.notnull(x):\n",
    "        num1 = int(x.split(' ')[0])\n",
    "        num2 = int(x.split(' ')[3])\n",
    "      \n",
    "        return (num1*12)+num2\n",
    "    else:\n",
    "        return x\n",
    "    \n",
    "# Month_Converter('3 Years and 1 Months')"
   ]
  },
  {
   "cell_type": "code",
   "execution_count": 38,
   "id": "afd8b4b3",
   "metadata": {
    "_cell_guid": "dc0e4d3a-e270-4699-ad8c-692cf787ae0c",
    "_uuid": "c1bee760-f864-478b-8f80-bdc2c3cb7308",
    "collapsed": false,
    "execution": {
     "iopub.execute_input": "2022-09-17T17:03:44.510117Z",
     "iopub.status.busy": "2022-09-17T17:03:44.509694Z",
     "iopub.status.idle": "2022-09-17T17:03:44.835094Z",
     "shell.execute_reply": "2022-09-17T17:03:44.833973Z"
    },
    "jupyter": {
     "outputs_hidden": false
    },
    "papermill": {
     "duration": 0.369444,
     "end_time": "2022-09-17T17:03:44.837898",
     "exception": false,
     "start_time": "2022-09-17T17:03:44.468454",
     "status": "completed"
    },
    "tags": []
   },
   "outputs": [],
   "source": [
    "df['Credit_History_Age'] = df.Credit_History_Age.apply(lambda x: Month_Converter(x)).astype(float)"
   ]
  },
  {
   "cell_type": "code",
   "execution_count": 39,
   "id": "411b012e",
   "metadata": {
    "_cell_guid": "79f4e3c8-556f-46f0-a14b-475380433d46",
    "_uuid": "68ecdd18-c02a-4fab-b698-0ce23e05e303",
    "collapsed": false,
    "execution": {
     "iopub.execute_input": "2022-09-17T17:03:44.917294Z",
     "iopub.status.busy": "2022-09-17T17:03:44.916890Z",
     "iopub.status.idle": "2022-09-17T17:03:45.169058Z",
     "shell.execute_reply": "2022-09-17T17:03:45.167671Z"
    },
    "jupyter": {
     "outputs_hidden": false
    },
    "papermill": {
     "duration": 0.294453,
     "end_time": "2022-09-17T17:03:45.171699",
     "exception": false,
     "start_time": "2022-09-17T17:03:44.877246",
     "status": "completed"
    },
    "tags": []
   },
   "outputs": [
    {
     "data": {
      "text/plain": [
       "Customer_ID\n",
       "1006     [182.0, 183.0, 184.0, 185.0, 186.0, 187.0, 188...\n",
       "1007     [346.0, 347.0, 348.0, 349.0, 350.0, nan, 352.0...\n",
       "1008     [292.0, 293.0, 294.0, nan, 296.0, 297.0, 298.0...\n",
       "1009     [331.0, 332.0, 333.0, 334.0, 335.0, 336.0, 337...\n",
       "1011     [179.0, 180.0, nan, 182.0, 183.0, 184.0, 185.0...\n",
       "                               ...                        \n",
       "50984    [157.0, 158.0, 159.0, nan, 161.0, 162.0, nan, ...\n",
       "50990    [70.0, 71.0, 72.0, nan, nan, 75.0, 76.0, 77.0,...\n",
       "50992    [159.0, 160.0, 161.0, 162.0, 163.0, nan, 165.0...\n",
       "50996    [206.0, 207.0, 208.0, 209.0, 210.0, 211.0, 212...\n",
       "50999    [226.0, 227.0, 228.0, 229.0, 230.0, 231.0, 232...\n",
       "Name: Credit_History_Age, Length: 12500, dtype: object"
      ]
     },
     "execution_count": 39,
     "metadata": {},
     "output_type": "execute_result"
    }
   ],
   "source": [
    "df.groupby('Customer_ID')['Credit_History_Age'].apply(list)"
   ]
  },
  {
   "cell_type": "code",
   "execution_count": 40,
   "id": "d406a47e",
   "metadata": {
    "_cell_guid": "e66cdbee-a882-42c5-a5f2-8e4679db512b",
    "_uuid": "71a326e7-3fdf-4fd3-974d-5282fcb15a4e",
    "collapsed": false,
    "execution": {
     "iopub.execute_input": "2022-09-17T17:03:45.255432Z",
     "iopub.status.busy": "2022-09-17T17:03:45.254214Z",
     "iopub.status.idle": "2022-09-17T17:03:45.311244Z",
     "shell.execute_reply": "2022-09-17T17:03:45.309923Z"
    },
    "jupyter": {
     "outputs_hidden": false
    },
    "papermill": {
     "duration": 0.099799,
     "end_time": "2022-09-17T17:03:45.314080",
     "exception": false,
     "start_time": "2022-09-17T17:03:45.214281",
     "status": "completed"
    },
    "tags": []
   },
   "outputs": [
    {
     "data": {
      "text/plain": [
       "Customer_ID  Type_of_Loan                                                                                         \n",
       "1006         Credit-Builder Loan, and Payday Loan                                                                     12\n",
       "1007         Home Equity Loan, Mortgage Loan, and Student Loan                                                        12\n",
       "1008         NaN                                                                                                      12\n",
       "1009         Credit-Builder Loan, Student Loan, Not Specified, and Student Loan                                       12\n",
       "1011         Personal Loan, Auto Loan, and Auto Loan                                                                  12\n",
       "                                                                                                                      ..\n",
       "50984        Home Equity Loan, Mortgage Loan, Payday Loan, Mortgage Loan, Mortgage Loan, and Payday Loan              12\n",
       "50990        Mortgage Loan, Auto Loan, and Auto Loan                                                                  12\n",
       "50992        Student Loan, Credit-Builder Loan, Mortgage Loan, Payday Loan, Home Equity Loan, and Home Equity Loan    12\n",
       "50996        NaN                                                                                                      12\n",
       "50999        Credit-Builder Loan                                                                                      12\n",
       "Name: Type_of_Loan, Length: 12500, dtype: int64"
      ]
     },
     "execution_count": 40,
     "metadata": {},
     "output_type": "execute_result"
    }
   ],
   "source": [
    "df.groupby('Customer_ID')['Type_of_Loan'].value_counts(dropna=False)"
   ]
  },
  {
   "cell_type": "code",
   "execution_count": 41,
   "id": "fc5875f8",
   "metadata": {
    "_cell_guid": "8e9132fb-9afa-4718-9bb4-3c41b6d3fcbc",
    "_uuid": "5afbc1dc-c11c-4a5c-a67f-4db8d6c007cd",
    "collapsed": false,
    "execution": {
     "iopub.execute_input": "2022-09-17T17:03:45.394107Z",
     "iopub.status.busy": "2022-09-17T17:03:45.393147Z",
     "iopub.status.idle": "2022-09-17T17:03:45.643985Z",
     "shell.execute_reply": "2022-09-17T17:03:45.642793Z"
    },
    "jupyter": {
     "outputs_hidden": false
    },
    "papermill": {
     "duration": 0.293438,
     "end_time": "2022-09-17T17:03:45.646418",
     "exception": false,
     "start_time": "2022-09-17T17:03:45.352980",
     "status": "completed"
    },
    "tags": []
   },
   "outputs": [
    {
     "data": {
      "text/plain": [
       "Customer_ID\n",
       "1006     [Credit-Builder Loan, and Payday Loan, Credit-...\n",
       "1007     [Home Equity Loan, Mortgage Loan, and Student ...\n",
       "1008     [nan, nan, nan, nan, nan, nan, nan, nan, nan, ...\n",
       "1009     [Credit-Builder Loan, Student Loan, Not Specif...\n",
       "1011     [Personal Loan, Auto Loan, and Auto Loan, Pers...\n",
       "                               ...                        \n",
       "50984    [Home Equity Loan, Mortgage Loan, Payday Loan,...\n",
       "50990    [Mortgage Loan, Auto Loan, and Auto Loan, Mort...\n",
       "50992    [Student Loan, Credit-Builder Loan, Mortgage L...\n",
       "50996    [nan, nan, nan, nan, nan, nan, nan, nan, nan, ...\n",
       "50999    [Credit-Builder Loan, Credit-Builder Loan, Cre...\n",
       "Name: Type_of_Loan, Length: 12500, dtype: object"
      ]
     },
     "execution_count": 41,
     "metadata": {},
     "output_type": "execute_result"
    }
   ],
   "source": [
    "df.groupby('Customer_ID')['Type_of_Loan'].apply(list)"
   ]
  },
  {
   "cell_type": "code",
   "execution_count": 42,
   "id": "776a84a3",
   "metadata": {
    "_cell_guid": "83713cc9-b78c-4b09-bbc0-443d9dee72f6",
    "_uuid": "ab158b2c-7093-4bce-ac4f-720c9c0b6e7e",
    "collapsed": false,
    "execution": {
     "iopub.execute_input": "2022-09-17T17:03:45.726106Z",
     "iopub.status.busy": "2022-09-17T17:03:45.725679Z",
     "iopub.status.idle": "2022-09-17T17:03:45.732974Z",
     "shell.execute_reply": "2022-09-17T17:03:45.731894Z"
    },
    "jupyter": {
     "outputs_hidden": false
    },
    "papermill": {
     "duration": 0.050153,
     "end_time": "2022-09-17T17:03:45.735372",
     "exception": false,
     "start_time": "2022-09-17T17:03:45.685219",
     "status": "completed"
    },
    "tags": []
   },
   "outputs": [],
   "source": [
    "def get_Diff_Values_Colum(df_column, diff_value = []):   \n",
    "    column = df_column.dropna()\n",
    "    for i in column:\n",
    "        if ',' not in i and i not in diff_value:\n",
    "            diff_value.append(i)\n",
    "        else:\n",
    "            for data in map(lambda x:x.strip(), i.replace('and','').split(',')):\n",
    "                if not data in diff_value:\n",
    "                    diff_value.append(data)\n",
    "    return dict(enumerate(sorted(diff_value)))"
   ]
  },
  {
   "cell_type": "code",
   "execution_count": 43,
   "id": "94ff4f2f",
   "metadata": {
    "_cell_guid": "1452a7d3-e111-4548-badc-48557a084bd1",
    "_uuid": "027dda61-9e50-488b-a1f3-5c938e7694cf",
    "collapsed": false,
    "execution": {
     "iopub.execute_input": "2022-09-17T17:03:45.815246Z",
     "iopub.status.busy": "2022-09-17T17:03:45.814792Z",
     "iopub.status.idle": "2022-09-17T17:03:46.116628Z",
     "shell.execute_reply": "2022-09-17T17:03:46.115271Z"
    },
    "jupyter": {
     "outputs_hidden": false
    },
    "papermill": {
     "duration": 0.345095,
     "end_time": "2022-09-17T17:03:46.119529",
     "exception": false,
     "start_time": "2022-09-17T17:03:45.774434",
     "status": "completed"
    },
    "tags": []
   },
   "outputs": [
    {
     "data": {
      "text/plain": [
       "{0: 'Auto Loan',\n",
       " 1: 'Credit-Builder Loan',\n",
       " 2: 'Debt Consolidation Loan',\n",
       " 3: 'Home Equity Loan',\n",
       " 4: 'Mortgage Loan',\n",
       " 5: 'Not Specified',\n",
       " 6: 'Payday Loan',\n",
       " 7: 'Personal Loan',\n",
       " 8: 'Student Loan'}"
      ]
     },
     "execution_count": 43,
     "metadata": {},
     "output_type": "execute_result"
    }
   ],
   "source": [
    "get_Diff_Values_Colum(df['Type_of_Loan'])"
   ]
  },
  {
   "cell_type": "code",
   "execution_count": 49,
   "id": "a59ab4b5",
   "metadata": {
    "_cell_guid": "f733f56c-cbaa-48ec-a0ad-43545a12c8e8",
    "_uuid": "cd7dc670-9d6b-4fcf-98d2-d34058775194",
    "collapsed": false,
    "execution": {
     "iopub.execute_input": "2022-09-17T17:03:46.201426Z",
     "iopub.status.busy": "2022-09-17T17:03:46.200720Z",
     "iopub.status.idle": "2022-09-17T17:03:46.268484Z",
     "shell.execute_reply": "2022-09-17T17:03:46.267140Z"
    },
    "jupyter": {
     "outputs_hidden": false
    },
    "papermill": {
     "duration": 0.113129,
     "end_time": "2022-09-17T17:03:46.272676",
     "exception": false,
     "start_time": "2022-09-17T17:03:46.159547",
     "status": "completed"
    },
    "tags": []
   },
   "outputs": [
    {
     "name": "stdout",
     "output_type": "stream",
     "text": [
      "<class 'pandas.core.frame.DataFrame'>\n",
      "RangeIndex: 150000 entries, 0 to 149999\n",
      "Data columns (total 28 columns):\n",
      " #   Column                    Non-Null Count   Dtype  \n",
      "---  ------                    --------------   -----  \n",
      " 0   ID                        150000 non-null  int64  \n",
      " 1   Customer_ID               150000 non-null  int64  \n",
      " 2   Month                     150000 non-null  int64  \n",
      " 3   Name                      135000 non-null  object \n",
      " 4   Age                       150000 non-null  int32  \n",
      " 5   SSN                       141600 non-null  float64\n",
      " 6   Occupation                139500 non-null  object \n",
      " 7   Annual_Income             150000 non-null  float64\n",
      " 8   Monthly_Inhand_Salary     127500 non-null  float64\n",
      " 9   Num_Bank_Accounts         150000 non-null  int64  \n",
      " 10  Num_Credit_Card           150000 non-null  int64  \n",
      " 11  Interest_Rate             150000 non-null  int64  \n",
      " 12  Num_of_Loan               150000 non-null  int32  \n",
      " 13  Type_of_Loan              132888 non-null  object \n",
      " 14  Delay_from_due_date       150000 non-null  int64  \n",
      " 15  Num_of_Delayed_Payment    139500 non-null  float64\n",
      " 16  Changed_Credit_Limit      146850 non-null  float64\n",
      " 17  Num_Credit_Inquiries      147000 non-null  float64\n",
      " 18  Credit_Mix                120000 non-null  object \n",
      " 19  Outstanding_Debt          150000 non-null  float64\n",
      " 20  Credit_Utilization_Ratio  150000 non-null  float64\n",
      " 21  Credit_History_Age        136500 non-null  float64\n",
      " 22  Payment_of_Min_Amount     150000 non-null  object \n",
      " 23  Total_EMI_per_month       150000 non-null  float64\n",
      " 24  Amount_invested_monthly   143250 non-null  float64\n",
      " 25  Payment_Behaviour         138600 non-null  object \n",
      " 26  Monthly_Balance           148238 non-null  float64\n",
      " 27  Credit_Score              100000 non-null  object \n",
      "dtypes: float64(12), int32(2), int64(7), object(7)\n",
      "memory usage: 30.9+ MB\n"
     ]
    }
   ],
   "source": [
    "df.info()"
   ]
  },
  {
   "cell_type": "markdown",
   "id": "06a4bb20",
   "metadata": {
    "_cell_guid": "61cab54c-26cc-4f54-a985-324872885e21",
    "_uuid": "df057f50-2351-417e-afcc-004d47288204",
    "papermill": {
     "duration": 0.039046,
     "end_time": "2022-09-17T17:03:46.351789",
     "exception": false,
     "start_time": "2022-09-17T17:03:46.312743",
     "status": "completed"
    },
    "tags": []
   },
   "source": [
    "# Exploratory Data Analysis (EDA)\n",
    "- Detect NaN Values and Fill by Customer_ID Group"
   ]
  },
  {
   "cell_type": "markdown",
   "id": "2afd97dd",
   "metadata": {
    "_cell_guid": "96ec586f-7461-4c21-9fa3-ff09d9276e13",
    "_uuid": "4339d830-4851-4529-997a-33bd3d687718",
    "papermill": {
     "duration": 0.039112,
     "end_time": "2022-09-17T17:03:46.431304",
     "exception": false,
     "start_time": "2022-09-17T17:03:46.392192",
     "status": "completed"
    },
    "tags": []
   },
   "source": [
    "## Reassign Group NaN Values in Object Column"
   ]
  },
  {
   "cell_type": "code",
   "execution_count": 67,
   "id": "4ba7ef01",
   "metadata": {
    "_cell_guid": "97d3816b-555b-4e25-b4c2-2a64a1097850",
    "_uuid": "38fabc62-f3a5-4650-9398-0b8987d25ee9",
    "collapsed": false,
    "execution": {
     "iopub.execute_input": "2022-09-17T17:03:46.513900Z",
     "iopub.status.busy": "2022-09-17T17:03:46.512886Z",
     "iopub.status.idle": "2022-09-17T17:03:46.526778Z",
     "shell.execute_reply": "2022-09-17T17:03:46.525434Z"
    },
    "jupyter": {
     "outputs_hidden": false
    },
    "papermill": {
     "duration": 0.058866,
     "end_time": "2022-09-17T17:03:46.529684",
     "exception": false,
     "start_time": "2022-09-17T17:03:46.470818",
     "status": "completed"
    },
    "tags": []
   },
   "outputs": [],
   "source": [
    "# Reassign and Show Function\n",
    "import scipy.stats as stats\n",
    "def Reassign_Group_Object_NaN_Values(df, groupby, column, inplace=True):      \n",
    "    # Assigning Wrong values Make Simple Function\n",
    "    def make_NaN_and_fill_mode(df, groupby, column, inplace=True):\n",
    "        # Assign None to np.NaN\n",
    "        if df[column].isin([None]).sum():\n",
    "            df[column][df[column].isin([None])] = np.NaN\n",
    "            \n",
    "        # fill with local mode\n",
    "        result = df.groupby(groupby)[column].transform(lambda x: x.fillna(stats.mode(x)[0][0]))\n",
    "\n",
    "        # inplace\n",
    "        if inplace:\n",
    "            df[column]=result\n",
    "        else:\n",
    "            return result\n",
    "    \n",
    "    # Run      \n",
    "    if inplace:  \n",
    "        # Before Assigning Wrong values      \n",
    "        x = df[column].value_counts(dropna=False).head(1)\n",
    "        print(f'\\nBefore Assigning NaN {column}:', [x if x.index[0] is np.NaN or x.index[0] is None else 'No NaN Value'] , end='\\n')\n",
    "        a = df.groupby(groupby)[column].apply(list) \n",
    "        print(f'\\nBefore Assigning Example {column}:\\n', *a.head().values, sep='\\n', end='\\n')\n",
    "        \n",
    "        # Assigning\n",
    "        make_NaN_and_fill_mode(df, groupby, column, inplace)\n",
    "        \n",
    "        # After Assigning Wrong values\n",
    "        y = df[column].value_counts(dropna=False).head(1)\n",
    "        print(f'\\nAfter Assigning NaN {column}:', [y if y.index[0] is np.NaN or x.index[0] is None else 'No NaN Value'] , end='\\n')\n",
    "        b = df.groupby(groupby)[column].apply(list)\n",
    "        print(f'\\nAfter Assigning Example {column}:\\n', *b.head().values, sep='\\n', end='\\n')\n",
    "    else:   \n",
    "        # Show\n",
    "        return make_NaN_and_fill_mode(df, groupby, column, inplace)"
   ]
  },
  {
   "cell_type": "code",
   "execution_count": 51,
   "id": "916e775d",
   "metadata": {
    "_cell_guid": "85fca568-f135-4746-8df5-d85b3e9edfbe",
    "_uuid": "4a33d8df-8d33-4d6b-a280-44001d65bda0",
    "collapsed": false,
    "execution": {
     "iopub.execute_input": "2022-09-17T17:03:46.612008Z",
     "iopub.status.busy": "2022-09-17T17:03:46.611536Z",
     "iopub.status.idle": "2022-09-17T17:03:46.772078Z",
     "shell.execute_reply": "2022-09-17T17:03:46.770911Z"
    },
    "jupyter": {
     "outputs_hidden": false
    },
    "papermill": {
     "duration": 0.204178,
     "end_time": "2022-09-17T17:03:46.774576",
     "exception": false,
     "start_time": "2022-09-17T17:03:46.570398",
     "status": "completed"
    },
    "tags": []
   },
   "outputs": [
    {
     "data": {
      "text/html": [
       "<div>\n",
       "<style scoped>\n",
       "    .dataframe tbody tr th:only-of-type {\n",
       "        vertical-align: middle;\n",
       "    }\n",
       "\n",
       "    .dataframe tbody tr th {\n",
       "        vertical-align: top;\n",
       "    }\n",
       "\n",
       "    .dataframe thead th {\n",
       "        text-align: right;\n",
       "    }\n",
       "</style>\n",
       "<table border=\"1\" class=\"dataframe\">\n",
       "  <thead>\n",
       "    <tr style=\"text-align: right;\">\n",
       "      <th></th>\n",
       "      <th>count</th>\n",
       "      <th>unique</th>\n",
       "      <th>top</th>\n",
       "      <th>freq</th>\n",
       "    </tr>\n",
       "  </thead>\n",
       "  <tbody>\n",
       "    <tr>\n",
       "      <th>Name</th>\n",
       "      <td>135000</td>\n",
       "      <td>10128</td>\n",
       "      <td>Stevex</td>\n",
       "      <td>66</td>\n",
       "    </tr>\n",
       "    <tr>\n",
       "      <th>Occupation</th>\n",
       "      <td>139500</td>\n",
       "      <td>15</td>\n",
       "      <td>Lawyer</td>\n",
       "      <td>9899</td>\n",
       "    </tr>\n",
       "    <tr>\n",
       "      <th>Type_of_Loan</th>\n",
       "      <td>132888</td>\n",
       "      <td>6260</td>\n",
       "      <td>Not Specified</td>\n",
       "      <td>2112</td>\n",
       "    </tr>\n",
       "    <tr>\n",
       "      <th>Credit_Mix</th>\n",
       "      <td>120000</td>\n",
       "      <td>3</td>\n",
       "      <td>Standard</td>\n",
       "      <td>54858</td>\n",
       "    </tr>\n",
       "    <tr>\n",
       "      <th>Payment_of_Min_Amount</th>\n",
       "      <td>150000</td>\n",
       "      <td>3</td>\n",
       "      <td>Yes</td>\n",
       "      <td>78484</td>\n",
       "    </tr>\n",
       "    <tr>\n",
       "      <th>Payment_Behaviour</th>\n",
       "      <td>138600</td>\n",
       "      <td>6</td>\n",
       "      <td>Low_spent_Small_value_payments</td>\n",
       "      <td>38207</td>\n",
       "    </tr>\n",
       "    <tr>\n",
       "      <th>Credit_Score</th>\n",
       "      <td>100000</td>\n",
       "      <td>3</td>\n",
       "      <td>Standard</td>\n",
       "      <td>53174</td>\n",
       "    </tr>\n",
       "  </tbody>\n",
       "</table>\n",
       "</div>"
      ],
      "text/plain": [
       "                        count unique                             top   freq\n",
       "Name                   135000  10128                          Stevex     66\n",
       "Occupation             139500     15                          Lawyer   9899\n",
       "Type_of_Loan           132888   6260                   Not Specified   2112\n",
       "Credit_Mix             120000      3                        Standard  54858\n",
       "Payment_of_Min_Amount  150000      3                             Yes  78484\n",
       "Payment_Behaviour      138600      6  Low_spent_Small_value_payments  38207\n",
       "Credit_Score           100000      3                        Standard  53174"
      ]
     },
     "execution_count": 51,
     "metadata": {},
     "output_type": "execute_result"
    }
   ],
   "source": [
    "df.describe(include='O').T"
   ]
  },
  {
   "cell_type": "markdown",
   "id": "885d2f4c",
   "metadata": {
    "papermill": {
     "duration": 0.040797,
     "end_time": "2022-09-17T17:03:46.854914",
     "exception": false,
     "start_time": "2022-09-17T17:03:46.814117",
     "status": "completed"
    },
    "tags": []
   },
   "source": [
    "### Name"
   ]
  },
  {
   "cell_type": "code",
   "execution_count": 52,
   "id": "4a38bec6",
   "metadata": {
    "_cell_guid": "314f44f4-6f48-4c11-baf4-186a05185561",
    "_uuid": "e2b43ee5-098c-49ae-a66a-a194eee9cd81",
    "collapsed": false,
    "execution": {
     "iopub.execute_input": "2022-09-17T17:03:46.935595Z",
     "iopub.status.busy": "2022-09-17T17:03:46.935127Z",
     "iopub.status.idle": "2022-09-17T17:03:47.194455Z",
     "shell.execute_reply": "2022-09-17T17:03:47.193359Z"
    },
    "jupyter": {
     "outputs_hidden": false
    },
    "papermill": {
     "duration": 0.302522,
     "end_time": "2022-09-17T17:03:47.197043",
     "exception": false,
     "start_time": "2022-09-17T17:03:46.894521",
     "status": "completed"
    },
    "tags": []
   },
   "outputs": [
    {
     "data": {
      "text/plain": [
       "array([list(['Matthias Blamontb', 'Matthias Blamontb', 'Matthias Blamontb', 'Matthias Blamontb', 'Matthias Blamontb', 'Matthias Blamontb', 'Matthias Blamontb', nan, nan, 'Matthias Blamontb', nan, 'Matthias Blamontb']),\n",
       "       list([nan, 'Soyoung Kimu', 'Soyoung Kimu', 'Soyoung Kimu', 'Soyoung Kimu', nan, nan, 'Soyoung Kimu', 'Soyoung Kimu', 'Soyoung Kimu', nan, 'Soyoung Kimu']),\n",
       "       list(['Koht', 'Koht', 'Koht', 'Koht', 'Koht', 'Koht', 'Koht', nan, 'Koht', 'Koht', 'Koht', 'Koht']),\n",
       "       list(['Edd', 'Edd', 'Edd', 'Edd', 'Edd', 'Edd', 'Edd', 'Edd', 'Edd', 'Edd', 'Edd', nan]),\n",
       "       list(['Terry Wadeu', 'Terry Wadeu', 'Terry Wadeu', 'Terry Wadeu', 'Terry Wadeu', 'Terry Wadeu', 'Terry Wadeu', nan, nan, 'Terry Wadeu', 'Terry Wadeu', nan])],\n",
       "      dtype=object)"
      ]
     },
     "execution_count": 52,
     "metadata": {},
     "output_type": "execute_result"
    }
   ],
   "source": [
    "df.groupby('Customer_ID')['Name'].apply(list).head().values"
   ]
  },
  {
   "cell_type": "code",
   "execution_count": 53,
   "id": "28711266",
   "metadata": {
    "_cell_guid": "48b62f69-a0b3-424d-883c-48222cf67688",
    "_uuid": "e49281a9-45dd-4f5c-a730-2a1f9cab6133",
    "collapsed": false,
    "execution": {
     "iopub.execute_input": "2022-09-17T17:03:47.282532Z",
     "iopub.status.busy": "2022-09-17T17:03:47.281660Z",
     "iopub.status.idle": "2022-09-17T17:03:47.305966Z",
     "shell.execute_reply": "2022-09-17T17:03:47.304825Z"
    },
    "jupyter": {
     "outputs_hidden": false
    },
    "papermill": {
     "duration": 0.070802,
     "end_time": "2022-09-17T17:03:47.308464",
     "exception": false,
     "start_time": "2022-09-17T17:03:47.237662",
     "status": "completed"
    },
    "tags": []
   },
   "outputs": [
    {
     "data": {
      "text/plain": [
       "NaN         15000\n",
       "Stevex         66\n",
       "Langep         65\n",
       "Jessicad       59\n",
       "Johnc          58\n",
       "Name: Name, dtype: int64"
      ]
     },
     "execution_count": 53,
     "metadata": {},
     "output_type": "execute_result"
    }
   ],
   "source": [
    "df['Name'].value_counts(dropna=False).head()"
   ]
  },
  {
   "cell_type": "code",
   "execution_count": 54,
   "id": "a7344ca4",
   "metadata": {
    "_cell_guid": "cff02fa1-0bb7-412d-9a92-2bf45abc89a8",
    "_uuid": "a4ae3aba-4c3e-446d-b0b8-17dd0c067cb3",
    "collapsed": false,
    "execution": {
     "iopub.execute_input": "2022-09-17T17:03:47.391663Z",
     "iopub.status.busy": "2022-09-17T17:03:47.391219Z",
     "iopub.status.idle": "2022-09-17T17:03:53.645283Z",
     "shell.execute_reply": "2022-09-17T17:03:53.643697Z"
    },
    "jupyter": {
     "outputs_hidden": false
    },
    "papermill": {
     "duration": 6.300701,
     "end_time": "2022-09-17T17:03:53.649409",
     "exception": false,
     "start_time": "2022-09-17T17:03:47.348708",
     "status": "completed"
    },
    "tags": []
   },
   "outputs": [
    {
     "name": "stdout",
     "output_type": "stream",
     "text": [
      "\n",
      "Before Assigning NaN Name: [NaN    15000\n",
      "Name: Name, dtype: int64]\n",
      "\n",
      "Before Assigning Example Name:\n",
      "\n",
      "['Matthias Blamontb', 'Matthias Blamontb', 'Matthias Blamontb', 'Matthias Blamontb', 'Matthias Blamontb', 'Matthias Blamontb', 'Matthias Blamontb', nan, nan, 'Matthias Blamontb', nan, 'Matthias Blamontb']\n",
      "[nan, 'Soyoung Kimu', 'Soyoung Kimu', 'Soyoung Kimu', 'Soyoung Kimu', nan, nan, 'Soyoung Kimu', 'Soyoung Kimu', 'Soyoung Kimu', nan, 'Soyoung Kimu']\n",
      "['Koht', 'Koht', 'Koht', 'Koht', 'Koht', 'Koht', 'Koht', nan, 'Koht', 'Koht', 'Koht', 'Koht']\n",
      "['Edd', 'Edd', 'Edd', 'Edd', 'Edd', 'Edd', 'Edd', 'Edd', 'Edd', 'Edd', 'Edd', nan]\n",
      "['Terry Wadeu', 'Terry Wadeu', 'Terry Wadeu', 'Terry Wadeu', 'Terry Wadeu', 'Terry Wadeu', 'Terry Wadeu', nan, nan, 'Terry Wadeu', 'Terry Wadeu', nan]\n",
      "\n",
      "After Assigning NaN Name: ['No NaN Value']\n",
      "\n",
      "After Assigning Example Name:\n",
      "\n",
      "['Matthias Blamontb', 'Matthias Blamontb', 'Matthias Blamontb', 'Matthias Blamontb', 'Matthias Blamontb', 'Matthias Blamontb', 'Matthias Blamontb', 'Matthias Blamontb', 'Matthias Blamontb', 'Matthias Blamontb', 'Matthias Blamontb', 'Matthias Blamontb']\n",
      "['Soyoung Kimu', 'Soyoung Kimu', 'Soyoung Kimu', 'Soyoung Kimu', 'Soyoung Kimu', 'Soyoung Kimu', 'Soyoung Kimu', 'Soyoung Kimu', 'Soyoung Kimu', 'Soyoung Kimu', 'Soyoung Kimu', 'Soyoung Kimu']\n",
      "['Koht', 'Koht', 'Koht', 'Koht', 'Koht', 'Koht', 'Koht', 'Koht', 'Koht', 'Koht', 'Koht', 'Koht']\n",
      "['Edd', 'Edd', 'Edd', 'Edd', 'Edd', 'Edd', 'Edd', 'Edd', 'Edd', 'Edd', 'Edd', 'Edd']\n",
      "['Terry Wadeu', 'Terry Wadeu', 'Terry Wadeu', 'Terry Wadeu', 'Terry Wadeu', 'Terry Wadeu', 'Terry Wadeu', 'Terry Wadeu', 'Terry Wadeu', 'Terry Wadeu', 'Terry Wadeu', 'Terry Wadeu']\n"
     ]
    }
   ],
   "source": [
    "Reassign_Group_Object_NaN_Values(df, 'Customer_ID', 'Name')"
   ]
  },
  {
   "cell_type": "markdown",
   "id": "763fcc88",
   "metadata": {
    "papermill": {
     "duration": 0.039725,
     "end_time": "2022-09-17T17:03:53.730232",
     "exception": false,
     "start_time": "2022-09-17T17:03:53.690507",
     "status": "completed"
    },
    "tags": []
   },
   "source": [
    "### Occupation"
   ]
  },
  {
   "cell_type": "code",
   "execution_count": 55,
   "id": "c83260e9",
   "metadata": {
    "_cell_guid": "808b3b8d-c4ae-4536-96e1-a34d91d005ba",
    "_uuid": "cd3c378f-bd17-421a-813f-ba40cfa617ec",
    "collapsed": false,
    "execution": {
     "iopub.execute_input": "2022-09-17T17:03:53.812238Z",
     "iopub.status.busy": "2022-09-17T17:03:53.811803Z",
     "iopub.status.idle": "2022-09-17T17:03:53.829772Z",
     "shell.execute_reply": "2022-09-17T17:03:53.828704Z"
    },
    "jupyter": {
     "outputs_hidden": false
    },
    "papermill": {
     "duration": 0.061835,
     "end_time": "2022-09-17T17:03:53.832014",
     "exception": false,
     "start_time": "2022-09-17T17:03:53.770179",
     "status": "completed"
    },
    "tags": []
   },
   "outputs": [
    {
     "data": {
      "text/plain": [
       "NaN              10500\n",
       "Lawyer            9899\n",
       "Engineer          9562\n",
       "Architect         9550\n",
       "Mechanic          9459\n",
       "Accountant        9404\n",
       "Scientist         9403\n",
       "Developer         9381\n",
       "Media_Manager     9362\n",
       "Teacher           9318\n",
       "Entrepreneur      9277\n",
       "Journalist        9122\n",
       "Doctor            9114\n",
       "Manager           8973\n",
       "Musician          8858\n",
       "Writer            8818\n",
       "Name: Occupation, dtype: int64"
      ]
     },
     "execution_count": 55,
     "metadata": {},
     "output_type": "execute_result"
    }
   ],
   "source": [
    "df['Occupation'].value_counts(dropna=False)"
   ]
  },
  {
   "cell_type": "code",
   "execution_count": 56,
   "id": "d9f77f85",
   "metadata": {
    "_cell_guid": "6acf9a3b-a728-4816-8c10-a263cedc9afd",
    "_uuid": "fd2c93c4-6f57-43ab-aef1-220304727c03",
    "collapsed": false,
    "execution": {
     "iopub.execute_input": "2022-09-17T17:03:53.915307Z",
     "iopub.status.busy": "2022-09-17T17:03:53.914883Z",
     "iopub.status.idle": "2022-09-17T17:04:00.129339Z",
     "shell.execute_reply": "2022-09-17T17:04:00.127113Z"
    },
    "jupyter": {
     "outputs_hidden": false
    },
    "papermill": {
     "duration": 6.258904,
     "end_time": "2022-09-17T17:04:00.132152",
     "exception": false,
     "start_time": "2022-09-17T17:03:53.873248",
     "status": "completed"
    },
    "tags": []
   },
   "outputs": [
    {
     "name": "stdout",
     "output_type": "stream",
     "text": [
      "\n",
      "Before Assigning NaN Occupation: [NaN    10500\n",
      "Name: Occupation, dtype: int64]\n",
      "\n",
      "Before Assigning Example Occupation:\n",
      "\n",
      "['Journalist', 'Journalist', 'Journalist', 'Journalist', 'Journalist', nan, 'Journalist', 'Journalist', 'Journalist', 'Journalist', 'Journalist', 'Journalist']\n",
      "['Manager', 'Manager', nan, 'Manager', 'Manager', 'Manager', 'Manager', 'Manager', 'Manager', 'Manager', 'Manager', 'Manager']\n",
      "['Developer', 'Developer', 'Developer', 'Developer', 'Developer', 'Developer', 'Developer', 'Developer', 'Developer', 'Developer', 'Developer', 'Developer']\n",
      "['Accountant', nan, 'Accountant', 'Accountant', 'Accountant', 'Accountant', 'Accountant', 'Accountant', 'Accountant', nan, 'Accountant', 'Accountant']\n",
      "['Writer', 'Writer', 'Writer', 'Writer', nan, 'Writer', 'Writer', 'Writer', nan, 'Writer', 'Writer', 'Writer']\n",
      "\n",
      "After Assigning NaN Occupation: ['No NaN Value']\n",
      "\n",
      "After Assigning Example Occupation:\n",
      "\n",
      "['Journalist', 'Journalist', 'Journalist', 'Journalist', 'Journalist', 'Journalist', 'Journalist', 'Journalist', 'Journalist', 'Journalist', 'Journalist', 'Journalist']\n",
      "['Manager', 'Manager', 'Manager', 'Manager', 'Manager', 'Manager', 'Manager', 'Manager', 'Manager', 'Manager', 'Manager', 'Manager']\n",
      "['Developer', 'Developer', 'Developer', 'Developer', 'Developer', 'Developer', 'Developer', 'Developer', 'Developer', 'Developer', 'Developer', 'Developer']\n",
      "['Accountant', 'Accountant', 'Accountant', 'Accountant', 'Accountant', 'Accountant', 'Accountant', 'Accountant', 'Accountant', 'Accountant', 'Accountant', 'Accountant']\n",
      "['Writer', 'Writer', 'Writer', 'Writer', 'Writer', 'Writer', 'Writer', 'Writer', 'Writer', 'Writer', 'Writer', 'Writer']\n"
     ]
    }
   ],
   "source": [
    "Reassign_Group_Object_NaN_Values(df, 'Customer_ID', 'Occupation')"
   ]
  },
  {
   "cell_type": "markdown",
   "id": "5ef3db9b",
   "metadata": {
    "papermill": {
     "duration": 0.039828,
     "end_time": "2022-09-17T17:04:00.214083",
     "exception": false,
     "start_time": "2022-09-17T17:04:00.174255",
     "status": "completed"
    },
    "tags": []
   },
   "source": [
    "### Type_of_Loan"
   ]
  },
  {
   "cell_type": "code",
   "execution_count": 57,
   "id": "eaab8dee",
   "metadata": {
    "_cell_guid": "dce8697c-5bcc-402a-9b32-83bc00f2c5c6",
    "_uuid": "535f21bc-2d32-46f1-8a39-19b95bdf9817",
    "collapsed": false,
    "execution": {
     "iopub.execute_input": "2022-09-17T17:04:00.297385Z",
     "iopub.status.busy": "2022-09-17T17:04:00.296205Z",
     "iopub.status.idle": "2022-09-17T17:04:00.352283Z",
     "shell.execute_reply": "2022-09-17T17:04:00.350932Z"
    },
    "jupyter": {
     "outputs_hidden": false
    },
    "papermill": {
     "duration": 0.100628,
     "end_time": "2022-09-17T17:04:00.355112",
     "exception": false,
     "start_time": "2022-09-17T17:04:00.254484",
     "status": "completed"
    },
    "tags": []
   },
   "outputs": [
    {
     "data": {
      "text/plain": [
       "Customer_ID  Type_of_Loan                                                                                         \n",
       "1006         Credit-Builder Loan, and Payday Loan                                                                     12\n",
       "1007         Home Equity Loan, Mortgage Loan, and Student Loan                                                        12\n",
       "1008         NaN                                                                                                      12\n",
       "1009         Credit-Builder Loan, Student Loan, Not Specified, and Student Loan                                       12\n",
       "1011         Personal Loan, Auto Loan, and Auto Loan                                                                  12\n",
       "                                                                                                                      ..\n",
       "50984        Home Equity Loan, Mortgage Loan, Payday Loan, Mortgage Loan, Mortgage Loan, and Payday Loan              12\n",
       "50990        Mortgage Loan, Auto Loan, and Auto Loan                                                                  12\n",
       "50992        Student Loan, Credit-Builder Loan, Mortgage Loan, Payday Loan, Home Equity Loan, and Home Equity Loan    12\n",
       "50996        NaN                                                                                                      12\n",
       "50999        Credit-Builder Loan                                                                                      12\n",
       "Name: Type_of_Loan, Length: 12500, dtype: int64"
      ]
     },
     "execution_count": 57,
     "metadata": {},
     "output_type": "execute_result"
    }
   ],
   "source": [
    "df.groupby('Customer_ID')['Type_of_Loan'].value_counts(dropna=False)"
   ]
  },
  {
   "cell_type": "code",
   "execution_count": 58,
   "id": "856cd63f",
   "metadata": {
    "_cell_guid": "0b040723-ada2-4a95-8660-9b3392ab150e",
    "_uuid": "16b1bd5f-883e-48b2-9d8f-552f21ab38f9",
    "collapsed": false,
    "execution": {
     "iopub.execute_input": "2022-09-17T17:04:00.437931Z",
     "iopub.status.busy": "2022-09-17T17:04:00.436948Z",
     "iopub.status.idle": "2022-09-17T17:04:00.451672Z",
     "shell.execute_reply": "2022-09-17T17:04:00.450513Z"
    },
    "jupyter": {
     "outputs_hidden": false
    },
    "papermill": {
     "duration": 0.058772,
     "end_time": "2022-09-17T17:04:00.454213",
     "exception": false,
     "start_time": "2022-09-17T17:04:00.395441",
     "status": "completed"
    },
    "tags": []
   },
   "outputs": [],
   "source": [
    "df['Type_of_Loan'].replace([np.NaN], 'No Data', inplace=True)"
   ]
  },
  {
   "cell_type": "markdown",
   "id": "d822b29f",
   "metadata": {
    "papermill": {
     "duration": 0.039895,
     "end_time": "2022-09-17T17:04:00.534591",
     "exception": false,
     "start_time": "2022-09-17T17:04:00.494696",
     "status": "completed"
    },
    "tags": []
   },
   "source": [
    "### Credit_Mix"
   ]
  },
  {
   "cell_type": "code",
   "execution_count": 59,
   "id": "4ae6fdfb",
   "metadata": {
    "_cell_guid": "d0dea104-aec9-4b30-b0af-bbbf01fee0e2",
    "_uuid": "cfa11eb6-f2d6-4a10-a16e-ef4c13c02d03",
    "collapsed": false,
    "execution": {
     "iopub.execute_input": "2022-09-17T17:04:00.618242Z",
     "iopub.status.busy": "2022-09-17T17:04:00.617788Z",
     "iopub.status.idle": "2022-09-17T17:04:00.636093Z",
     "shell.execute_reply": "2022-09-17T17:04:00.634940Z"
    },
    "jupyter": {
     "outputs_hidden": false
    },
    "papermill": {
     "duration": 0.062793,
     "end_time": "2022-09-17T17:04:00.638424",
     "exception": false,
     "start_time": "2022-09-17T17:04:00.575631",
     "status": "completed"
    },
    "tags": []
   },
   "outputs": [
    {
     "data": {
      "text/plain": [
       "Standard    54858\n",
       "Good        36597\n",
       "NaN         30000\n",
       "Bad         28545\n",
       "Name: Credit_Mix, dtype: int64"
      ]
     },
     "execution_count": 59,
     "metadata": {},
     "output_type": "execute_result"
    }
   ],
   "source": [
    "df['Credit_Mix'].value_counts(dropna=False)"
   ]
  },
  {
   "cell_type": "code",
   "execution_count": 60,
   "id": "60463907",
   "metadata": {
    "_cell_guid": "b0c4882b-1164-4974-bb85-e99669e0cced",
    "_uuid": "6c558851-96c6-47a9-9290-d14426915cfb",
    "collapsed": false,
    "execution": {
     "iopub.execute_input": "2022-09-17T17:04:00.721711Z",
     "iopub.status.busy": "2022-09-17T17:04:00.721086Z",
     "iopub.status.idle": "2022-09-17T17:04:06.936561Z",
     "shell.execute_reply": "2022-09-17T17:04:06.934545Z"
    },
    "jupyter": {
     "outputs_hidden": false
    },
    "papermill": {
     "duration": 6.260218,
     "end_time": "2022-09-17T17:04:06.939447",
     "exception": false,
     "start_time": "2022-09-17T17:04:00.679229",
     "status": "completed"
    },
    "tags": []
   },
   "outputs": [
    {
     "name": "stdout",
     "output_type": "stream",
     "text": [
      "\n",
      "Before Assigning NaN Credit_Mix: ['No NaN Value']\n",
      "\n",
      "Before Assigning Example Credit_Mix:\n",
      "\n",
      "['Standard', 'Standard', 'Standard', 'Standard', 'Standard', nan, 'Standard', 'Standard', 'Standard', 'Standard', 'Standard', 'Standard']\n",
      "[nan, 'Standard', 'Standard', 'Standard', nan, 'Standard', nan, 'Standard', 'Standard', 'Standard', 'Standard', 'Standard']\n",
      "[nan, 'Standard', 'Standard', nan, 'Standard', 'Standard', 'Standard', 'Standard', 'Standard', 'Standard', 'Standard', 'Standard']\n",
      "['Standard', nan, 'Standard', 'Standard', 'Standard', 'Standard', 'Standard', 'Standard', 'Standard', nan, 'Standard', 'Standard']\n",
      "[nan, nan, 'Standard', 'Standard', 'Standard', 'Standard', 'Standard', 'Standard', 'Standard', 'Standard', 'Standard', 'Standard']\n",
      "\n",
      "After Assigning NaN Credit_Mix: ['No NaN Value']\n",
      "\n",
      "After Assigning Example Credit_Mix:\n",
      "\n",
      "['Standard', 'Standard', 'Standard', 'Standard', 'Standard', 'Standard', 'Standard', 'Standard', 'Standard', 'Standard', 'Standard', 'Standard']\n",
      "['Standard', 'Standard', 'Standard', 'Standard', 'Standard', 'Standard', 'Standard', 'Standard', 'Standard', 'Standard', 'Standard', 'Standard']\n",
      "['Standard', 'Standard', 'Standard', 'Standard', 'Standard', 'Standard', 'Standard', 'Standard', 'Standard', 'Standard', 'Standard', 'Standard']\n",
      "['Standard', 'Standard', 'Standard', 'Standard', 'Standard', 'Standard', 'Standard', 'Standard', 'Standard', 'Standard', 'Standard', 'Standard']\n",
      "['Standard', 'Standard', 'Standard', 'Standard', 'Standard', 'Standard', 'Standard', 'Standard', 'Standard', 'Standard', 'Standard', 'Standard']\n"
     ]
    }
   ],
   "source": [
    "Reassign_Group_Object_NaN_Values(df, 'Customer_ID', 'Credit_Mix')"
   ]
  },
  {
   "cell_type": "markdown",
   "id": "4a92b8cc",
   "metadata": {
    "papermill": {
     "duration": 0.040822,
     "end_time": "2022-09-17T17:04:07.021446",
     "exception": false,
     "start_time": "2022-09-17T17:04:06.980624",
     "status": "completed"
    },
    "tags": []
   },
   "source": [
    "### Payment_of_Min_Amount"
   ]
  },
  {
   "cell_type": "code",
   "execution_count": 61,
   "id": "3ee61553",
   "metadata": {
    "_cell_guid": "0df963c0-5e8c-45ec-81a4-f02664ac9a39",
    "_uuid": "51684f20-d1c2-42d3-82f2-b924ceeeda5c",
    "collapsed": false,
    "execution": {
     "iopub.execute_input": "2022-09-17T17:04:07.105229Z",
     "iopub.status.busy": "2022-09-17T17:04:07.104792Z",
     "iopub.status.idle": "2022-09-17T17:04:07.123044Z",
     "shell.execute_reply": "2022-09-17T17:04:07.121908Z"
    },
    "jupyter": {
     "outputs_hidden": false
    },
    "papermill": {
     "duration": 0.063177,
     "end_time": "2022-09-17T17:04:07.125456",
     "exception": false,
     "start_time": "2022-09-17T17:04:07.062279",
     "status": "completed"
    },
    "tags": []
   },
   "outputs": [
    {
     "data": {
      "text/plain": [
       "Yes    78484\n",
       "No     53516\n",
       "NM     18000\n",
       "Name: Payment_of_Min_Amount, dtype: int64"
      ]
     },
     "execution_count": 61,
     "metadata": {},
     "output_type": "execute_result"
    }
   ],
   "source": [
    "# Not Required\n",
    "df['Payment_of_Min_Amount'].value_counts(dropna=False)"
   ]
  },
  {
   "cell_type": "markdown",
   "id": "f3fae6f8",
   "metadata": {
    "papermill": {
     "duration": 0.041839,
     "end_time": "2022-09-17T17:04:07.209868",
     "exception": false,
     "start_time": "2022-09-17T17:04:07.168029",
     "status": "completed"
    },
    "tags": []
   },
   "source": [
    "### Payment_Behaviour"
   ]
  },
  {
   "cell_type": "code",
   "execution_count": 62,
   "id": "0eb468e9",
   "metadata": {
    "_cell_guid": "5c79ce59-1410-4029-aa77-6d89f38a7f53",
    "_uuid": "8e39aedc-37d9-4133-823b-b7feb845950a",
    "collapsed": false,
    "execution": {
     "iopub.execute_input": "2022-09-17T17:04:07.296282Z",
     "iopub.status.busy": "2022-09-17T17:04:07.295887Z",
     "iopub.status.idle": "2022-09-17T17:04:07.314919Z",
     "shell.execute_reply": "2022-09-17T17:04:07.313407Z"
    },
    "jupyter": {
     "outputs_hidden": false
    },
    "papermill": {
     "duration": 0.065145,
     "end_time": "2022-09-17T17:04:07.317320",
     "exception": false,
     "start_time": "2022-09-17T17:04:07.252175",
     "status": "completed"
    },
    "tags": []
   },
   "outputs": [
    {
     "data": {
      "text/plain": [
       "Low_spent_Small_value_payments      38207\n",
       "High_spent_Medium_value_payments    26462\n",
       "Low_spent_Medium_value_payments     20698\n",
       "High_spent_Large_value_payments     20565\n",
       "High_spent_Small_value_payments     16991\n",
       "Low_spent_Large_value_payments      15677\n",
       "NaN                                 11400\n",
       "Name: Payment_Behaviour, dtype: int64"
      ]
     },
     "execution_count": 62,
     "metadata": {},
     "output_type": "execute_result"
    }
   ],
   "source": [
    "df['Payment_Behaviour'].value_counts(dropna=False)"
   ]
  },
  {
   "cell_type": "code",
   "execution_count": 63,
   "id": "4b6a155c",
   "metadata": {
    "_cell_guid": "fef04541-176e-4310-88d3-edfef18a20cc",
    "_uuid": "a56c7d40-cbd7-47ce-87c4-a547df177920",
    "collapsed": false,
    "execution": {
     "iopub.execute_input": "2022-09-17T17:04:07.402352Z",
     "iopub.status.busy": "2022-09-17T17:04:07.401902Z",
     "iopub.status.idle": "2022-09-17T17:04:14.044110Z",
     "shell.execute_reply": "2022-09-17T17:04:14.042866Z"
    },
    "jupyter": {
     "outputs_hidden": false
    },
    "papermill": {
     "duration": 6.687007,
     "end_time": "2022-09-17T17:04:14.046537",
     "exception": false,
     "start_time": "2022-09-17T17:04:07.359530",
     "status": "completed"
    },
    "tags": []
   },
   "outputs": [
    {
     "name": "stdout",
     "output_type": "stream",
     "text": [
      "\n",
      "Before Assigning NaN Payment_Behaviour: ['No NaN Value']\n",
      "\n",
      "Before Assigning Example Payment_Behaviour:\n",
      "\n",
      "['High_spent_Medium_value_payments', 'Low_spent_Medium_value_payments', 'Low_spent_Small_value_payments', 'High_spent_Small_value_payments', 'Low_spent_Large_value_payments', nan, 'Low_spent_Large_value_payments', 'Low_spent_Small_value_payments', 'Low_spent_Small_value_payments', 'Low_spent_Medium_value_payments', 'Low_spent_Small_value_payments', 'Low_spent_Small_value_payments']\n",
      "['High_spent_Medium_value_payments', 'High_spent_Medium_value_payments', 'Low_spent_Small_value_payments', 'High_spent_Medium_value_payments', 'Low_spent_Small_value_payments', nan, 'Low_spent_Small_value_payments', 'Low_spent_Small_value_payments', 'Low_spent_Medium_value_payments', 'Low_spent_Large_value_payments', 'Low_spent_Small_value_payments', 'Low_spent_Small_value_payments']\n",
      "['High_spent_Small_value_payments', 'Low_spent_Large_value_payments', 'Low_spent_Small_value_payments', 'High_spent_Small_value_payments', 'High_spent_Medium_value_payments', 'High_spent_Small_value_payments', 'Low_spent_Large_value_payments', 'Low_spent_Large_value_payments', 'High_spent_Small_value_payments', 'High_spent_Small_value_payments', 'Low_spent_Small_value_payments', 'High_spent_Medium_value_payments']\n",
      "['High_spent_Medium_value_payments', 'High_spent_Large_value_payments', 'High_spent_Medium_value_payments', 'Low_spent_Large_value_payments', 'Low_spent_Medium_value_payments', 'Low_spent_Large_value_payments', nan, 'High_spent_Large_value_payments', 'Low_spent_Medium_value_payments', 'High_spent_Large_value_payments', 'High_spent_Medium_value_payments', 'High_spent_Medium_value_payments']\n",
      "['High_spent_Small_value_payments', 'Low_spent_Small_value_payments', 'High_spent_Medium_value_payments', 'Low_spent_Large_value_payments', 'Low_spent_Medium_value_payments', 'Low_spent_Small_value_payments', 'High_spent_Large_value_payments', 'Low_spent_Medium_value_payments', 'Low_spent_Large_value_payments', 'Low_spent_Medium_value_payments', 'High_spent_Large_value_payments', nan]\n",
      "\n",
      "After Assigning NaN Payment_Behaviour: ['No NaN Value']\n",
      "\n",
      "After Assigning Example Payment_Behaviour:\n",
      "\n",
      "['High_spent_Medium_value_payments', 'Low_spent_Medium_value_payments', 'Low_spent_Small_value_payments', 'High_spent_Small_value_payments', 'Low_spent_Large_value_payments', 'Low_spent_Small_value_payments', 'Low_spent_Large_value_payments', 'Low_spent_Small_value_payments', 'Low_spent_Small_value_payments', 'Low_spent_Medium_value_payments', 'Low_spent_Small_value_payments', 'Low_spent_Small_value_payments']\n",
      "['High_spent_Medium_value_payments', 'High_spent_Medium_value_payments', 'Low_spent_Small_value_payments', 'High_spent_Medium_value_payments', 'Low_spent_Small_value_payments', 'Low_spent_Small_value_payments', 'Low_spent_Small_value_payments', 'Low_spent_Small_value_payments', 'Low_spent_Medium_value_payments', 'Low_spent_Large_value_payments', 'Low_spent_Small_value_payments', 'Low_spent_Small_value_payments']\n",
      "['High_spent_Small_value_payments', 'Low_spent_Large_value_payments', 'Low_spent_Small_value_payments', 'High_spent_Small_value_payments', 'High_spent_Medium_value_payments', 'High_spent_Small_value_payments', 'Low_spent_Large_value_payments', 'Low_spent_Large_value_payments', 'High_spent_Small_value_payments', 'High_spent_Small_value_payments', 'Low_spent_Small_value_payments', 'High_spent_Medium_value_payments']\n",
      "['High_spent_Medium_value_payments', 'High_spent_Large_value_payments', 'High_spent_Medium_value_payments', 'Low_spent_Large_value_payments', 'Low_spent_Medium_value_payments', 'Low_spent_Large_value_payments', 'High_spent_Medium_value_payments', 'High_spent_Large_value_payments', 'Low_spent_Medium_value_payments', 'High_spent_Large_value_payments', 'High_spent_Medium_value_payments', 'High_spent_Medium_value_payments']\n",
      "['High_spent_Small_value_payments', 'Low_spent_Small_value_payments', 'High_spent_Medium_value_payments', 'Low_spent_Large_value_payments', 'Low_spent_Medium_value_payments', 'Low_spent_Small_value_payments', 'High_spent_Large_value_payments', 'Low_spent_Medium_value_payments', 'Low_spent_Large_value_payments', 'Low_spent_Medium_value_payments', 'High_spent_Large_value_payments', 'Low_spent_Medium_value_payments']\n"
     ]
    }
   ],
   "source": [
    "Reassign_Group_Object_NaN_Values(df, 'Customer_ID', 'Payment_Behaviour')"
   ]
  },
  {
   "cell_type": "markdown",
   "id": "7e939c1b",
   "metadata": {
    "_cell_guid": "4d613f70-7db1-4e42-8633-6ea2498e4ab1",
    "_uuid": "feb3e1d7-8c73-4875-8b44-59a4c62d5ee9",
    "execution": {
     "iopub.execute_input": "2022-07-14T20:30:58.808208Z",
     "iopub.status.busy": "2022-07-14T20:30:58.807447Z",
     "iopub.status.idle": "2022-07-14T20:30:58.812889Z",
     "shell.execute_reply": "2022-07-14T20:30:58.812082Z",
     "shell.execute_reply.started": "2022-07-14T20:30:58.808179Z"
    },
    "papermill": {
     "duration": 0.042564,
     "end_time": "2022-09-17T17:04:14.130891",
     "exception": false,
     "start_time": "2022-09-17T17:04:14.088327",
     "status": "completed"
    },
    "tags": []
   },
   "source": [
    "## Detect Group Min-Max in Numeric Column Reassign NaN Values"
   ]
  },
  {
   "cell_type": "code",
   "execution_count": 64,
   "id": "97181c20",
   "metadata": {
    "_cell_guid": "eccd24c7-ecb0-49c5-ab5f-7972edff0b1b",
    "_uuid": "c1c225bb-7aab-4c33-99db-98c9fb9df271",
    "collapsed": false,
    "execution": {
     "iopub.execute_input": "2022-09-17T17:04:14.216102Z",
     "iopub.status.busy": "2022-09-17T17:04:14.215667Z",
     "iopub.status.idle": "2022-09-17T17:04:14.405035Z",
     "shell.execute_reply": "2022-09-17T17:04:14.403685Z"
    },
    "jupyter": {
     "outputs_hidden": false
    },
    "papermill": {
     "duration": 0.23555,
     "end_time": "2022-09-17T17:04:14.407714",
     "exception": false,
     "start_time": "2022-09-17T17:04:14.172164",
     "status": "completed"
    },
    "tags": []
   },
   "outputs": [
    {
     "data": {
      "text/html": [
       "<div>\n",
       "<style scoped>\n",
       "    .dataframe tbody tr th:only-of-type {\n",
       "        vertical-align: middle;\n",
       "    }\n",
       "\n",
       "    .dataframe tbody tr th {\n",
       "        vertical-align: top;\n",
       "    }\n",
       "\n",
       "    .dataframe thead th {\n",
       "        text-align: right;\n",
       "    }\n",
       "</style>\n",
       "<table border=\"1\" class=\"dataframe\">\n",
       "  <thead>\n",
       "    <tr style=\"text-align: right;\">\n",
       "      <th></th>\n",
       "      <th>count</th>\n",
       "      <th>mean</th>\n",
       "      <th>std</th>\n",
       "      <th>min</th>\n",
       "      <th>25%</th>\n",
       "      <th>50%</th>\n",
       "      <th>75%</th>\n",
       "      <th>max</th>\n",
       "    </tr>\n",
       "  </thead>\n",
       "  <tbody>\n",
       "    <tr>\n",
       "      <th>ID</th>\n",
       "      <td>150000.0</td>\n",
       "      <td>8.063350e+04</td>\n",
       "      <td>4.330141e+04</td>\n",
       "      <td>5.634000e+03</td>\n",
       "      <td>4.313375e+04</td>\n",
       "      <td>8.063350e+04</td>\n",
       "      <td>1.181332e+05</td>\n",
       "      <td>1.556330e+05</td>\n",
       "    </tr>\n",
       "    <tr>\n",
       "      <th>Customer_ID</th>\n",
       "      <td>150000.0</td>\n",
       "      <td>2.598267e+04</td>\n",
       "      <td>1.434052e+04</td>\n",
       "      <td>1.006000e+03</td>\n",
       "      <td>1.366450e+04</td>\n",
       "      <td>2.577700e+04</td>\n",
       "      <td>3.838500e+04</td>\n",
       "      <td>5.099900e+04</td>\n",
       "    </tr>\n",
       "    <tr>\n",
       "      <th>Month</th>\n",
       "      <td>150000.0</td>\n",
       "      <td>6.500000e+00</td>\n",
       "      <td>3.452064e+00</td>\n",
       "      <td>1.000000e+00</td>\n",
       "      <td>3.750000e+00</td>\n",
       "      <td>6.500000e+00</td>\n",
       "      <td>9.250000e+00</td>\n",
       "      <td>1.200000e+01</td>\n",
       "    </tr>\n",
       "    <tr>\n",
       "      <th>Age</th>\n",
       "      <td>150000.0</td>\n",
       "      <td>1.103379e+02</td>\n",
       "      <td>6.840668e+02</td>\n",
       "      <td>-5.000000e+02</td>\n",
       "      <td>2.500000e+01</td>\n",
       "      <td>3.300000e+01</td>\n",
       "      <td>4.200000e+01</td>\n",
       "      <td>8.698000e+03</td>\n",
       "    </tr>\n",
       "    <tr>\n",
       "      <th>SSN</th>\n",
       "      <td>141600.0</td>\n",
       "      <td>5.005493e+08</td>\n",
       "      <td>2.907135e+08</td>\n",
       "      <td>8.134900e+04</td>\n",
       "      <td>2.453159e+08</td>\n",
       "      <td>5.007606e+08</td>\n",
       "      <td>7.559962e+08</td>\n",
       "      <td>9.999934e+08</td>\n",
       "    </tr>\n",
       "    <tr>\n",
       "      <th>Annual_Income</th>\n",
       "      <td>150000.0</td>\n",
       "      <td>1.730552e+05</td>\n",
       "      <td>1.404215e+06</td>\n",
       "      <td>7.005930e+03</td>\n",
       "      <td>1.945549e+04</td>\n",
       "      <td>3.757861e+04</td>\n",
       "      <td>7.279690e+04</td>\n",
       "      <td>2.419806e+07</td>\n",
       "    </tr>\n",
       "    <tr>\n",
       "      <th>Monthly_Inhand_Salary</th>\n",
       "      <td>127500.0</td>\n",
       "      <td>4.190115e+03</td>\n",
       "      <td>3.180490e+03</td>\n",
       "      <td>3.036454e+02</td>\n",
       "      <td>1.625266e+03</td>\n",
       "      <td>3.091000e+03</td>\n",
       "      <td>5.948455e+03</td>\n",
       "      <td>1.520463e+04</td>\n",
       "    </tr>\n",
       "    <tr>\n",
       "      <th>Num_Bank_Accounts</th>\n",
       "      <td>150000.0</td>\n",
       "      <td>1.700694e+01</td>\n",
       "      <td>1.170695e+02</td>\n",
       "      <td>-1.000000e+00</td>\n",
       "      <td>3.000000e+00</td>\n",
       "      <td>6.000000e+00</td>\n",
       "      <td>7.000000e+00</td>\n",
       "      <td>1.798000e+03</td>\n",
       "    </tr>\n",
       "    <tr>\n",
       "      <th>Num_Credit_Card</th>\n",
       "      <td>150000.0</td>\n",
       "      <td>2.262345e+01</td>\n",
       "      <td>1.291430e+02</td>\n",
       "      <td>0.000000e+00</td>\n",
       "      <td>4.000000e+00</td>\n",
       "      <td>5.000000e+00</td>\n",
       "      <td>7.000000e+00</td>\n",
       "      <td>1.499000e+03</td>\n",
       "    </tr>\n",
       "    <tr>\n",
       "      <th>Interest_Rate</th>\n",
       "      <td>150000.0</td>\n",
       "      <td>7.123491e+01</td>\n",
       "      <td>4.615372e+02</td>\n",
       "      <td>1.000000e+00</td>\n",
       "      <td>8.000000e+00</td>\n",
       "      <td>1.300000e+01</td>\n",
       "      <td>2.000000e+01</td>\n",
       "      <td>5.799000e+03</td>\n",
       "    </tr>\n",
       "    <tr>\n",
       "      <th>Num_of_Loan</th>\n",
       "      <td>150000.0</td>\n",
       "      <td>3.141093e+00</td>\n",
       "      <td>6.391065e+01</td>\n",
       "      <td>-1.000000e+02</td>\n",
       "      <td>1.000000e+00</td>\n",
       "      <td>3.000000e+00</td>\n",
       "      <td>5.000000e+00</td>\n",
       "      <td>1.496000e+03</td>\n",
       "    </tr>\n",
       "    <tr>\n",
       "      <th>Delay_from_due_date</th>\n",
       "      <td>150000.0</td>\n",
       "      <td>2.106340e+01</td>\n",
       "      <td>1.486015e+01</td>\n",
       "      <td>-5.000000e+00</td>\n",
       "      <td>1.000000e+01</td>\n",
       "      <td>1.800000e+01</td>\n",
       "      <td>2.800000e+01</td>\n",
       "      <td>6.700000e+01</td>\n",
       "    </tr>\n",
       "    <tr>\n",
       "      <th>Num_of_Delayed_Payment</th>\n",
       "      <td>139500.0</td>\n",
       "      <td>3.091188e+01</td>\n",
       "      <td>2.245340e+02</td>\n",
       "      <td>-3.000000e+00</td>\n",
       "      <td>9.000000e+00</td>\n",
       "      <td>1.400000e+01</td>\n",
       "      <td>1.800000e+01</td>\n",
       "      <td>4.399000e+03</td>\n",
       "    </tr>\n",
       "    <tr>\n",
       "      <th>Changed_Credit_Limit</th>\n",
       "      <td>146850.0</td>\n",
       "      <td>1.038430e+01</td>\n",
       "      <td>6.786522e+00</td>\n",
       "      <td>-6.490000e+00</td>\n",
       "      <td>5.330000e+00</td>\n",
       "      <td>9.410000e+00</td>\n",
       "      <td>1.484000e+01</td>\n",
       "      <td>3.697000e+01</td>\n",
       "    </tr>\n",
       "    <tr>\n",
       "      <th>Num_Credit_Inquiries</th>\n",
       "      <td>147000.0</td>\n",
       "      <td>2.852901e+01</td>\n",
       "      <td>1.944561e+02</td>\n",
       "      <td>0.000000e+00</td>\n",
       "      <td>3.000000e+00</td>\n",
       "      <td>6.000000e+00</td>\n",
       "      <td>9.000000e+00</td>\n",
       "      <td>2.597000e+03</td>\n",
       "    </tr>\n",
       "    <tr>\n",
       "      <th>Outstanding_Debt</th>\n",
       "      <td>150000.0</td>\n",
       "      <td>1.426220e+03</td>\n",
       "      <td>1.155127e+03</td>\n",
       "      <td>2.300000e-01</td>\n",
       "      <td>5.660725e+02</td>\n",
       "      <td>1.166155e+03</td>\n",
       "      <td>1.945963e+03</td>\n",
       "      <td>4.998070e+03</td>\n",
       "    </tr>\n",
       "    <tr>\n",
       "      <th>Credit_Utilization_Ratio</th>\n",
       "      <td>150000.0</td>\n",
       "      <td>3.228331e+01</td>\n",
       "      <td>5.113315e+00</td>\n",
       "      <td>2.000000e+01</td>\n",
       "      <td>2.805473e+01</td>\n",
       "      <td>3.229706e+01</td>\n",
       "      <td>3.648795e+01</td>\n",
       "      <td>5.000000e+01</td>\n",
       "    </tr>\n",
       "    <tr>\n",
       "      <th>Credit_History_Age</th>\n",
       "      <td>136500.0</td>\n",
       "      <td>2.232153e+02</td>\n",
       "      <td>9.971955e+01</td>\n",
       "      <td>1.000000e+00</td>\n",
       "      <td>1.460000e+02</td>\n",
       "      <td>2.220000e+02</td>\n",
       "      <td>3.040000e+02</td>\n",
       "      <td>4.080000e+02</td>\n",
       "    </tr>\n",
       "    <tr>\n",
       "      <th>Total_EMI_per_month</th>\n",
       "      <td>150000.0</td>\n",
       "      <td>1.432514e+03</td>\n",
       "      <td>8.403760e+03</td>\n",
       "      <td>0.000000e+00</td>\n",
       "      <td>3.094778e+01</td>\n",
       "      <td>7.128001e+01</td>\n",
       "      <td>1.662796e+02</td>\n",
       "      <td>8.239800e+04</td>\n",
       "    </tr>\n",
       "    <tr>\n",
       "      <th>Amount_invested_monthly</th>\n",
       "      <td>143250.0</td>\n",
       "      <td>6.388263e+02</td>\n",
       "      <td>2.046843e+03</td>\n",
       "      <td>0.000000e+00</td>\n",
       "      <td>7.453384e+01</td>\n",
       "      <td>1.357914e+02</td>\n",
       "      <td>2.661108e+02</td>\n",
       "      <td>1.000000e+04</td>\n",
       "    </tr>\n",
       "    <tr>\n",
       "      <th>Monthly_Balance</th>\n",
       "      <td>148238.0</td>\n",
       "      <td>-3.372954e+22</td>\n",
       "      <td>3.352927e+24</td>\n",
       "      <td>-3.333333e+26</td>\n",
       "      <td>2.702297e+02</td>\n",
       "      <td>3.367995e+02</td>\n",
       "      <td>4.704553e+02</td>\n",
       "      <td>1.606518e+03</td>\n",
       "    </tr>\n",
       "  </tbody>\n",
       "</table>\n",
       "</div>"
      ],
      "text/plain": [
       "                             count          mean           std           min  \\\n",
       "ID                        150000.0  8.063350e+04  4.330141e+04  5.634000e+03   \n",
       "Customer_ID               150000.0  2.598267e+04  1.434052e+04  1.006000e+03   \n",
       "Month                     150000.0  6.500000e+00  3.452064e+00  1.000000e+00   \n",
       "Age                       150000.0  1.103379e+02  6.840668e+02 -5.000000e+02   \n",
       "SSN                       141600.0  5.005493e+08  2.907135e+08  8.134900e+04   \n",
       "Annual_Income             150000.0  1.730552e+05  1.404215e+06  7.005930e+03   \n",
       "Monthly_Inhand_Salary     127500.0  4.190115e+03  3.180490e+03  3.036454e+02   \n",
       "Num_Bank_Accounts         150000.0  1.700694e+01  1.170695e+02 -1.000000e+00   \n",
       "Num_Credit_Card           150000.0  2.262345e+01  1.291430e+02  0.000000e+00   \n",
       "Interest_Rate             150000.0  7.123491e+01  4.615372e+02  1.000000e+00   \n",
       "Num_of_Loan               150000.0  3.141093e+00  6.391065e+01 -1.000000e+02   \n",
       "Delay_from_due_date       150000.0  2.106340e+01  1.486015e+01 -5.000000e+00   \n",
       "Num_of_Delayed_Payment    139500.0  3.091188e+01  2.245340e+02 -3.000000e+00   \n",
       "Changed_Credit_Limit      146850.0  1.038430e+01  6.786522e+00 -6.490000e+00   \n",
       "Num_Credit_Inquiries      147000.0  2.852901e+01  1.944561e+02  0.000000e+00   \n",
       "Outstanding_Debt          150000.0  1.426220e+03  1.155127e+03  2.300000e-01   \n",
       "Credit_Utilization_Ratio  150000.0  3.228331e+01  5.113315e+00  2.000000e+01   \n",
       "Credit_History_Age        136500.0  2.232153e+02  9.971955e+01  1.000000e+00   \n",
       "Total_EMI_per_month       150000.0  1.432514e+03  8.403760e+03  0.000000e+00   \n",
       "Amount_invested_monthly   143250.0  6.388263e+02  2.046843e+03  0.000000e+00   \n",
       "Monthly_Balance           148238.0 -3.372954e+22  3.352927e+24 -3.333333e+26   \n",
       "\n",
       "                                   25%           50%           75%  \\\n",
       "ID                        4.313375e+04  8.063350e+04  1.181332e+05   \n",
       "Customer_ID               1.366450e+04  2.577700e+04  3.838500e+04   \n",
       "Month                     3.750000e+00  6.500000e+00  9.250000e+00   \n",
       "Age                       2.500000e+01  3.300000e+01  4.200000e+01   \n",
       "SSN                       2.453159e+08  5.007606e+08  7.559962e+08   \n",
       "Annual_Income             1.945549e+04  3.757861e+04  7.279690e+04   \n",
       "Monthly_Inhand_Salary     1.625266e+03  3.091000e+03  5.948455e+03   \n",
       "Num_Bank_Accounts         3.000000e+00  6.000000e+00  7.000000e+00   \n",
       "Num_Credit_Card           4.000000e+00  5.000000e+00  7.000000e+00   \n",
       "Interest_Rate             8.000000e+00  1.300000e+01  2.000000e+01   \n",
       "Num_of_Loan               1.000000e+00  3.000000e+00  5.000000e+00   \n",
       "Delay_from_due_date       1.000000e+01  1.800000e+01  2.800000e+01   \n",
       "Num_of_Delayed_Payment    9.000000e+00  1.400000e+01  1.800000e+01   \n",
       "Changed_Credit_Limit      5.330000e+00  9.410000e+00  1.484000e+01   \n",
       "Num_Credit_Inquiries      3.000000e+00  6.000000e+00  9.000000e+00   \n",
       "Outstanding_Debt          5.660725e+02  1.166155e+03  1.945963e+03   \n",
       "Credit_Utilization_Ratio  2.805473e+01  3.229706e+01  3.648795e+01   \n",
       "Credit_History_Age        1.460000e+02  2.220000e+02  3.040000e+02   \n",
       "Total_EMI_per_month       3.094778e+01  7.128001e+01  1.662796e+02   \n",
       "Amount_invested_monthly   7.453384e+01  1.357914e+02  2.661108e+02   \n",
       "Monthly_Balance           2.702297e+02  3.367995e+02  4.704553e+02   \n",
       "\n",
       "                                   max  \n",
       "ID                        1.556330e+05  \n",
       "Customer_ID               5.099900e+04  \n",
       "Month                     1.200000e+01  \n",
       "Age                       8.698000e+03  \n",
       "SSN                       9.999934e+08  \n",
       "Annual_Income             2.419806e+07  \n",
       "Monthly_Inhand_Salary     1.520463e+04  \n",
       "Num_Bank_Accounts         1.798000e+03  \n",
       "Num_Credit_Card           1.499000e+03  \n",
       "Interest_Rate             5.799000e+03  \n",
       "Num_of_Loan               1.496000e+03  \n",
       "Delay_from_due_date       6.700000e+01  \n",
       "Num_of_Delayed_Payment    4.399000e+03  \n",
       "Changed_Credit_Limit      3.697000e+01  \n",
       "Num_Credit_Inquiries      2.597000e+03  \n",
       "Outstanding_Debt          4.998070e+03  \n",
       "Credit_Utilization_Ratio  5.000000e+01  \n",
       "Credit_History_Age        4.080000e+02  \n",
       "Total_EMI_per_month       8.239800e+04  \n",
       "Amount_invested_monthly   1.000000e+04  \n",
       "Monthly_Balance           1.606518e+03  "
      ]
     },
     "execution_count": 64,
     "metadata": {},
     "output_type": "execute_result"
    }
   ],
   "source": [
    "df.describe().T"
   ]
  },
  {
   "cell_type": "code",
   "execution_count": 65,
   "id": "0cc87bac",
   "metadata": {
    "_cell_guid": "c71d5b24-43a2-4230-b86f-2b3208024a70",
    "_uuid": "6026032c-efb3-49fc-a7c8-106265de840e",
    "collapsed": false,
    "execution": {
     "iopub.execute_input": "2022-09-17T17:04:14.493416Z",
     "iopub.status.busy": "2022-09-17T17:04:14.492982Z",
     "iopub.status.idle": "2022-09-17T17:04:14.503365Z",
     "shell.execute_reply": "2022-09-17T17:04:14.502290Z"
    },
    "jupyter": {
     "outputs_hidden": false
    },
    "papermill": {
     "duration": 0.05584,
     "end_time": "2022-09-17T17:04:14.505574",
     "exception": false,
     "start_time": "2022-09-17T17:04:14.449734",
     "status": "completed"
    },
    "tags": []
   },
   "outputs": [
    {
     "data": {
      "text/plain": [
       "12500"
      ]
     },
     "execution_count": 65,
     "metadata": {},
     "output_type": "execute_result"
    }
   ],
   "source": [
    "df['Customer_ID'].nunique()"
   ]
  },
  {
   "cell_type": "code",
   "execution_count": 66,
   "id": "e79fe906",
   "metadata": {
    "_cell_guid": "53bef67e-8096-439f-a1ac-bb39dc54a0fa",
    "_uuid": "c5e82174-fe67-4e4e-9b17-b542338a0899",
    "collapsed": false,
    "execution": {
     "iopub.execute_input": "2022-09-17T17:04:14.592960Z",
     "iopub.status.busy": "2022-09-17T17:04:14.592543Z",
     "iopub.status.idle": "2022-09-17T17:04:14.599141Z",
     "shell.execute_reply": "2022-09-17T17:04:14.598069Z"
    },
    "jupyter": {
     "outputs_hidden": false
    },
    "papermill": {
     "duration": 0.05331,
     "end_time": "2022-09-17T17:04:14.601320",
     "exception": false,
     "start_time": "2022-09-17T17:04:14.548010",
     "status": "completed"
    },
    "tags": []
   },
   "outputs": [],
   "source": [
    "# Define Outlier Range\n",
    "def get_iqr_lower_upper(df, column, multiply=1.5):\n",
    "    q1 = df[column].quantile(0.25)\n",
    "    q3 = df[column].quantile(0.75)\n",
    "    iqr = q3 -q1\n",
    "    \n",
    "    lower = q1-iqr*multiply\n",
    "    upper = q3+iqr*multiply\n",
    "    affect = df.loc[(df[column]<lower)|(df[column]>upper)].shape\n",
    "    print('Outliers:', affect)\n",
    "    return lower, upper"
   ]
  },
  {
   "cell_type": "code",
   "execution_count": 68,
   "id": "cf01532a",
   "metadata": {
    "_cell_guid": "258e3090-b0be-452f-8da1-de7b493d8881",
    "_uuid": "3498c143-b486-4cfd-9cbb-d41f1c29fade",
    "collapsed": false,
    "execution": {
     "iopub.execute_input": "2022-09-17T17:04:14.691391Z",
     "iopub.status.busy": "2022-09-17T17:04:14.690290Z",
     "iopub.status.idle": "2022-09-17T17:04:14.707378Z",
     "shell.execute_reply": "2022-09-17T17:04:14.706276Z"
    },
    "jupyter": {
     "outputs_hidden": false
    },
    "papermill": {
     "duration": 0.064684,
     "end_time": "2022-09-17T17:04:14.709909",
     "exception": false,
     "start_time": "2022-09-17T17:04:14.645225",
     "status": "completed"
    },
    "tags": []
   },
   "outputs": [],
   "source": [
    "# Reassign Wrong Values and Show Function\n",
    "def Reassign_Group_Numeric_Wrong_Values(df, groupby, column, inplace=True):      \n",
    "\n",
    "    # Identify Wrong values Range\n",
    "    def get_group_min_max(df, groupby, column):            \n",
    "        cur = df[df[column].notna()].groupby(groupby)[column].apply(list)\n",
    "        x, y = cur.apply(lambda x: stats.mode(x)).apply([min, max])\n",
    "        return x[0][0], y[0][0]\n",
    "    \n",
    "    # Assigning Wrong values\n",
    "    def make_group_NaN_and_fill_mode(df, groupby, column, inplace=True):\n",
    "        df_dropped = df[df[column].notna()].groupby(groupby)[column].apply(list)\n",
    "        x, y = df_dropped.apply(lambda x: stats.mode(x)).apply([min, max])\n",
    "        mini, maxi = x[0][0], y[0][0]\n",
    "\n",
    "        # assign Wrong Values to NaN\n",
    "        col = df[column].apply(lambda x: np.NaN if ((x<mini)|(x>maxi)) else x)\n",
    "\n",
    "        # fill with local mode\n",
    "        mode_by_group = df.groupby(groupby)[column].transform(lambda x: x.mode()[0] if not x.mode().empty else np.NaN)\n",
    "        result = col.fillna(mode_by_group)\n",
    "\n",
    "        # inplace\n",
    "        if inplace:\n",
    "            df[column]=result\n",
    "        else:\n",
    "            return result\n",
    "        \n",
    "    \n",
    "    # Run      \n",
    "    if inplace:   \n",
    "        print(\"\\nExisting Min, Max Values:\", df[column].apply([min, max]), sep='\\n', end='\\n')       \n",
    "        mini, maxi = get_group_min_max(df, groupby, column)        \n",
    "        print(f\"\\nGroupby by {groupby}'s Actual min, max Values:\", f'min:\\t{mini},\\nmax:\\t{ maxi}', sep='\\n', end='\\n')\n",
    "        \n",
    "        # Before Assigning Wrong values      \n",
    "        x = df[column].value_counts(dropna=False).head(1)\n",
    "        print(f'\\nBefore Assigning Min, Max {column}:', [x if x.index[0] is np.NaN or x.index[0] is None else 'No NaN Value'] , end='\\n')\n",
    "        \n",
    "        a = df.groupby(groupby)[column].apply(list) \n",
    "        print(f'\\nBefore Assigning Example {column}:\\n', *a.head().values, sep='\\n', end='\\n')\n",
    "        \n",
    "        # Assigning\n",
    "        make_group_NaN_and_fill_mode(df, groupby, column, inplace)\n",
    "        \n",
    "        # After Assigning Wrong values\n",
    "        y = df[column].value_counts(dropna=False).head(1)\n",
    "        print(f'\\nAfter Assigning  Min, Max {column}:', [y if y.index[0] is np.NaN or x.index[0] is None else 'No NaN Value'] , end='\\n')\n",
    "        \n",
    "        b = df.groupby(groupby)[column].apply(list)\n",
    "        print(f'\\nAfter Assigning Example {column}:\\n', *b.head().values, sep='\\n', end='\\n')\n",
    "    else:   \n",
    "        # Show\n",
    "        return make_group_NaN_and_fill_mode(df, groupby, column, inplace)"
   ]
  },
  {
   "cell_type": "code",
   "execution_count": 69,
   "id": "52840640",
   "metadata": {
    "_cell_guid": "8d08e5f8-7bcc-434c-9010-7fbe8ef2bcc3",
    "_uuid": "42bb3692-c1bd-4981-b12b-06f5516008b8",
    "collapsed": false,
    "execution": {
     "iopub.execute_input": "2022-09-17T17:04:14.795601Z",
     "iopub.status.busy": "2022-09-17T17:04:14.795177Z",
     "iopub.status.idle": "2022-09-17T17:04:14.972968Z",
     "shell.execute_reply": "2022-09-17T17:04:14.971771Z"
    },
    "jupyter": {
     "outputs_hidden": false
    },
    "papermill": {
     "duration": 0.223637,
     "end_time": "2022-09-17T17:04:14.975540",
     "exception": false,
     "start_time": "2022-09-17T17:04:14.751903",
     "status": "completed"
    },
    "tags": []
   },
   "outputs": [
    {
     "data": {
      "text/plain": [
       "Index(['ID', 'Customer_ID', 'Month', 'Age', 'SSN', 'Annual_Income',\n",
       "       'Monthly_Inhand_Salary', 'Num_Bank_Accounts', 'Num_Credit_Card',\n",
       "       'Interest_Rate', 'Num_of_Loan', 'Delay_from_due_date',\n",
       "       'Num_of_Delayed_Payment', 'Changed_Credit_Limit',\n",
       "       'Num_Credit_Inquiries', 'Outstanding_Debt', 'Credit_Utilization_Ratio',\n",
       "       'Credit_History_Age', 'Total_EMI_per_month', 'Amount_invested_monthly',\n",
       "       'Monthly_Balance'],\n",
       "      dtype='object')"
      ]
     },
     "execution_count": 69,
     "metadata": {},
     "output_type": "execute_result"
    }
   ],
   "source": [
    "df.describe().columns"
   ]
  },
  {
   "cell_type": "markdown",
   "id": "90ed4308",
   "metadata": {
    "papermill": {
     "duration": 0.042601,
     "end_time": "2022-09-17T17:04:15.060836",
     "exception": false,
     "start_time": "2022-09-17T17:04:15.018235",
     "status": "completed"
    },
    "tags": []
   },
   "source": [
    "### ID"
   ]
  },
  {
   "cell_type": "code",
   "execution_count": 70,
   "id": "819298c4",
   "metadata": {
    "_cell_guid": "b73dfb42-f9f7-485e-ab3c-d79bc2d0bfe2",
    "_uuid": "b0e4f7cc-5898-440d-8e79-a2418e37c130",
    "collapsed": false,
    "execution": {
     "iopub.execute_input": "2022-09-17T17:04:15.146343Z",
     "iopub.status.busy": "2022-09-17T17:04:15.145943Z",
     "iopub.status.idle": "2022-09-17T17:04:15.159696Z",
     "shell.execute_reply": "2022-09-17T17:04:15.158479Z"
    },
    "jupyter": {
     "outputs_hidden": false
    },
    "papermill": {
     "duration": 0.059523,
     "end_time": "2022-09-17T17:04:15.162230",
     "exception": false,
     "start_time": "2022-09-17T17:04:15.102707",
     "status": "completed"
    },
    "tags": []
   },
   "outputs": [
    {
     "data": {
      "text/plain": [
       "150000"
      ]
     },
     "execution_count": 70,
     "metadata": {},
     "output_type": "execute_result"
    }
   ],
   "source": [
    "df['ID'].nunique()"
   ]
  },
  {
   "cell_type": "markdown",
   "id": "1a478c0b",
   "metadata": {
    "papermill": {
     "duration": 0.042071,
     "end_time": "2022-09-17T17:04:15.247456",
     "exception": false,
     "start_time": "2022-09-17T17:04:15.205385",
     "status": "completed"
    },
    "tags": []
   },
   "source": [
    "### Month"
   ]
  },
  {
   "cell_type": "code",
   "execution_count": 71,
   "id": "c5a5b416",
   "metadata": {
    "_cell_guid": "a1255470-e683-4cd5-97fe-b4a99a422375",
    "_uuid": "fc579bf9-136f-410c-976e-0b264e23bc16",
    "collapsed": false,
    "execution": {
     "iopub.execute_input": "2022-09-17T17:04:15.337576Z",
     "iopub.status.busy": "2022-09-17T17:04:15.336685Z",
     "iopub.status.idle": "2022-09-17T17:04:15.347181Z",
     "shell.execute_reply": "2022-09-17T17:04:15.346098Z"
    },
    "jupyter": {
     "outputs_hidden": false
    },
    "papermill": {
     "duration": 0.057609,
     "end_time": "2022-09-17T17:04:15.349488",
     "exception": false,
     "start_time": "2022-09-17T17:04:15.291879",
     "status": "completed"
    },
    "tags": []
   },
   "outputs": [
    {
     "data": {
      "text/plain": [
       "1     12500\n",
       "2     12500\n",
       "3     12500\n",
       "4     12500\n",
       "5     12500\n",
       "6     12500\n",
       "7     12500\n",
       "8     12500\n",
       "9     12500\n",
       "10    12500\n",
       "11    12500\n",
       "12    12500\n",
       "Name: Month, dtype: int64"
      ]
     },
     "execution_count": 71,
     "metadata": {},
     "output_type": "execute_result"
    }
   ],
   "source": [
    "df['Month'].value_counts()"
   ]
  },
  {
   "cell_type": "markdown",
   "id": "1dc829c8",
   "metadata": {
    "papermill": {
     "duration": 0.041963,
     "end_time": "2022-09-17T17:04:15.434584",
     "exception": false,
     "start_time": "2022-09-17T17:04:15.392621",
     "status": "completed"
    },
    "tags": []
   },
   "source": [
    "### Age"
   ]
  },
  {
   "cell_type": "code",
   "execution_count": 72,
   "id": "d112c5e7",
   "metadata": {
    "_cell_guid": "a385c6ec-6257-4b43-8f71-a42e4455f8c8",
    "_uuid": "c4c53b0b-d5c2-4151-a2d7-3dff4f6bf303",
    "collapsed": false,
    "execution": {
     "iopub.execute_input": "2022-09-17T17:04:15.522487Z",
     "iopub.status.busy": "2022-09-17T17:04:15.521647Z",
     "iopub.status.idle": "2022-09-17T17:04:24.162265Z",
     "shell.execute_reply": "2022-09-17T17:04:24.160692Z"
    },
    "jupyter": {
     "outputs_hidden": false
    },
    "papermill": {
     "duration": 8.687658,
     "end_time": "2022-09-17T17:04:24.164791",
     "exception": false,
     "start_time": "2022-09-17T17:04:15.477133",
     "status": "completed"
    },
    "tags": []
   },
   "outputs": [
    {
     "name": "stdout",
     "output_type": "stream",
     "text": [
      "\n",
      "Existing Min, Max Values:\n",
      "min    -500\n",
      "max    8698\n",
      "Name: Age, dtype: int64\n",
      "\n",
      "Groupby by Customer_ID's Actual min, max Values:\n",
      "min:\t14,\n",
      "max:\t56\n",
      "\n",
      "Before Assigning Min, Max Age: ['No NaN Value']\n",
      "\n",
      "Before Assigning Example Age:\n",
      "\n",
      "[37, 38, 38, 8153, 38, 38, 38, 38, 38, 38, 38, 38]\n",
      "[48, 48, 48, 48, 48, 48, 48, 48, 48, 48, 48, 49]\n",
      "[3452, 37, 37, 37, 37, 37, 37, 37, 37, 37, 37, 37]\n",
      "[22, 22, 22, 22, 22, 22, 22, 23, 23, 23, 23, 23]\n",
      "[43, 44, 44, 44, 44, 44, 44, 44, 44, 44, 44, 44]\n",
      "\n",
      "After Assigning  Min, Max Age: ['No NaN Value']\n",
      "\n",
      "After Assigning Example Age:\n",
      "\n",
      "[37.0, 38.0, 38.0, 38.0, 38.0, 38.0, 38.0, 38.0, 38.0, 38.0, 38.0, 38.0]\n",
      "[48.0, 48.0, 48.0, 48.0, 48.0, 48.0, 48.0, 48.0, 48.0, 48.0, 48.0, 49.0]\n",
      "[37.0, 37.0, 37.0, 37.0, 37.0, 37.0, 37.0, 37.0, 37.0, 37.0, 37.0, 37.0]\n",
      "[22.0, 22.0, 22.0, 22.0, 22.0, 22.0, 22.0, 23.0, 23.0, 23.0, 23.0, 23.0]\n",
      "[43.0, 44.0, 44.0, 44.0, 44.0, 44.0, 44.0, 44.0, 44.0, 44.0, 44.0, 44.0]\n"
     ]
    }
   ],
   "source": [
    "Reassign_Group_Numeric_Wrong_Values(df, 'Customer_ID', 'Age')"
   ]
  },
  {
   "cell_type": "code",
   "execution_count": 73,
   "id": "118e4e7e",
   "metadata": {
    "_cell_guid": "63636cf3-6149-420c-9f20-c7506eb19401",
    "_uuid": "81ef8249-e84e-4a47-8455-5da8ac9a298c",
    "collapsed": false,
    "execution": {
     "iopub.execute_input": "2022-09-17T17:04:24.253128Z",
     "iopub.status.busy": "2022-09-17T17:04:24.252479Z",
     "iopub.status.idle": "2022-09-17T17:04:24.278107Z",
     "shell.execute_reply": "2022-09-17T17:04:24.276551Z"
    },
    "jupyter": {
     "outputs_hidden": false
    },
    "papermill": {
     "duration": 0.073319,
     "end_time": "2022-09-17T17:04:24.281308",
     "exception": false,
     "start_time": "2022-09-17T17:04:24.207989",
     "status": "completed"
    },
    "tags": []
   },
   "outputs": [
    {
     "name": "stdout",
     "output_type": "stream",
     "text": [
      "Outliers: (0, 28)\n"
     ]
    },
    {
     "data": {
      "text/plain": [
       "(-0.5, 67.5)"
      ]
     },
     "execution_count": 73,
     "metadata": {},
     "output_type": "execute_result"
    }
   ],
   "source": [
    "# Check Outlier\n",
    "get_iqr_lower_upper(df, 'Age')"
   ]
  },
  {
   "cell_type": "markdown",
   "id": "9de4347e",
   "metadata": {
    "papermill": {
     "duration": 0.042773,
     "end_time": "2022-09-17T17:04:24.367469",
     "exception": false,
     "start_time": "2022-09-17T17:04:24.324696",
     "status": "completed"
    },
    "tags": []
   },
   "source": [
    "### SSN"
   ]
  },
  {
   "cell_type": "code",
   "execution_count": 74,
   "id": "acabc14d",
   "metadata": {
    "_cell_guid": "4f2c8c44-4073-4e23-8a37-2f77e2941590",
    "_uuid": "a30a3eb4-a5e0-40d8-bc58-e3de665ebb12",
    "collapsed": false,
    "execution": {
     "iopub.execute_input": "2022-09-17T17:04:24.456092Z",
     "iopub.status.busy": "2022-09-17T17:04:24.455264Z",
     "iopub.status.idle": "2022-09-17T17:04:24.470186Z",
     "shell.execute_reply": "2022-09-17T17:04:24.468902Z"
    },
    "jupyter": {
     "outputs_hidden": false
    },
    "papermill": {
     "duration": 0.062418,
     "end_time": "2022-09-17T17:04:24.473035",
     "exception": false,
     "start_time": "2022-09-17T17:04:24.410617",
     "status": "completed"
    },
    "tags": []
   },
   "outputs": [
    {
     "data": {
      "text/plain": [
       "NaN            8400\n",
       "78735990.0       12\n",
       "47161543.0       12\n",
       "255398777.0      12\n",
       "159517992.0      12\n",
       "               ... \n",
       "414769835.0       7\n",
       "695717676.0       7\n",
       "803446289.0       7\n",
       "74528105.0        7\n",
       "642737670.0       6\n",
       "Name: SSN, Length: 12501, dtype: int64"
      ]
     },
     "execution_count": 74,
     "metadata": {},
     "output_type": "execute_result"
    }
   ],
   "source": [
    "df.SSN.value_counts(dropna=False)"
   ]
  },
  {
   "cell_type": "code",
   "execution_count": 75,
   "id": "b483552d",
   "metadata": {
    "execution": {
     "iopub.execute_input": "2022-09-17T17:04:24.563982Z",
     "iopub.status.busy": "2022-09-17T17:04:24.562836Z",
     "iopub.status.idle": "2022-09-17T17:04:33.128123Z",
     "shell.execute_reply": "2022-09-17T17:04:33.126905Z"
    },
    "papermill": {
     "duration": 8.614591,
     "end_time": "2022-09-17T17:04:33.131224",
     "exception": false,
     "start_time": "2022-09-17T17:04:24.516633",
     "status": "completed"
    },
    "tags": []
   },
   "outputs": [
    {
     "name": "stdout",
     "output_type": "stream",
     "text": [
      "\n",
      "Existing Min, Max Values:\n",
      "min        81349.0\n",
      "max    999993421.0\n",
      "Name: SSN, dtype: float64\n",
      "\n",
      "Groupby by Customer_ID's Actual min, max Values:\n",
      "min:\t81349.0,\n",
      "max:\t999993421.0\n",
      "\n",
      "Before Assigning Min, Max SSN: ['No NaN Value']\n",
      "\n",
      "Before Assigning Example SSN:\n",
      "\n",
      "[354656948.0, 354656948.0, 354656948.0, 354656948.0, 354656948.0, 354656948.0, 354656948.0, 354656948.0, 354656948.0, 354656948.0, nan, 354656948.0]\n",
      "[964812710.0, 964812710.0, 964812710.0, 964812710.0, 964812710.0, 964812710.0, 964812710.0, 964812710.0, 964812710.0, 964812710.0, 964812710.0, 964812710.0]\n",
      "[802194704.0, nan, 802194704.0, 802194704.0, 802194704.0, 802194704.0, 802194704.0, 802194704.0, 802194704.0, 802194704.0, 802194704.0, 802194704.0]\n",
      "[nan, nan, 891062189.0, 891062189.0, 891062189.0, 891062189.0, 891062189.0, 891062189.0, 891062189.0, 891062189.0, 891062189.0, 891062189.0]\n",
      "[422130011.0, 422130011.0, 422130011.0, 422130011.0, 422130011.0, 422130011.0, 422130011.0, 422130011.0, 422130011.0, 422130011.0, 422130011.0, 422130011.0]\n",
      "\n",
      "After Assigning  Min, Max SSN: ['No NaN Value']\n",
      "\n",
      "After Assigning Example SSN:\n",
      "\n",
      "[354656948.0, 354656948.0, 354656948.0, 354656948.0, 354656948.0, 354656948.0, 354656948.0, 354656948.0, 354656948.0, 354656948.0, 354656948.0, 354656948.0]\n",
      "[964812710.0, 964812710.0, 964812710.0, 964812710.0, 964812710.0, 964812710.0, 964812710.0, 964812710.0, 964812710.0, 964812710.0, 964812710.0, 964812710.0]\n",
      "[802194704.0, 802194704.0, 802194704.0, 802194704.0, 802194704.0, 802194704.0, 802194704.0, 802194704.0, 802194704.0, 802194704.0, 802194704.0, 802194704.0]\n",
      "[891062189.0, 891062189.0, 891062189.0, 891062189.0, 891062189.0, 891062189.0, 891062189.0, 891062189.0, 891062189.0, 891062189.0, 891062189.0, 891062189.0]\n",
      "[422130011.0, 422130011.0, 422130011.0, 422130011.0, 422130011.0, 422130011.0, 422130011.0, 422130011.0, 422130011.0, 422130011.0, 422130011.0, 422130011.0]\n"
     ]
    }
   ],
   "source": [
    "Reassign_Group_Numeric_Wrong_Values(df, 'Customer_ID', 'SSN')"
   ]
  },
  {
   "cell_type": "markdown",
   "id": "fbb679a5",
   "metadata": {
    "papermill": {
     "duration": 0.043273,
     "end_time": "2022-09-17T17:04:33.218190",
     "exception": false,
     "start_time": "2022-09-17T17:04:33.174917",
     "status": "completed"
    },
    "tags": []
   },
   "source": [
    "### Annual_Income"
   ]
  },
  {
   "cell_type": "code",
   "execution_count": 76,
   "id": "34ed3c98",
   "metadata": {
    "_cell_guid": "46b10b5e-abda-4bd2-a45d-62ca5b54c78f",
    "_uuid": "e6939814-6ead-4d3a-b626-d540bf94bc88",
    "collapsed": false,
    "execution": {
     "iopub.execute_input": "2022-09-17T17:04:33.309031Z",
     "iopub.status.busy": "2022-09-17T17:04:33.308222Z",
     "iopub.status.idle": "2022-09-17T17:04:33.323697Z",
     "shell.execute_reply": "2022-09-17T17:04:33.322555Z"
    },
    "jupyter": {
     "outputs_hidden": false
    },
    "papermill": {
     "duration": 0.064565,
     "end_time": "2022-09-17T17:04:33.326243",
     "exception": false,
     "start_time": "2022-09-17T17:04:33.261678",
     "status": "completed"
    },
    "tags": []
   },
   "outputs": [
    {
     "data": {
      "text/plain": [
       "109945.32      24\n",
       "20867.67       24\n",
       "9141.63        24\n",
       "17816.75       24\n",
       "40341.16       24\n",
       "               ..\n",
       "23467279.00     1\n",
       "11586734.00     1\n",
       "18324322.00     1\n",
       "3449550.00      1\n",
       "250738.00       1\n",
       "Name: Annual_Income, Length: 13988, dtype: int64"
      ]
     },
     "execution_count": 76,
     "metadata": {},
     "output_type": "execute_result"
    }
   ],
   "source": [
    "df.Annual_Income.value_counts(dropna=False)"
   ]
  },
  {
   "cell_type": "code",
   "execution_count": 77,
   "id": "85f12bec",
   "metadata": {
    "_cell_guid": "f2c2e2ee-78e7-4e7b-8b7a-b98269a4467b",
    "_uuid": "70f86c53-fff8-4765-9db3-a9229f687d04",
    "collapsed": false,
    "execution": {
     "iopub.execute_input": "2022-09-17T17:04:33.417555Z",
     "iopub.status.busy": "2022-09-17T17:04:33.416724Z",
     "iopub.status.idle": "2022-09-17T17:04:42.172105Z",
     "shell.execute_reply": "2022-09-17T17:04:42.170650Z"
    },
    "jupyter": {
     "outputs_hidden": false
    },
    "papermill": {
     "duration": 8.805045,
     "end_time": "2022-09-17T17:04:42.175577",
     "exception": false,
     "start_time": "2022-09-17T17:04:33.370532",
     "status": "completed"
    },
    "tags": []
   },
   "outputs": [
    {
     "name": "stdout",
     "output_type": "stream",
     "text": [
      "\n",
      "Existing Min, Max Values:\n",
      "min        7005.93\n",
      "max    24198062.00\n",
      "Name: Annual_Income, dtype: float64\n",
      "\n",
      "Groupby by Customer_ID's Actual min, max Values:\n",
      "min:\t7005.93,\n",
      "max:\t179987.28\n",
      "\n",
      "Before Assigning Min, Max Annual_Income: ['No NaN Value']\n",
      "\n",
      "Before Assigning Example Annual_Income:\n",
      "\n",
      "[16756.18, 16756.18, 16756.18, 16756.18, 16756.18, 16756.18, 16756.18, 16756.18, 16756.18, 16756.18, 16756.18, 16756.18]\n",
      "[21212.91, 21212.91, 21212.91, 21212.91, 21212.91, 21212.91, 21212.91, 21212.91, 21212.91, 21212.91, 21212.91, 21212.91]\n",
      "[33540.43, 33540.43, 33540.43, 33540.43, 33540.43, 33540.43, 33540.43, 33540.43, 33540.43, 33540.43, 33540.43, 33540.43]\n",
      "[80983.64, 80983.64, 80983.64, 80983.64, 80983.64, 80983.64, 80983.64, 80983.64, 80983.64, 80983.64, 80983.64, 80983.64]\n",
      "[104142.56, 104142.56, 104142.56, 104142.56, 104142.56, 104142.56, 104142.56, 104142.56, 104142.56, 104142.56, 104142.56, 104142.56]\n",
      "\n",
      "After Assigning  Min, Max Annual_Income: ['No NaN Value']\n",
      "\n",
      "After Assigning Example Annual_Income:\n",
      "\n",
      "[16756.18, 16756.18, 16756.18, 16756.18, 16756.18, 16756.18, 16756.18, 16756.18, 16756.18, 16756.18, 16756.18, 16756.18]\n",
      "[21212.91, 21212.91, 21212.91, 21212.91, 21212.91, 21212.91, 21212.91, 21212.91, 21212.91, 21212.91, 21212.91, 21212.91]\n",
      "[33540.43, 33540.43, 33540.43, 33540.43, 33540.43, 33540.43, 33540.43, 33540.43, 33540.43, 33540.43, 33540.43, 33540.43]\n",
      "[80983.64, 80983.64, 80983.64, 80983.64, 80983.64, 80983.64, 80983.64, 80983.64, 80983.64, 80983.64, 80983.64, 80983.64]\n",
      "[104142.56, 104142.56, 104142.56, 104142.56, 104142.56, 104142.56, 104142.56, 104142.56, 104142.56, 104142.56, 104142.56, 104142.56]\n"
     ]
    }
   ],
   "source": [
    "Reassign_Group_Numeric_Wrong_Values(df, 'Customer_ID', 'Annual_Income')"
   ]
  },
  {
   "cell_type": "markdown",
   "id": "1f25834e",
   "metadata": {
    "papermill": {
     "duration": 0.04342,
     "end_time": "2022-09-17T17:04:42.263027",
     "exception": false,
     "start_time": "2022-09-17T17:04:42.219607",
     "status": "completed"
    },
    "tags": []
   },
   "source": [
    "### Monthly_Inhand_Salary"
   ]
  },
  {
   "cell_type": "code",
   "execution_count": 78,
   "id": "cf604d62",
   "metadata": {
    "_cell_guid": "63c27cfa-b7ea-4e7b-b2fc-d3cd4dc90d3a",
    "_uuid": "ed094334-3c81-4cd3-8c40-19163f86a148",
    "collapsed": false,
    "execution": {
     "iopub.execute_input": "2022-09-17T17:04:42.355454Z",
     "iopub.status.busy": "2022-09-17T17:04:42.353585Z",
     "iopub.status.idle": "2022-09-17T17:04:42.368721Z",
     "shell.execute_reply": "2022-09-17T17:04:42.367931Z"
    },
    "jupyter": {
     "outputs_hidden": false
    },
    "papermill": {
     "duration": 0.063691,
     "end_time": "2022-09-17T17:04:42.371233",
     "exception": false,
     "start_time": "2022-09-17T17:04:42.307542",
     "status": "completed"
    },
    "tags": []
   },
   "outputs": [
    {
     "data": {
      "text/plain": [
       "NaN             22500\n",
       "2295.058333        22\n",
       "6082.187500        22\n",
       "6358.956667        21\n",
       "3080.555000        21\n",
       "                ...  \n",
       "4305.385250         1\n",
       "2028.727911         1\n",
       "3065.776667         1\n",
       "2486.532500         1\n",
       "10699.849855        1\n",
       "Name: Monthly_Inhand_Salary, Length: 13684, dtype: int64"
      ]
     },
     "execution_count": 78,
     "metadata": {},
     "output_type": "execute_result"
    }
   ],
   "source": [
    "df.Monthly_Inhand_Salary.value_counts(dropna=False)"
   ]
  },
  {
   "cell_type": "code",
   "execution_count": 79,
   "id": "2df151ab",
   "metadata": {
    "_cell_guid": "0c38e98e-3718-46c6-9859-8fd076fb82c4",
    "_uuid": "873eebb6-62d4-4a37-9c01-38bbf1eb9fb0",
    "collapsed": false,
    "execution": {
     "iopub.execute_input": "2022-09-17T17:04:42.462018Z",
     "iopub.status.busy": "2022-09-17T17:04:42.461575Z",
     "iopub.status.idle": "2022-09-17T17:04:51.284901Z",
     "shell.execute_reply": "2022-09-17T17:04:51.283696Z"
    },
    "jupyter": {
     "outputs_hidden": false
    },
    "papermill": {
     "duration": 8.871851,
     "end_time": "2022-09-17T17:04:51.287653",
     "exception": false,
     "start_time": "2022-09-17T17:04:42.415802",
     "status": "completed"
    },
    "tags": []
   },
   "outputs": [
    {
     "name": "stdout",
     "output_type": "stream",
     "text": [
      "\n",
      "Existing Min, Max Values:\n",
      "min      303.645417\n",
      "max    15204.633333\n",
      "Name: Monthly_Inhand_Salary, dtype: float64\n",
      "\n",
      "Groupby by Customer_ID's Actual min, max Values:\n",
      "min:\t303.6454166666666,\n",
      "max:\t15204.633333333331\n",
      "\n",
      "Before Assigning Min, Max Monthly_Inhand_Salary: ['No NaN Value']\n",
      "\n",
      "Before Assigning Example Monthly_Inhand_Salary:\n",
      "\n",
      "[1331.3483333333334, 1331.3483333333334, 1331.3483333333334, 1331.3483333333334, 1331.3483333333334, 1331.3483333333334, 1331.3483333333334, 1331.3483333333334, 1331.3483333333334, 1331.3483333333334, nan, 1331.3483333333334]\n",
      "[1496.7425, 1496.7425, 1496.7425, 1496.7425, nan, 1496.7425, 1496.7425, 1496.7425, 1496.7425, 1496.7425, 1496.7425, 1496.7425]\n",
      "[2655.035833333333, 2655.035833333333, 2655.035833333333, 2655.035833333333, 2655.035833333333, 2655.035833333333, 2655.035833333333, 2655.035833333333, 2655.035833333333, 2655.035833333333, 2655.035833333333, 2655.035833333333]\n",
      "[6692.636666666666, 6692.636666666666, 6692.636666666666, 6692.636666666666, 6692.636666666666, 6692.636666666666, 6692.636666666666, 6692.636666666666, 6692.636666666666, 6692.636666666666, 6692.636666666666, 6692.636666666666]\n",
      "[8433.546666666667, 8433.546666666667, 8433.546666666667, 8433.546666666667, 8433.546666666667, 8433.546666666667, 8433.546666666667, nan, 8433.546666666667, 8433.546666666667, 8433.546666666667, nan]\n",
      "\n",
      "After Assigning  Min, Max Monthly_Inhand_Salary: ['No NaN Value']\n",
      "\n",
      "After Assigning Example Monthly_Inhand_Salary:\n",
      "\n",
      "[1331.3483333333334, 1331.3483333333334, 1331.3483333333334, 1331.3483333333334, 1331.3483333333334, 1331.3483333333334, 1331.3483333333334, 1331.3483333333334, 1331.3483333333334, 1331.3483333333334, 1331.3483333333334, 1331.3483333333334]\n",
      "[1496.7425, 1496.7425, 1496.7425, 1496.7425, 1496.7425, 1496.7425, 1496.7425, 1496.7425, 1496.7425, 1496.7425, 1496.7425, 1496.7425]\n",
      "[2655.035833333333, 2655.035833333333, 2655.035833333333, 2655.035833333333, 2655.035833333333, 2655.035833333333, 2655.035833333333, 2655.035833333333, 2655.035833333333, 2655.035833333333, 2655.035833333333, 2655.035833333333]\n",
      "[6692.636666666666, 6692.636666666666, 6692.636666666666, 6692.636666666666, 6692.636666666666, 6692.636666666666, 6692.636666666666, 6692.636666666666, 6692.636666666666, 6692.636666666666, 6692.636666666666, 6692.636666666666]\n",
      "[8433.546666666667, 8433.546666666667, 8433.546666666667, 8433.546666666667, 8433.546666666667, 8433.546666666667, 8433.546666666667, 8433.546666666667, 8433.546666666667, 8433.546666666667, 8433.546666666667, 8433.546666666667]\n"
     ]
    }
   ],
   "source": [
    "Reassign_Group_Numeric_Wrong_Values(df, 'Customer_ID', 'Monthly_Inhand_Salary')"
   ]
  },
  {
   "cell_type": "markdown",
   "id": "3c82fd45",
   "metadata": {
    "papermill": {
     "duration": 0.043973,
     "end_time": "2022-09-17T17:04:51.380016",
     "exception": false,
     "start_time": "2022-09-17T17:04:51.336043",
     "status": "completed"
    },
    "tags": []
   },
   "source": [
    "### Num_Bank_Accounts"
   ]
  },
  {
   "cell_type": "code",
   "execution_count": 80,
   "id": "7b085e37",
   "metadata": {
    "_cell_guid": "3eb527a3-fb22-4f41-a9f2-cf38cc915644",
    "_uuid": "31d0ffac-3eff-40ff-a4fc-e42fd4b41264",
    "collapsed": false,
    "execution": {
     "iopub.execute_input": "2022-09-17T17:04:51.470825Z",
     "iopub.status.busy": "2022-09-17T17:04:51.469683Z",
     "iopub.status.idle": "2022-09-17T17:04:51.480092Z",
     "shell.execute_reply": "2022-09-17T17:04:51.479101Z"
    },
    "jupyter": {
     "outputs_hidden": false
    },
    "papermill": {
     "duration": 0.058051,
     "end_time": "2022-09-17T17:04:51.482582",
     "exception": false,
     "start_time": "2022-09-17T17:04:51.424531",
     "status": "completed"
    },
    "tags": []
   },
   "outputs": [
    {
     "data": {
      "text/plain": [
       "6       19505\n",
       "7       19231\n",
       "8       19152\n",
       "4       18286\n",
       "5       18186\n",
       "        ...  \n",
       "1731        1\n",
       "84          1\n",
       "1458        1\n",
       "1448        1\n",
       "278         1\n",
       "Name: Num_Bank_Accounts, Length: 1183, dtype: int64"
      ]
     },
     "execution_count": 80,
     "metadata": {},
     "output_type": "execute_result"
    }
   ],
   "source": [
    "df.Num_Bank_Accounts.value_counts(dropna=False)"
   ]
  },
  {
   "cell_type": "code",
   "execution_count": 81,
   "id": "35471565",
   "metadata": {
    "_cell_guid": "6ee1b01a-8645-45a0-8d92-c4765ac523ad",
    "_uuid": "10d5ae15-c07b-43d7-be64-89684bb74e77",
    "collapsed": false,
    "execution": {
     "iopub.execute_input": "2022-09-17T17:04:51.579809Z",
     "iopub.status.busy": "2022-09-17T17:04:51.579027Z",
     "iopub.status.idle": "2022-09-17T17:05:00.095215Z",
     "shell.execute_reply": "2022-09-17T17:05:00.093657Z"
    },
    "jupyter": {
     "outputs_hidden": false
    },
    "papermill": {
     "duration": 8.566709,
     "end_time": "2022-09-17T17:05:00.098182",
     "exception": false,
     "start_time": "2022-09-17T17:04:51.531473",
     "status": "completed"
    },
    "tags": []
   },
   "outputs": [
    {
     "name": "stdout",
     "output_type": "stream",
     "text": [
      "\n",
      "Existing Min, Max Values:\n",
      "min      -1\n",
      "max    1798\n",
      "Name: Num_Bank_Accounts, dtype: int64\n",
      "\n",
      "Groupby by Customer_ID's Actual min, max Values:\n",
      "min:\t-1,\n",
      "max:\t11\n",
      "\n",
      "Before Assigning Min, Max Num_Bank_Accounts: ['No NaN Value']\n",
      "\n",
      "Before Assigning Example Num_Bank_Accounts:\n",
      "\n",
      "[9, 9, 9, 9, 9, 9, 9, 9, 9, 9, 9, 9]\n",
      "[3, 3, 3, 1174, 3, 3, 3, 3, 3, 3, 3, 3]\n",
      "[6, 6, 6, 6, 6, 6, 6, 6, 6, 6, 6, 6]\n",
      "[6, 6, 6, 6, 6, 6, 6, 6, 6, 6, 6, 6]\n",
      "[3, 3, 3, 3, 3, 3, 3, 3, 3, 3, 3, 3]\n",
      "\n",
      "After Assigning  Min, Max Num_Bank_Accounts: ['No NaN Value']\n",
      "\n",
      "After Assigning Example Num_Bank_Accounts:\n",
      "\n",
      "[9.0, 9.0, 9.0, 9.0, 9.0, 9.0, 9.0, 9.0, 9.0, 9.0, 9.0, 9.0]\n",
      "[3.0, 3.0, 3.0, 3.0, 3.0, 3.0, 3.0, 3.0, 3.0, 3.0, 3.0, 3.0]\n",
      "[6.0, 6.0, 6.0, 6.0, 6.0, 6.0, 6.0, 6.0, 6.0, 6.0, 6.0, 6.0]\n",
      "[6.0, 6.0, 6.0, 6.0, 6.0, 6.0, 6.0, 6.0, 6.0, 6.0, 6.0, 6.0]\n",
      "[3.0, 3.0, 3.0, 3.0, 3.0, 3.0, 3.0, 3.0, 3.0, 3.0, 3.0, 3.0]\n"
     ]
    }
   ],
   "source": [
    "Reassign_Group_Numeric_Wrong_Values(df, 'Customer_ID', 'Num_Bank_Accounts')"
   ]
  },
  {
   "cell_type": "markdown",
   "id": "de19f53e",
   "metadata": {
    "papermill": {
     "duration": 0.044721,
     "end_time": "2022-09-17T17:05:00.188462",
     "exception": false,
     "start_time": "2022-09-17T17:05:00.143741",
     "status": "completed"
    },
    "tags": []
   },
   "source": [
    "### Num_Credit_Card"
   ]
  },
  {
   "cell_type": "code",
   "execution_count": 82,
   "id": "68c202c7",
   "metadata": {
    "_cell_guid": "0610a0aa-7ba8-49ba-9772-1fe1bb3ca660",
    "_uuid": "cb8d1f1e-92a0-4010-8361-59aa5de1db70",
    "collapsed": false,
    "execution": {
     "iopub.execute_input": "2022-09-17T17:05:00.283518Z",
     "iopub.status.busy": "2022-09-17T17:05:00.282411Z",
     "iopub.status.idle": "2022-09-17T17:05:00.293284Z",
     "shell.execute_reply": "2022-09-17T17:05:00.292075Z"
    },
    "jupyter": {
     "outputs_hidden": false
    },
    "papermill": {
     "duration": 0.060798,
     "end_time": "2022-09-17T17:05:00.295919",
     "exception": false,
     "start_time": "2022-09-17T17:05:00.235121",
     "status": "completed"
    },
    "tags": []
   },
   "outputs": [
    {
     "data": {
      "text/plain": [
       "5       18459\n",
       "7       16615\n",
       "6       16559\n",
       "4       14030\n",
       "3       13277\n",
       "        ...  \n",
       "791         1\n",
       "1118        1\n",
       "657         1\n",
       "640         1\n",
       "679         1\n",
       "Name: Num_Credit_Card, Length: 1179, dtype: int64"
      ]
     },
     "execution_count": 82,
     "metadata": {},
     "output_type": "execute_result"
    }
   ],
   "source": [
    "df_train.Num_Credit_Card.value_counts(dropna=False)"
   ]
  },
  {
   "cell_type": "code",
   "execution_count": 83,
   "id": "14026559",
   "metadata": {
    "_cell_guid": "ab0b7d2a-6c2f-4ece-937a-60a48b50be70",
    "_uuid": "5070214f-1518-4c47-a3e0-f742d14cf544",
    "collapsed": false,
    "execution": {
     "iopub.execute_input": "2022-09-17T17:05:00.388476Z",
     "iopub.status.busy": "2022-09-17T17:05:00.387595Z",
     "iopub.status.idle": "2022-09-17T17:05:08.970869Z",
     "shell.execute_reply": "2022-09-17T17:05:08.969586Z"
    },
    "jupyter": {
     "outputs_hidden": false
    },
    "papermill": {
     "duration": 8.632384,
     "end_time": "2022-09-17T17:05:08.973496",
     "exception": false,
     "start_time": "2022-09-17T17:05:00.341112",
     "status": "completed"
    },
    "tags": []
   },
   "outputs": [
    {
     "name": "stdout",
     "output_type": "stream",
     "text": [
      "\n",
      "Existing Min, Max Values:\n",
      "min       0\n",
      "max    1499\n",
      "Name: Num_Credit_Card, dtype: int64\n",
      "\n",
      "Groupby by Customer_ID's Actual min, max Values:\n",
      "min:\t0,\n",
      "max:\t11\n",
      "\n",
      "Before Assigning Min, Max Num_Credit_Card: ['No NaN Value']\n",
      "\n",
      "Before Assigning Example Num_Credit_Card:\n",
      "\n",
      "[6, 6, 6, 6, 6, 6, 6, 6, 6, 6, 6, 750]\n",
      "[4, 4, 4, 4, 4, 4, 4, 888, 4, 4, 4, 4]\n",
      "[3, 3, 3, 3, 3, 3, 3, 3, 3, 3, 3, 112]\n",
      "[3, 3, 3, 3, 725, 3, 3, 3, 3, 3, 3, 3]\n",
      "[5, 5, 5, 5, 5, 5, 5, 5, 5, 5, 5, 5]\n",
      "\n",
      "After Assigning  Min, Max Num_Credit_Card: ['No NaN Value']\n",
      "\n",
      "After Assigning Example Num_Credit_Card:\n",
      "\n",
      "[6.0, 6.0, 6.0, 6.0, 6.0, 6.0, 6.0, 6.0, 6.0, 6.0, 6.0, 6.0]\n",
      "[4.0, 4.0, 4.0, 4.0, 4.0, 4.0, 4.0, 4.0, 4.0, 4.0, 4.0, 4.0]\n",
      "[3.0, 3.0, 3.0, 3.0, 3.0, 3.0, 3.0, 3.0, 3.0, 3.0, 3.0, 3.0]\n",
      "[3.0, 3.0, 3.0, 3.0, 3.0, 3.0, 3.0, 3.0, 3.0, 3.0, 3.0, 3.0]\n",
      "[5.0, 5.0, 5.0, 5.0, 5.0, 5.0, 5.0, 5.0, 5.0, 5.0, 5.0, 5.0]\n"
     ]
    }
   ],
   "source": [
    "Reassign_Group_Numeric_Wrong_Values(df, 'Customer_ID', 'Num_Credit_Card')"
   ]
  },
  {
   "cell_type": "markdown",
   "id": "e8f6fc0f",
   "metadata": {
    "papermill": {
     "duration": 0.046052,
     "end_time": "2022-09-17T17:05:09.065123",
     "exception": false,
     "start_time": "2022-09-17T17:05:09.019071",
     "status": "completed"
    },
    "tags": []
   },
   "source": [
    "### Interest_Rate"
   ]
  },
  {
   "cell_type": "code",
   "execution_count": 78,
   "id": "1561ad90",
   "metadata": {
    "_cell_guid": "8985f780-777a-4f3c-bf69-9bea108a438e",
    "_uuid": "5657655e-ae18-4fd4-a748-cdc3525b3d1c",
    "collapsed": false,
    "execution": {
     "iopub.execute_input": "2022-09-17T17:05:09.158082Z",
     "iopub.status.busy": "2022-09-17T17:05:09.157605Z",
     "iopub.status.idle": "2022-09-17T17:05:09.169525Z",
     "shell.execute_reply": "2022-09-17T17:05:09.168124Z"
    },
    "jupyter": {
     "outputs_hidden": false
    },
    "papermill": {
     "duration": 0.061515,
     "end_time": "2022-09-17T17:05:09.172286",
     "exception": false,
     "start_time": "2022-09-17T17:05:09.110771",
     "status": "completed"
    },
    "tags": []
   },
   "outputs": [
    {
     "data": {
      "text/plain": [
       "8       7515\n",
       "5       7479\n",
       "6       7089\n",
       "12      6828\n",
       "10      6799\n",
       "        ... \n",
       "4985       1\n",
       "2781       1\n",
       "608        1\n",
       "4817       1\n",
       "4252       1\n",
       "Name: Interest_Rate, Length: 2394, dtype: int64"
      ]
     },
     "execution_count": 78,
     "metadata": {},
     "output_type": "execute_result"
    }
   ],
   "source": [
    "df.Interest_Rate.value_counts(dropna=False)"
   ]
  },
  {
   "cell_type": "code",
   "execution_count": 84,
   "id": "4f2d4cf2",
   "metadata": {
    "_cell_guid": "2085bcaa-6b2e-4c58-ae91-ee17a073181e",
    "_uuid": "a7c9784f-210d-442d-8005-b53ee84b425a",
    "collapsed": false,
    "execution": {
     "iopub.execute_input": "2022-09-17T17:05:09.266323Z",
     "iopub.status.busy": "2022-09-17T17:05:09.265875Z",
     "iopub.status.idle": "2022-09-17T17:05:17.978114Z",
     "shell.execute_reply": "2022-09-17T17:05:17.976533Z"
    },
    "jupyter": {
     "outputs_hidden": false
    },
    "papermill": {
     "duration": 8.761909,
     "end_time": "2022-09-17T17:05:17.980581",
     "exception": false,
     "start_time": "2022-09-17T17:05:09.218672",
     "status": "completed"
    },
    "tags": []
   },
   "outputs": [
    {
     "name": "stdout",
     "output_type": "stream",
     "text": [
      "\n",
      "Existing Min, Max Values:\n",
      "min       1\n",
      "max    5799\n",
      "Name: Interest_Rate, dtype: int64\n",
      "\n",
      "Groupby by Customer_ID's Actual min, max Values:\n",
      "min:\t1,\n",
      "max:\t34\n",
      "\n",
      "Before Assigning Min, Max Interest_Rate: ['No NaN Value']\n",
      "\n",
      "Before Assigning Example Interest_Rate:\n",
      "\n",
      "[22, 22, 22, 22, 22, 22, 22, 22, 22, 22, 22, 22]\n",
      "[10, 10, 10, 10, 10, 10, 10, 10, 10, 10, 10, 10]\n",
      "[17, 17, 17, 17, 17, 17, 17, 17, 17, 17, 17, 17]\n",
      "[15, 15, 15, 15, 15, 15, 15, 15, 15, 15, 15, 15]\n",
      "[5, 5, 5, 5, 5, 5, 5, 5, 5, 5, 5, 5]\n",
      "\n",
      "After Assigning  Min, Max Interest_Rate: ['No NaN Value']\n",
      "\n",
      "After Assigning Example Interest_Rate:\n",
      "\n",
      "[22.0, 22.0, 22.0, 22.0, 22.0, 22.0, 22.0, 22.0, 22.0, 22.0, 22.0, 22.0]\n",
      "[10.0, 10.0, 10.0, 10.0, 10.0, 10.0, 10.0, 10.0, 10.0, 10.0, 10.0, 10.0]\n",
      "[17.0, 17.0, 17.0, 17.0, 17.0, 17.0, 17.0, 17.0, 17.0, 17.0, 17.0, 17.0]\n",
      "[15.0, 15.0, 15.0, 15.0, 15.0, 15.0, 15.0, 15.0, 15.0, 15.0, 15.0, 15.0]\n",
      "[5.0, 5.0, 5.0, 5.0, 5.0, 5.0, 5.0, 5.0, 5.0, 5.0, 5.0, 5.0]\n"
     ]
    }
   ],
   "source": [
    "Reassign_Group_Numeric_Wrong_Values(df, 'Customer_ID', 'Interest_Rate')"
   ]
  },
  {
   "cell_type": "markdown",
   "id": "c8a39dc8",
   "metadata": {
    "papermill": {
     "duration": 0.046445,
     "end_time": "2022-09-17T17:05:18.074596",
     "exception": false,
     "start_time": "2022-09-17T17:05:18.028151",
     "status": "completed"
    },
    "tags": []
   },
   "source": [
    "### Num_of_Loan"
   ]
  },
  {
   "cell_type": "code",
   "execution_count": 85,
   "id": "9bd450dd",
   "metadata": {
    "_cell_guid": "4acc547c-3748-48b4-86ef-407d5d4562b2",
    "_uuid": "5d132d8a-d9d8-4a0c-9b53-61fe9a7c741d",
    "collapsed": false,
    "execution": {
     "iopub.execute_input": "2022-09-17T17:05:18.172458Z",
     "iopub.status.busy": "2022-09-17T17:05:18.172079Z",
     "iopub.status.idle": "2022-09-17T17:05:18.182692Z",
     "shell.execute_reply": "2022-09-17T17:05:18.181528Z"
    },
    "jupyter": {
     "outputs_hidden": false
    },
    "papermill": {
     "duration": 0.062904,
     "end_time": "2022-09-17T17:05:18.185284",
     "exception": false,
     "start_time": "2022-09-17T17:05:18.122380",
     "status": "completed"
    },
    "tags": []
   },
   "outputs": [
    {
     "data": {
      "text/plain": [
       "3       22618\n",
       "2       22547\n",
       "4       22111\n",
       "0       16376\n",
       "1       15901\n",
       "        ...  \n",
       "1085        1\n",
       "742         1\n",
       "291         1\n",
       "365         1\n",
       "1442        1\n",
       "Name: Num_of_Loan, Length: 600, dtype: int64"
      ]
     },
     "execution_count": 85,
     "metadata": {},
     "output_type": "execute_result"
    }
   ],
   "source": [
    "df.Num_of_Loan.value_counts(dropna=False)"
   ]
  },
  {
   "cell_type": "code",
   "execution_count": 86,
   "id": "d1ab28cd",
   "metadata": {
    "_cell_guid": "dccb68de-1a1f-4be8-8810-9cadcfe08646",
    "_uuid": "eb229459-dc2c-4ad2-ba05-38096569c88e",
    "collapsed": false,
    "execution": {
     "iopub.execute_input": "2022-09-17T17:05:18.282646Z",
     "iopub.status.busy": "2022-09-17T17:05:18.282236Z",
     "iopub.status.idle": "2022-09-17T17:05:26.842921Z",
     "shell.execute_reply": "2022-09-17T17:05:26.841216Z"
    },
    "jupyter": {
     "outputs_hidden": false
    },
    "papermill": {
     "duration": 8.613959,
     "end_time": "2022-09-17T17:05:26.846100",
     "exception": false,
     "start_time": "2022-09-17T17:05:18.232141",
     "status": "completed"
    },
    "tags": []
   },
   "outputs": [
    {
     "name": "stdout",
     "output_type": "stream",
     "text": [
      "\n",
      "Existing Min, Max Values:\n",
      "min    -100\n",
      "max    1496\n",
      "Name: Num_of_Loan, dtype: int64\n",
      "\n",
      "Groupby by Customer_ID's Actual min, max Values:\n",
      "min:\t0,\n",
      "max:\t9\n",
      "\n",
      "Before Assigning Min, Max Num_of_Loan: ['No NaN Value']\n",
      "\n",
      "Before Assigning Example Num_of_Loan:\n",
      "\n",
      "[2, 2, 2, 2, 2, 2, 2, 2, 2, 2, 2, -100]\n",
      "[3, 3, 3, 3, -100, 3, 3, 3, 3, 3, 3, 3]\n",
      "[0, 0, 0, 0, 0, 0, 0, 0, 0, 0, 0, 0]\n",
      "[4, 4, 4, 4, 4, 4, 4, 4, 4, 4, 4, 4]\n",
      "[3, 3, 3, 3, 3, 3, 3, 3, 3, 3, 3, 3]\n",
      "\n",
      "After Assigning  Min, Max Num_of_Loan: ['No NaN Value']\n",
      "\n",
      "After Assigning Example Num_of_Loan:\n",
      "\n",
      "[2.0, 2.0, 2.0, 2.0, 2.0, 2.0, 2.0, 2.0, 2.0, 2.0, 2.0, 2.0]\n",
      "[3.0, 3.0, 3.0, 3.0, 3.0, 3.0, 3.0, 3.0, 3.0, 3.0, 3.0, 3.0]\n",
      "[0.0, 0.0, 0.0, 0.0, 0.0, 0.0, 0.0, 0.0, 0.0, 0.0, 0.0, 0.0]\n",
      "[4.0, 4.0, 4.0, 4.0, 4.0, 4.0, 4.0, 4.0, 4.0, 4.0, 4.0, 4.0]\n",
      "[3.0, 3.0, 3.0, 3.0, 3.0, 3.0, 3.0, 3.0, 3.0, 3.0, 3.0, 3.0]\n"
     ]
    }
   ],
   "source": [
    "Reassign_Group_Numeric_Wrong_Values(df, 'Customer_ID', 'Num_of_Loan')"
   ]
  },
  {
   "cell_type": "markdown",
   "id": "43d7eaec",
   "metadata": {
    "papermill": {
     "duration": 0.046973,
     "end_time": "2022-09-17T17:05:26.940069",
     "exception": false,
     "start_time": "2022-09-17T17:05:26.893096",
     "status": "completed"
    },
    "tags": []
   },
   "source": [
    "### Delay_from_due_date"
   ]
  },
  {
   "cell_type": "code",
   "execution_count": 87,
   "id": "49a86e29",
   "metadata": {
    "_cell_guid": "a5249ba8-b51d-40ee-84fb-a3988a819f6a",
    "_uuid": "154601d8-fd2f-42f0-aa5a-94230c9adcd5",
    "collapsed": false,
    "execution": {
     "iopub.execute_input": "2022-09-17T17:05:27.035240Z",
     "iopub.status.busy": "2022-09-17T17:05:27.034862Z",
     "iopub.status.idle": "2022-09-17T17:05:27.045089Z",
     "shell.execute_reply": "2022-09-17T17:05:27.043935Z"
    },
    "jupyter": {
     "outputs_hidden": false
    },
    "papermill": {
     "duration": 0.061296,
     "end_time": "2022-09-17T17:05:27.048043",
     "exception": false,
     "start_time": "2022-09-17T17:05:26.986747",
     "status": "completed"
    },
    "tags": []
   },
   "outputs": [
    {
     "data": {
      "text/plain": [
       " 15    5355\n",
       " 13    5185\n",
       " 8     5004\n",
       " 14    4949\n",
       " 10    4926\n",
       "       ... \n",
       " 63      90\n",
       " 65      86\n",
       "-5       51\n",
       " 66      44\n",
       " 67      29\n",
       "Name: Delay_from_due_date, Length: 73, dtype: int64"
      ]
     },
     "execution_count": 87,
     "metadata": {},
     "output_type": "execute_result"
    }
   ],
   "source": [
    "df.Delay_from_due_date.value_counts(dropna=False)"
   ]
  },
  {
   "cell_type": "code",
   "execution_count": 88,
   "id": "555f6931",
   "metadata": {
    "_cell_guid": "8a267628-9a64-4d38-a953-0088ae9d44db",
    "_uuid": "73dab6b0-bb05-46ba-8ce7-a1dac35e61ca",
    "collapsed": false,
    "execution": {
     "iopub.execute_input": "2022-09-17T17:05:27.143914Z",
     "iopub.status.busy": "2022-09-17T17:05:27.143386Z",
     "iopub.status.idle": "2022-09-17T17:05:35.890539Z",
     "shell.execute_reply": "2022-09-17T17:05:35.888905Z"
    },
    "jupyter": {
     "outputs_hidden": false
    },
    "papermill": {
     "duration": 8.799699,
     "end_time": "2022-09-17T17:05:35.894259",
     "exception": false,
     "start_time": "2022-09-17T17:05:27.094560",
     "status": "completed"
    },
    "tags": []
   },
   "outputs": [
    {
     "name": "stdout",
     "output_type": "stream",
     "text": [
      "\n",
      "Existing Min, Max Values:\n",
      "min    -5\n",
      "max    67\n",
      "Name: Delay_from_due_date, dtype: int64\n",
      "\n",
      "Groupby by Customer_ID's Actual min, max Values:\n",
      "min:\t-1,\n",
      "max:\t62\n",
      "\n",
      "Before Assigning Min, Max Delay_from_due_date: ['No NaN Value']\n",
      "\n",
      "Before Assigning Example Delay_from_due_date:\n",
      "\n",
      "[48, 48, 48, 48, 48, 48, 48, 48, 48, 50, 48, 53]\n",
      "[19, 19, 19, 19, 19, 19, 19, 16, 20, 19, 15, 19]\n",
      "[25, 28, 22, 26, 26, 26, 26, 26, 26, 26, 21, 26]\n",
      "[19, 19, 19, 19, 19, 19, 19, 19, 19, 18, 21, 19]\n",
      "[15, 15, 20, 16, 20, 20, 20, 24, 25, 20, 20, 20]\n",
      "\n",
      "After Assigning  Min, Max Delay_from_due_date: ['No NaN Value']\n",
      "\n",
      "After Assigning Example Delay_from_due_date:\n",
      "\n",
      "[48.0, 48.0, 48.0, 48.0, 48.0, 48.0, 48.0, 48.0, 48.0, 50.0, 48.0, 53.0]\n",
      "[19.0, 19.0, 19.0, 19.0, 19.0, 19.0, 19.0, 16.0, 20.0, 19.0, 15.0, 19.0]\n",
      "[25.0, 28.0, 22.0, 26.0, 26.0, 26.0, 26.0, 26.0, 26.0, 26.0, 21.0, 26.0]\n",
      "[19.0, 19.0, 19.0, 19.0, 19.0, 19.0, 19.0, 19.0, 19.0, 18.0, 21.0, 19.0]\n",
      "[15.0, 15.0, 20.0, 16.0, 20.0, 20.0, 20.0, 24.0, 25.0, 20.0, 20.0, 20.0]\n"
     ]
    }
   ],
   "source": [
    "Reassign_Group_Numeric_Wrong_Values(df, 'Customer_ID', 'Delay_from_due_date')"
   ]
  },
  {
   "cell_type": "markdown",
   "id": "4819a728",
   "metadata": {
    "papermill": {
     "duration": 0.0487,
     "end_time": "2022-09-17T17:05:35.997224",
     "exception": false,
     "start_time": "2022-09-17T17:05:35.948524",
     "status": "completed"
    },
    "tags": []
   },
   "source": [
    "### Num_of_Delayed_Payment"
   ]
  },
  {
   "cell_type": "code",
   "execution_count": 89,
   "id": "436c479a",
   "metadata": {
    "_cell_guid": "a5f3a4cb-f94f-452d-934a-7f94fa93c1d1",
    "_uuid": "15392a89-59c8-4883-b5d1-31cbb1b26290",
    "collapsed": false,
    "execution": {
     "iopub.execute_input": "2022-09-17T17:05:36.092054Z",
     "iopub.status.busy": "2022-09-17T17:05:36.091607Z",
     "iopub.status.idle": "2022-09-17T17:05:36.104178Z",
     "shell.execute_reply": "2022-09-17T17:05:36.103245Z"
    },
    "jupyter": {
     "outputs_hidden": false
    },
    "papermill": {
     "duration": 0.062985,
     "end_time": "2022-09-17T17:05:36.106471",
     "exception": false,
     "start_time": "2022-09-17T17:05:36.043486",
     "status": "completed"
    },
    "tags": []
   },
   "outputs": [
    {
     "data": {
      "text/plain": [
       "NaN       10500\n",
       "19.0       8188\n",
       "17.0       8048\n",
       "16.0       7949\n",
       "15.0       7911\n",
       "          ...  \n",
       "3881.0        1\n",
       "2728.0        1\n",
       "1952.0        1\n",
       "3580.0        1\n",
       "2034.0        1\n",
       "Name: Num_of_Delayed_Payment, Length: 1015, dtype: int64"
      ]
     },
     "execution_count": 89,
     "metadata": {},
     "output_type": "execute_result"
    }
   ],
   "source": [
    "df.Num_of_Delayed_Payment.value_counts(dropna=False)"
   ]
  },
  {
   "cell_type": "code",
   "execution_count": 90,
   "id": "54a05fc8",
   "metadata": {
    "_cell_guid": "b57d2408-d125-4b06-8078-602898a08efe",
    "_uuid": "0cce344f-b43d-411a-b241-5ea7a026b851",
    "collapsed": false,
    "execution": {
     "iopub.execute_input": "2022-09-17T17:05:36.201938Z",
     "iopub.status.busy": "2022-09-17T17:05:36.201127Z",
     "iopub.status.idle": "2022-09-17T17:05:44.831071Z",
     "shell.execute_reply": "2022-09-17T17:05:44.829897Z"
    },
    "jupyter": {
     "outputs_hidden": false
    },
    "papermill": {
     "duration": 8.680571,
     "end_time": "2022-09-17T17:05:44.833341",
     "exception": false,
     "start_time": "2022-09-17T17:05:36.152770",
     "status": "completed"
    },
    "tags": []
   },
   "outputs": [
    {
     "name": "stdout",
     "output_type": "stream",
     "text": [
      "\n",
      "Existing Min, Max Values:\n",
      "min      -3.0\n",
      "max    4399.0\n",
      "Name: Num_of_Delayed_Payment, dtype: float64\n",
      "\n",
      "Groupby by Customer_ID's Actual min, max Values:\n",
      "min:\t-2.0,\n",
      "max:\t25.0\n",
      "\n",
      "Before Assigning Min, Max Num_of_Delayed_Payment: ['No NaN Value']\n",
      "\n",
      "Before Assigning Example Num_of_Delayed_Payment:\n",
      "\n",
      "[10.0, 12.0, 12.0, 13.0, nan, 12.0, 11.0, 12.0, 12.0, 12.0, 11.0, 12.0]\n",
      "[19.0, 19.0, 19.0, 19.0, 19.0, 21.0, 20.0, 19.0, 19.0, 18.0, 19.0, 20.0]\n",
      "[11.0, 11.0, 11.0, nan, 11.0, nan, 11.0, 13.0, 12.0, 11.0, 13.0, 11.0]\n",
      "[18.0, 18.0, 18.0, 18.0, 18.0, nan, 20.0, 18.0, 18.0, 18.0, nan, nan]\n",
      "[17.0, 16.0, 14.0, nan, 17.0, 14.0, 11.0, 14.0, 14.0, 14.0, 17.0, 12.0]\n",
      "\n",
      "After Assigning  Min, Max Num_of_Delayed_Payment: ['No NaN Value']\n",
      "\n",
      "After Assigning Example Num_of_Delayed_Payment:\n",
      "\n",
      "[10.0, 12.0, 12.0, 13.0, 12.0, 12.0, 11.0, 12.0, 12.0, 12.0, 11.0, 12.0]\n",
      "[19.0, 19.0, 19.0, 19.0, 19.0, 21.0, 20.0, 19.0, 19.0, 18.0, 19.0, 20.0]\n",
      "[11.0, 11.0, 11.0, 11.0, 11.0, 11.0, 11.0, 13.0, 12.0, 11.0, 13.0, 11.0]\n",
      "[18.0, 18.0, 18.0, 18.0, 18.0, 18.0, 20.0, 18.0, 18.0, 18.0, 18.0, 18.0]\n",
      "[17.0, 16.0, 14.0, 14.0, 17.0, 14.0, 11.0, 14.0, 14.0, 14.0, 17.0, 12.0]\n"
     ]
    }
   ],
   "source": [
    "Reassign_Group_Numeric_Wrong_Values(df, 'Customer_ID', 'Num_of_Delayed_Payment')"
   ]
  },
  {
   "cell_type": "markdown",
   "id": "a9395de8",
   "metadata": {
    "papermill": {
     "duration": 0.046052,
     "end_time": "2022-09-17T17:05:44.926134",
     "exception": false,
     "start_time": "2022-09-17T17:05:44.880082",
     "status": "completed"
    },
    "tags": []
   },
   "source": [
    "### Changed_Credit_Limit"
   ]
  },
  {
   "cell_type": "code",
   "execution_count": 91,
   "id": "f682afa2",
   "metadata": {
    "_cell_guid": "f1cfa600-811f-47c5-b652-3aa25b6c0962",
    "_uuid": "22cfb6d5-336f-477a-b18a-c69607af6780",
    "collapsed": false,
    "execution": {
     "iopub.execute_input": "2022-09-17T17:05:45.022431Z",
     "iopub.status.busy": "2022-09-17T17:05:45.021699Z",
     "iopub.status.idle": "2022-09-17T17:05:45.035112Z",
     "shell.execute_reply": "2022-09-17T17:05:45.033939Z"
    },
    "jupyter": {
     "outputs_hidden": false
    },
    "papermill": {
     "duration": 0.064127,
     "end_time": "2022-09-17T17:05:45.037399",
     "exception": false,
     "start_time": "2022-09-17T17:05:44.973272",
     "status": "completed"
    },
    "tags": []
   },
   "outputs": [
    {
     "data": {
      "text/plain": [
       "NaN      3150\n",
       "11.50     197\n",
       "11.32     189\n",
       "8.22      189\n",
       "7.35      181\n",
       "         ... \n",
       "34.57       1\n",
       "31.94       1\n",
       "34.46       1\n",
       "23.32       1\n",
       "29.17       1\n",
       "Name: Changed_Credit_Limit, Length: 4605, dtype: int64"
      ]
     },
     "execution_count": 91,
     "metadata": {},
     "output_type": "execute_result"
    }
   ],
   "source": [
    "df.Changed_Credit_Limit.value_counts(dropna=False)"
   ]
  },
  {
   "cell_type": "code",
   "execution_count": 92,
   "id": "cd8ee7ac",
   "metadata": {
    "_cell_guid": "2c47175e-0870-4a3d-8229-06b785b54cde",
    "_uuid": "638f5259-b492-4652-91d9-85472ef41f3f",
    "collapsed": false,
    "execution": {
     "iopub.execute_input": "2022-09-17T17:05:45.133900Z",
     "iopub.status.busy": "2022-09-17T17:05:45.133219Z",
     "iopub.status.idle": "2022-09-17T17:05:53.898063Z",
     "shell.execute_reply": "2022-09-17T17:05:53.896699Z"
    },
    "jupyter": {
     "outputs_hidden": false
    },
    "papermill": {
     "duration": 8.815534,
     "end_time": "2022-09-17T17:05:53.900663",
     "exception": false,
     "start_time": "2022-09-17T17:05:45.085129",
     "status": "completed"
    },
    "tags": []
   },
   "outputs": [
    {
     "name": "stdout",
     "output_type": "stream",
     "text": [
      "\n",
      "Existing Min, Max Values:\n",
      "min    -6.49\n",
      "max    36.97\n",
      "Name: Changed_Credit_Limit, dtype: float64\n",
      "\n",
      "Groupby by Customer_ID's Actual min, max Values:\n",
      "min:\t0.5,\n",
      "max:\t29.98\n",
      "\n",
      "Before Assigning Min, Max Changed_Credit_Limit: ['No NaN Value']\n",
      "\n",
      "Before Assigning Example Changed_Credit_Limit:\n",
      "\n",
      "[10.66, 10.66, 10.66, 10.66, 10.66, 10.66, 10.66, 10.66, 10.66, 10.66, 17.66, 10.66]\n",
      "[12.13, 5.13, 5.13, 5.13, 5.13, 2.13, 5.13, 5.13, 5.13, 5.13, 5.13, 5.13]\n",
      "[14.11, 14.11, 14.11, 14.11, 14.11, 14.11, 14.11, 14.11, 14.11, 14.11, 14.11, 14.11]\n",
      "[16.91, 16.91, 16.91, 16.91, 16.91, 16.91, 19.91, 16.91, 19.91, 16.91, 16.91, 16.91]\n",
      "[15.28, 15.28, 15.28, 15.28, 19.28, 15.28, 15.28, 15.28, 15.28, 15.28, 15.28, 15.28]\n",
      "\n",
      "After Assigning  Min, Max Changed_Credit_Limit: ['No NaN Value']\n",
      "\n",
      "After Assigning Example Changed_Credit_Limit:\n",
      "\n",
      "[10.66, 10.66, 10.66, 10.66, 10.66, 10.66, 10.66, 10.66, 10.66, 10.66, 17.66, 10.66]\n",
      "[12.13, 5.13, 5.13, 5.13, 5.13, 2.13, 5.13, 5.13, 5.13, 5.13, 5.13, 5.13]\n",
      "[14.11, 14.11, 14.11, 14.11, 14.11, 14.11, 14.11, 14.11, 14.11, 14.11, 14.11, 14.11]\n",
      "[16.91, 16.91, 16.91, 16.91, 16.91, 16.91, 19.91, 16.91, 19.91, 16.91, 16.91, 16.91]\n",
      "[15.28, 15.28, 15.28, 15.28, 19.28, 15.28, 15.28, 15.28, 15.28, 15.28, 15.28, 15.28]\n"
     ]
    }
   ],
   "source": [
    "Reassign_Group_Numeric_Wrong_Values(df, 'Customer_ID', 'Changed_Credit_Limit')"
   ]
  },
  {
   "cell_type": "markdown",
   "id": "f9461a04",
   "metadata": {
    "papermill": {
     "duration": 0.047854,
     "end_time": "2022-09-17T17:05:53.996141",
     "exception": false,
     "start_time": "2022-09-17T17:05:53.948287",
     "status": "completed"
    },
    "tags": []
   },
   "source": [
    "### Num_Credit_Inquiries"
   ]
  },
  {
   "cell_type": "code",
   "execution_count": 93,
   "id": "1f30e5d7",
   "metadata": {
    "_cell_guid": "082325fb-0d58-4665-b209-d862735e915f",
    "_uuid": "bf992151-9eca-452b-815e-e71a9806da90",
    "collapsed": false,
    "execution": {
     "iopub.execute_input": "2022-09-17T17:05:54.092494Z",
     "iopub.status.busy": "2022-09-17T17:05:54.092110Z",
     "iopub.status.idle": "2022-09-17T17:05:54.105282Z",
     "shell.execute_reply": "2022-09-17T17:05:54.104165Z"
    },
    "jupyter": {
     "outputs_hidden": false
    },
    "papermill": {
     "duration": 0.064061,
     "end_time": "2022-09-17T17:05:54.107584",
     "exception": false,
     "start_time": "2022-09-17T17:05:54.043523",
     "status": "completed"
    },
    "tags": []
   },
   "outputs": [
    {
     "data": {
      "text/plain": [
       "4.0       15673\n",
       "6.0       12486\n",
       "3.0       12356\n",
       "7.0       12353\n",
       "8.0       11788\n",
       "          ...  \n",
       "1243.0        1\n",
       "540.0         1\n",
       "2150.0        1\n",
       "1324.0        1\n",
       "352.0         1\n",
       "Name: Num_Credit_Inquiries, Length: 1608, dtype: int64"
      ]
     },
     "execution_count": 93,
     "metadata": {},
     "output_type": "execute_result"
    }
   ],
   "source": [
    "df.Num_Credit_Inquiries.value_counts(dropna=False)"
   ]
  },
  {
   "cell_type": "code",
   "execution_count": 94,
   "id": "84beccf2",
   "metadata": {
    "_cell_guid": "d45aaae5-b855-4d4d-b859-b43ca6220f00",
    "_uuid": "a1c1f734-4852-4132-8fca-bca1c7ebf134",
    "collapsed": false,
    "execution": {
     "iopub.execute_input": "2022-09-17T17:05:54.205325Z",
     "iopub.status.busy": "2022-09-17T17:05:54.204928Z",
     "iopub.status.idle": "2022-09-17T17:06:02.812987Z",
     "shell.execute_reply": "2022-09-17T17:06:02.811393Z"
    },
    "jupyter": {
     "outputs_hidden": false
    },
    "papermill": {
     "duration": 8.660483,
     "end_time": "2022-09-17T17:06:02.816452",
     "exception": false,
     "start_time": "2022-09-17T17:05:54.155969",
     "status": "completed"
    },
    "tags": []
   },
   "outputs": [
    {
     "name": "stdout",
     "output_type": "stream",
     "text": [
      "\n",
      "Existing Min, Max Values:\n",
      "min       0.0\n",
      "max    2597.0\n",
      "Name: Num_Credit_Inquiries, dtype: float64\n",
      "\n",
      "Groupby by Customer_ID's Actual min, max Values:\n",
      "min:\t0.0,\n",
      "max:\t17.0\n",
      "\n",
      "Before Assigning Min, Max Num_Credit_Inquiries: ['No NaN Value']\n",
      "\n",
      "Before Assigning Example Num_Credit_Inquiries:\n",
      "\n",
      "[nan, 8.0, 8.0, 8.0, 8.0, 8.0, 8.0, 8.0, 13.0, 13.0, 13.0, 13.0]\n",
      "[1.0, 1.0, 1.0, 1.0, 1196.0, 1.0, 1.0, 1.0, 1.0, 5.0, 5.0, 5.0]\n",
      "[6.0, 10.0, 10.0, 10.0, 10.0, 10.0, 10.0, 10.0, 10.0, 10.0, 10.0, 848.0]\n",
      "[7.0, 7.0, 7.0, 7.0, 7.0, 7.0, 7.0, 7.0, 11.0, 11.0, 11.0, 11.0]\n",
      "[6.0, 6.0, 6.0, 6.0, 6.0, 6.0, 6.0, 692.0, 10.0, 10.0, 10.0, 10.0]\n",
      "\n",
      "After Assigning  Min, Max Num_Credit_Inquiries: ['No NaN Value']\n",
      "\n",
      "After Assigning Example Num_Credit_Inquiries:\n",
      "\n",
      "[8.0, 8.0, 8.0, 8.0, 8.0, 8.0, 8.0, 8.0, 13.0, 13.0, 13.0, 13.0]\n",
      "[1.0, 1.0, 1.0, 1.0, 1.0, 1.0, 1.0, 1.0, 1.0, 5.0, 5.0, 5.0]\n",
      "[6.0, 10.0, 10.0, 10.0, 10.0, 10.0, 10.0, 10.0, 10.0, 10.0, 10.0, 10.0]\n",
      "[7.0, 7.0, 7.0, 7.0, 7.0, 7.0, 7.0, 7.0, 11.0, 11.0, 11.0, 11.0]\n",
      "[6.0, 6.0, 6.0, 6.0, 6.0, 6.0, 6.0, 6.0, 10.0, 10.0, 10.0, 10.0]\n"
     ]
    }
   ],
   "source": [
    "Reassign_Group_Numeric_Wrong_Values(df, 'Customer_ID', 'Num_Credit_Inquiries')"
   ]
  },
  {
   "cell_type": "markdown",
   "id": "3d154344",
   "metadata": {
    "papermill": {
     "duration": 0.047605,
     "end_time": "2022-09-17T17:06:02.912638",
     "exception": false,
     "start_time": "2022-09-17T17:06:02.865033",
     "status": "completed"
    },
    "tags": []
   },
   "source": [
    "### Outstanding_Debt"
   ]
  },
  {
   "cell_type": "code",
   "execution_count": 95,
   "id": "3e675774",
   "metadata": {
    "_cell_guid": "befb80a1-f845-486d-87ed-9998eefcb15b",
    "_uuid": "9f0acec8-0f3e-413c-ba38-cc5f3eff718c",
    "collapsed": false,
    "execution": {
     "iopub.execute_input": "2022-09-17T17:06:03.009860Z",
     "iopub.status.busy": "2022-09-17T17:06:03.009454Z",
     "iopub.status.idle": "2022-09-17T17:06:03.022993Z",
     "shell.execute_reply": "2022-09-17T17:06:03.021914Z"
    },
    "jupyter": {
     "outputs_hidden": false
    },
    "papermill": {
     "duration": 0.06568,
     "end_time": "2022-09-17T17:06:03.025652",
     "exception": false,
     "start_time": "2022-09-17T17:06:02.959972",
     "status": "completed"
    },
    "tags": []
   },
   "outputs": [
    {
     "data": {
      "text/plain": [
       "1109.03    36\n",
       "1151.70    36\n",
       "1360.45    36\n",
       "460.46     36\n",
       "1058.13    24\n",
       "           ..\n",
       "4230.04    12\n",
       "641.99     12\n",
       "98.61      12\n",
       "2614.48    12\n",
       "502.38     12\n",
       "Name: Outstanding_Debt, Length: 12203, dtype: int64"
      ]
     },
     "execution_count": 95,
     "metadata": {},
     "output_type": "execute_result"
    }
   ],
   "source": [
    "df.Outstanding_Debt.value_counts(dropna=False)"
   ]
  },
  {
   "cell_type": "code",
   "execution_count": 96,
   "id": "753b7c76",
   "metadata": {
    "_cell_guid": "1b0631a9-f597-4ffe-a539-87fbdd712a8e",
    "_uuid": "5176603a-02a1-49f4-908b-2d27b9195f8d",
    "collapsed": false,
    "execution": {
     "iopub.execute_input": "2022-09-17T17:06:03.122743Z",
     "iopub.status.busy": "2022-09-17T17:06:03.122362Z",
     "iopub.status.idle": "2022-09-17T17:06:11.736088Z",
     "shell.execute_reply": "2022-09-17T17:06:11.734908Z"
    },
    "jupyter": {
     "outputs_hidden": false
    },
    "papermill": {
     "duration": 8.666246,
     "end_time": "2022-09-17T17:06:11.739343",
     "exception": false,
     "start_time": "2022-09-17T17:06:03.073097",
     "status": "completed"
    },
    "tags": []
   },
   "outputs": [
    {
     "name": "stdout",
     "output_type": "stream",
     "text": [
      "\n",
      "Existing Min, Max Values:\n",
      "min       0.23\n",
      "max    4998.07\n",
      "Name: Outstanding_Debt, dtype: float64\n",
      "\n",
      "Groupby by Customer_ID's Actual min, max Values:\n",
      "min:\t0.23,\n",
      "max:\t4998.07\n",
      "\n",
      "Before Assigning Min, Max Outstanding_Debt: ['No NaN Value']\n",
      "\n",
      "Before Assigning Example Outstanding_Debt:\n",
      "\n",
      "[1941.73, 1941.73, 1941.73, 1941.73, 1941.73, 1941.73, 1941.73, 1941.73, 1941.73, 1941.73, 1941.73, 1941.73]\n",
      "[993.15, 993.15, 993.15, 993.15, 993.15, 993.15, 993.15, 993.15, 993.15, 993.15, 993.15, 993.15]\n",
      "[1138.97, 1138.97, 1138.97, 1138.97, 1138.97, 1138.97, 1138.97, 1138.97, 1138.97, 1138.97, 1138.97, 1138.97]\n",
      "[982.44, 982.44, 982.44, 982.44, 982.44, 982.44, 982.44, 982.44, 982.44, 982.44, 982.44, 982.44]\n",
      "[1371.8, 1371.8, 1371.8, 1371.8, 1371.8, 1371.8, 1371.8, 1371.8, 1371.8, 1371.8, 1371.8, 1371.8]\n",
      "\n",
      "After Assigning  Min, Max Outstanding_Debt: ['No NaN Value']\n",
      "\n",
      "After Assigning Example Outstanding_Debt:\n",
      "\n",
      "[1941.73, 1941.73, 1941.73, 1941.73, 1941.73, 1941.73, 1941.73, 1941.73, 1941.73, 1941.73, 1941.73, 1941.73]\n",
      "[993.15, 993.15, 993.15, 993.15, 993.15, 993.15, 993.15, 993.15, 993.15, 993.15, 993.15, 993.15]\n",
      "[1138.97, 1138.97, 1138.97, 1138.97, 1138.97, 1138.97, 1138.97, 1138.97, 1138.97, 1138.97, 1138.97, 1138.97]\n",
      "[982.44, 982.44, 982.44, 982.44, 982.44, 982.44, 982.44, 982.44, 982.44, 982.44, 982.44, 982.44]\n",
      "[1371.8, 1371.8, 1371.8, 1371.8, 1371.8, 1371.8, 1371.8, 1371.8, 1371.8, 1371.8, 1371.8, 1371.8]\n"
     ]
    }
   ],
   "source": [
    "Reassign_Group_Numeric_Wrong_Values(df, 'Customer_ID', 'Outstanding_Debt')"
   ]
  },
  {
   "cell_type": "markdown",
   "id": "bc3a5570",
   "metadata": {
    "papermill": {
     "duration": 0.048119,
     "end_time": "2022-09-17T17:06:11.837300",
     "exception": false,
     "start_time": "2022-09-17T17:06:11.789181",
     "status": "completed"
    },
    "tags": []
   },
   "source": [
    "### Credit_Utilization_Ratio"
   ]
  },
  {
   "cell_type": "code",
   "execution_count": 97,
   "id": "3aae88ab",
   "metadata": {
    "_cell_guid": "c32777d2-f5b1-4e31-b3eb-416a6fed4567",
    "_uuid": "a88fed3b-031d-4d75-89c7-6b1fa213ab99",
    "collapsed": false,
    "execution": {
     "iopub.execute_input": "2022-09-17T17:06:11.936074Z",
     "iopub.status.busy": "2022-09-17T17:06:11.935618Z",
     "iopub.status.idle": "2022-09-17T17:06:11.967223Z",
     "shell.execute_reply": "2022-09-17T17:06:11.965929Z"
    },
    "jupyter": {
     "outputs_hidden": false
    },
    "papermill": {
     "duration": 0.084334,
     "end_time": "2022-09-17T17:06:11.970101",
     "exception": false,
     "start_time": "2022-09-17T17:06:11.885767",
     "status": "completed"
    },
    "tags": []
   },
   "outputs": [
    {
     "data": {
      "text/plain": [
       "26.822620    1\n",
       "39.377219    1\n",
       "40.565631    1\n",
       "41.255522    1\n",
       "33.638208    1\n",
       "            ..\n",
       "26.650258    1\n",
       "23.864244    1\n",
       "29.638130    1\n",
       "31.875399    1\n",
       "34.108530    1\n",
       "Name: Credit_Utilization_Ratio, Length: 150000, dtype: int64"
      ]
     },
     "execution_count": 97,
     "metadata": {},
     "output_type": "execute_result"
    }
   ],
   "source": [
    "df.Credit_Utilization_Ratio.value_counts(dropna=False)"
   ]
  },
  {
   "cell_type": "code",
   "execution_count": 98,
   "id": "6ab1a605",
   "metadata": {
    "_cell_guid": "0fbb74d8-3731-468d-bd32-1c411f2ec0cf",
    "_uuid": "8ca67a68-ecb4-4664-b86d-d5cf7bf2b1b2",
    "collapsed": false,
    "execution": {
     "iopub.execute_input": "2022-09-17T17:06:12.070023Z",
     "iopub.status.busy": "2022-09-17T17:06:12.069058Z",
     "iopub.status.idle": "2022-09-17T17:06:12.079116Z",
     "shell.execute_reply": "2022-09-17T17:06:12.077960Z"
    },
    "jupyter": {
     "outputs_hidden": false
    },
    "papermill": {
     "duration": 0.062038,
     "end_time": "2022-09-17T17:06:12.081540",
     "exception": false,
     "start_time": "2022-09-17T17:06:12.019502",
     "status": "completed"
    },
    "tags": []
   },
   "outputs": [
    {
     "data": {
      "text/plain": [
       "0"
      ]
     },
     "execution_count": 98,
     "metadata": {},
     "output_type": "execute_result"
    }
   ],
   "source": [
    "df.Credit_Utilization_Ratio.isna().sum()"
   ]
  },
  {
   "cell_type": "markdown",
   "id": "bddf992d",
   "metadata": {
    "papermill": {
     "duration": 0.047981,
     "end_time": "2022-09-17T17:06:12.178365",
     "exception": false,
     "start_time": "2022-09-17T17:06:12.130384",
     "status": "completed"
    },
    "tags": []
   },
   "source": [
    "### Credit_History_Age"
   ]
  },
  {
   "cell_type": "code",
   "execution_count": 99,
   "id": "a1123976",
   "metadata": {
    "_cell_guid": "435f0f16-5e53-425c-a9e9-ed64dd1b7439",
    "_uuid": "06db8733-4a2c-46cd-a6e8-91b500eea87a",
    "collapsed": false,
    "execution": {
     "iopub.execute_input": "2022-09-17T17:06:12.277405Z",
     "iopub.status.busy": "2022-09-17T17:06:12.277018Z",
     "iopub.status.idle": "2022-09-17T17:06:12.289607Z",
     "shell.execute_reply": "2022-09-17T17:06:12.288467Z"
    },
    "jupyter": {
     "outputs_hidden": false
    },
    "papermill": {
     "duration": 0.064685,
     "end_time": "2022-09-17T17:06:12.291792",
     "exception": false,
     "start_time": "2022-09-17T17:06:12.227107",
     "status": "completed"
    },
    "tags": []
   },
   "outputs": [
    {
     "data": {
      "text/plain": [
       "NaN      13500\n",
       "215.0      628\n",
       "220.0      621\n",
       "219.0      617\n",
       "237.0      615\n",
       "         ...  \n",
       "3.0         20\n",
       "2.0         15\n",
       "407.0       15\n",
       "408.0       14\n",
       "1.0          2\n",
       "Name: Credit_History_Age, Length: 409, dtype: int64"
      ]
     },
     "execution_count": 99,
     "metadata": {},
     "output_type": "execute_result"
    }
   ],
   "source": [
    "df.Credit_History_Age.value_counts(dropna=False)"
   ]
  },
  {
   "cell_type": "code",
   "execution_count": 100,
   "id": "c065d045",
   "metadata": {
    "_cell_guid": "9dd9ad73-1ab9-4358-98c0-ba45e2872c62",
    "_uuid": "d664c5b8-ba34-4869-9df0-cedcd48f8360",
    "collapsed": false,
    "execution": {
     "iopub.execute_input": "2022-09-17T17:06:12.391701Z",
     "iopub.status.busy": "2022-09-17T17:06:12.390957Z",
     "iopub.status.idle": "2022-09-17T17:06:20.098754Z",
     "shell.execute_reply": "2022-09-17T17:06:20.097253Z"
    },
    "jupyter": {
     "outputs_hidden": false
    },
    "papermill": {
     "duration": 7.761212,
     "end_time": "2022-09-17T17:06:20.101613",
     "exception": false,
     "start_time": "2022-09-17T17:06:12.340401",
     "status": "completed"
    },
    "tags": []
   },
   "outputs": [],
   "source": [
    "df['Credit_History_Age'] = df.groupby('Customer_ID')['Credit_History_Age'].apply(lambda x: x.interpolate().bfill().ffill())"
   ]
  },
  {
   "cell_type": "markdown",
   "id": "67f3f53a",
   "metadata": {
    "papermill": {
     "duration": 0.048693,
     "end_time": "2022-09-17T17:06:20.200145",
     "exception": false,
     "start_time": "2022-09-17T17:06:20.151452",
     "status": "completed"
    },
    "tags": []
   },
   "source": [
    "### Total_EMI_per_month"
   ]
  },
  {
   "cell_type": "code",
   "execution_count": 101,
   "id": "9612c5c0",
   "metadata": {
    "_cell_guid": "86b8872c-8dad-4825-857e-d3da6065d2a3",
    "_uuid": "d83b1f32-0b28-4440-904d-af5d96dd99f6",
    "collapsed": false,
    "execution": {
     "iopub.execute_input": "2022-09-17T17:06:20.299001Z",
     "iopub.status.busy": "2022-09-17T17:06:20.298579Z",
     "iopub.status.idle": "2022-09-17T17:06:20.312994Z",
     "shell.execute_reply": "2022-09-17T17:06:20.311770Z"
    },
    "jupyter": {
     "outputs_hidden": false
    },
    "papermill": {
     "duration": 0.067667,
     "end_time": "2022-09-17T17:06:20.315758",
     "exception": false,
     "start_time": "2022-09-17T17:06:20.248091",
     "status": "completed"
    },
    "tags": []
   },
   "outputs": [
    {
     "data": {
      "text/plain": [
       "0.000000        15615\n",
       "49.574949          12\n",
       "16.528703          12\n",
       "64.443403          12\n",
       "331.719510         12\n",
       "                ...  \n",
       "10404.000000        1\n",
       "15457.000000        1\n",
       "59578.000000        1\n",
       "43183.000000        1\n",
       "33013.000000        1\n",
       "Name: Total_EMI_per_month, Length: 16960, dtype: int64"
      ]
     },
     "execution_count": 101,
     "metadata": {},
     "output_type": "execute_result"
    }
   ],
   "source": [
    "df.Total_EMI_per_month.value_counts(dropna=False)"
   ]
  },
  {
   "cell_type": "code",
   "execution_count": 102,
   "id": "e85849e1",
   "metadata": {
    "_cell_guid": "e2d55ccf-266c-4ec9-b81e-f1a2d484a5e6",
    "_uuid": "a4bf83b6-9d61-4038-89ea-b1f6f6dfb8be",
    "collapsed": false,
    "execution": {
     "iopub.execute_input": "2022-09-17T17:06:20.414816Z",
     "iopub.status.busy": "2022-09-17T17:06:20.414166Z",
     "iopub.status.idle": "2022-09-17T17:06:28.938137Z",
     "shell.execute_reply": "2022-09-17T17:06:28.936921Z"
    },
    "jupyter": {
     "outputs_hidden": false
    },
    "papermill": {
     "duration": 8.576045,
     "end_time": "2022-09-17T17:06:28.940429",
     "exception": false,
     "start_time": "2022-09-17T17:06:20.364384",
     "status": "completed"
    },
    "tags": []
   },
   "outputs": [
    {
     "name": "stdout",
     "output_type": "stream",
     "text": [
      "\n",
      "Existing Min, Max Values:\n",
      "min        0.0\n",
      "max    82398.0\n",
      "Name: Total_EMI_per_month, dtype: float64\n",
      "\n",
      "Groupby by Customer_ID's Actual min, max Values:\n",
      "min:\t0.0,\n",
      "max:\t1779.1032538262775\n",
      "\n",
      "Before Assigning Min, Max Total_EMI_per_month: ['No NaN Value']\n",
      "\n",
      "Before Assigning Example Total_EMI_per_month:\n",
      "\n",
      "[27.44208910654816, 27.44208910654816, 27.44208910654816, 27.44208910654816, 27.44208910654816, 27.44208910654816, 27.44208910654816, 32972.0, 27.44208910654816, 27.44208910654816, 27.44208910654816, 27.44208910654816]\n",
      "[45.74570037068675, 45.74570037068675, 45.74570037068675, 45.74570037068675, 45.74570037068675, 45.74570037068675, 45.74570037068675, 45.74570037068675, 45.74570037068675, 45.74570037068675, 45.74570037068675, 45.74570037068675]\n",
      "[0.0, 0.0, 0.0, 0.0, 0.0, 0.0, 0.0, 0.0, 0.0, 0.0, 0.0, 0.0]\n",
      "[188.45659522353543, 188.45659522353543, 188.45659522353543, 188.45659522353543, 188.45659522353543, 188.45659522353543, 188.45659522353543, 188.45659522353543, 188.45659522353543, 188.45659522353543, 188.45659522353543, 188.45659522353543]\n",
      "[257.7386460249556, 257.7386460249556, 257.7386460249556, 257.7386460249556, 257.7386460249556, 257.7386460249556, 257.7386460249556, 257.7386460249556, 257.7386460249556, 257.7386460249556, 257.7386460249556, 257.7386460249556]\n",
      "\n",
      "After Assigning  Min, Max Total_EMI_per_month: ['No NaN Value']\n",
      "\n",
      "After Assigning Example Total_EMI_per_month:\n",
      "\n",
      "[27.44208910654816, 27.44208910654816, 27.44208910654816, 27.44208910654816, 27.44208910654816, 27.44208910654816, 27.44208910654816, 27.44208910654816, 27.44208910654816, 27.44208910654816, 27.44208910654816, 27.44208910654816]\n",
      "[45.74570037068675, 45.74570037068675, 45.74570037068675, 45.74570037068675, 45.74570037068675, 45.74570037068675, 45.74570037068675, 45.74570037068675, 45.74570037068675, 45.74570037068675, 45.74570037068675, 45.74570037068675]\n",
      "[0.0, 0.0, 0.0, 0.0, 0.0, 0.0, 0.0, 0.0, 0.0, 0.0, 0.0, 0.0]\n",
      "[188.45659522353543, 188.45659522353543, 188.45659522353543, 188.45659522353543, 188.45659522353543, 188.45659522353543, 188.45659522353543, 188.45659522353543, 188.45659522353543, 188.45659522353543, 188.45659522353543, 188.45659522353543]\n",
      "[257.7386460249556, 257.7386460249556, 257.7386460249556, 257.7386460249556, 257.7386460249556, 257.7386460249556, 257.7386460249556, 257.7386460249556, 257.7386460249556, 257.7386460249556, 257.7386460249556, 257.7386460249556]\n"
     ]
    }
   ],
   "source": [
    "Reassign_Group_Numeric_Wrong_Values(df, 'Customer_ID', 'Total_EMI_per_month')"
   ]
  },
  {
   "cell_type": "markdown",
   "id": "fe580ac8",
   "metadata": {
    "papermill": {
     "duration": 0.049468,
     "end_time": "2022-09-17T17:06:29.039169",
     "exception": false,
     "start_time": "2022-09-17T17:06:28.989701",
     "status": "completed"
    },
    "tags": []
   },
   "source": [
    "### Amount_invested_monthly"
   ]
  },
  {
   "cell_type": "code",
   "execution_count": 103,
   "id": "5a25f656",
   "metadata": {
    "_cell_guid": "c089b7c1-975f-489d-9801-555e3ddf764f",
    "_uuid": "28d66a65-e572-42f4-8208-8da7b03078bd",
    "collapsed": false,
    "execution": {
     "iopub.execute_input": "2022-09-17T17:06:29.139232Z",
     "iopub.status.busy": "2022-09-17T17:06:29.138793Z",
     "iopub.status.idle": "2022-09-17T17:06:29.169096Z",
     "shell.execute_reply": "2022-09-17T17:06:29.167731Z"
    },
    "jupyter": {
     "outputs_hidden": false
    },
    "papermill": {
     "duration": 0.083648,
     "end_time": "2022-09-17T17:06:29.171900",
     "exception": false,
     "start_time": "2022-09-17T17:06:29.088252",
     "status": "completed"
    },
    "tags": []
   },
   "outputs": [
    {
     "data": {
      "text/plain": [
       "NaN             6750\n",
       "10000.000000    6480\n",
       "0.000000         275\n",
       "80.415295          1\n",
       "16.532189          1\n",
       "                ... \n",
       "209.172746         1\n",
       "333.014809         1\n",
       "274.687129         1\n",
       "220.581212         1\n",
       "220.457878         1\n",
       "Name: Amount_invested_monthly, Length: 136498, dtype: int64"
      ]
     },
     "execution_count": 103,
     "metadata": {},
     "output_type": "execute_result"
    }
   ],
   "source": [
    "df.Amount_invested_monthly.value_counts(dropna=False)"
   ]
  },
  {
   "cell_type": "code",
   "execution_count": 104,
   "id": "d58482f5",
   "metadata": {
    "_cell_guid": "af30e666-d4e1-4c7b-97cc-4e589373b3c5",
    "_uuid": "1973298c-f700-440c-ab07-06841680d55a",
    "collapsed": false,
    "execution": {
     "iopub.execute_input": "2022-09-17T17:06:29.274714Z",
     "iopub.status.busy": "2022-09-17T17:06:29.274330Z",
     "iopub.status.idle": "2022-09-17T17:06:38.042626Z",
     "shell.execute_reply": "2022-09-17T17:06:38.041418Z"
    },
    "jupyter": {
     "outputs_hidden": false
    },
    "papermill": {
     "duration": 8.822684,
     "end_time": "2022-09-17T17:06:38.045552",
     "exception": false,
     "start_time": "2022-09-17T17:06:29.222868",
     "status": "completed"
    },
    "tags": []
   },
   "outputs": [
    {
     "name": "stdout",
     "output_type": "stream",
     "text": [
      "\n",
      "Existing Min, Max Values:\n",
      "min        0.0\n",
      "max    10000.0\n",
      "Name: Amount_invested_monthly, dtype: float64\n",
      "\n",
      "Groupby by Customer_ID's Actual min, max Values:\n",
      "min:\t0.0,\n",
      "max:\t10000.0\n",
      "\n",
      "Before Assigning Min, Max Amount_invested_monthly: ['No NaN Value']\n",
      "\n",
      "Before Assigning Example Amount_invested_monthly:\n",
      "\n",
      "[45.30106826949194, 90.07842318605292, 61.73271462991577, 56.4949816634165, 51.726244263612, 60.82828780912217, 95.6486475869488, 66.71824831147686, 116.54410553197071, 79.08087443658461, 93.81567846791012, 168.43584020560507]\n",
      "[30.373471914127194, 44.31995483866171, nan, 62.81248610216079, 148.30956484525, 10000.0, 59.30896122323683, 118.54244614778156, 104.33987358576769, 55.45176127748453, nan, nan]\n",
      "[118.8806978910128, nan, 337.1997406214716, 170.8689598433119, 74.1980692925824, 105.4573791889266, 197.85037247610126, 165.20443547590202, 50.930150099663045, 86.4414839594447, 351.92301846584564, 55.62866930298164]\n",
      "[149.37725143584314, 146.97809602243544, 101.12020124815511, 492.3974911743151, 264.1791118544216, 261.69017894140734, 200.64143588981403, 126.07161584554541, 684.6651624547051, 103.13758327637464, 110.66061982791805, 161.67162412887268]\n",
      "[292.2127037381353, nan, 187.59489650806347, 275.635709774446, 487.8062062008502, nan, 124.29952362711306, 481.7990883470461, 631.9932676909148, 772.3790958015891, 102.48803392235304, 474.3649639513685]\n",
      "\n",
      "After Assigning  Min, Max Amount_invested_monthly: ['No NaN Value']\n",
      "\n",
      "After Assigning Example Amount_invested_monthly:\n",
      "\n",
      "[45.30106826949194, 90.07842318605292, 61.73271462991577, 56.4949816634165, 51.726244263612, 60.82828780912217, 95.6486475869488, 66.71824831147686, 116.54410553197071, 79.08087443658461, 93.81567846791012, 168.43584020560507]\n",
      "[30.373471914127194, 44.31995483866171, 30.373471914127194, 62.81248610216079, 148.30956484525, 10000.0, 59.30896122323683, 118.54244614778156, 104.33987358576769, 55.45176127748453, 30.373471914127194, 30.373471914127194]\n",
      "[118.8806978910128, 50.930150099663045, 337.1997406214716, 170.8689598433119, 74.1980692925824, 105.4573791889266, 197.85037247610126, 165.20443547590202, 50.930150099663045, 86.4414839594447, 351.92301846584564, 55.62866930298164]\n",
      "[149.37725143584314, 146.97809602243544, 101.12020124815511, 492.3974911743151, 264.1791118544216, 261.69017894140734, 200.64143588981403, 126.07161584554541, 684.6651624547051, 103.13758327637464, 110.66061982791805, 161.67162412887268]\n",
      "[292.2127037381353, 102.48803392235304, 187.59489650806347, 275.635709774446, 487.8062062008502, 102.48803392235304, 124.29952362711306, 481.7990883470461, 631.9932676909148, 772.3790958015891, 102.48803392235304, 474.3649639513685]\n"
     ]
    }
   ],
   "source": [
    "Reassign_Group_Numeric_Wrong_Values(df, 'Customer_ID', 'Amount_invested_monthly')"
   ]
  },
  {
   "cell_type": "markdown",
   "id": "0b4f2761",
   "metadata": {
    "papermill": {
     "duration": 0.049089,
     "end_time": "2022-09-17T17:06:38.145216",
     "exception": false,
     "start_time": "2022-09-17T17:06:38.096127",
     "status": "completed"
    },
    "tags": []
   },
   "source": [
    "### Monthly_Balance"
   ]
  },
  {
   "cell_type": "code",
   "execution_count": 105,
   "id": "bc13c35b",
   "metadata": {
    "_cell_guid": "9dc08312-1311-4824-a61c-38d3b8f154fa",
    "_uuid": "9ba853c9-7630-48c3-b5b2-151949f6523c",
    "collapsed": false,
    "execution": {
     "iopub.execute_input": "2022-09-17T17:06:38.246611Z",
     "iopub.status.busy": "2022-09-17T17:06:38.246213Z",
     "iopub.status.idle": "2022-09-17T17:06:38.276583Z",
     "shell.execute_reply": "2022-09-17T17:06:38.275345Z"
    },
    "jupyter": {
     "outputs_hidden": false
    },
    "papermill": {
     "duration": 0.084332,
     "end_time": "2022-09-17T17:06:38.279124",
     "exception": false,
     "start_time": "2022-09-17T17:06:38.194792",
     "status": "completed"
    },
    "tags": []
   },
   "outputs": [
    {
     "data": {
      "text/plain": [
       " NaN             1762\n",
       "-3.333333e+26      15\n",
       " 6.001125e+02       1\n",
       " 1.205425e+02       1\n",
       " 7.840175e+02       1\n",
       "                 ... \n",
       " 2.799825e+02       1\n",
       " 2.606716e+02       1\n",
       " 2.504915e+02       1\n",
       " 2.438753e+02       1\n",
       " 3.603797e+02       1\n",
       "Name: Monthly_Balance, Length: 148225, dtype: int64"
      ]
     },
     "execution_count": 105,
     "metadata": {},
     "output_type": "execute_result"
    }
   ],
   "source": [
    "df.Monthly_Balance.value_counts(dropna=False)"
   ]
  },
  {
   "cell_type": "code",
   "execution_count": 106,
   "id": "95b72e49",
   "metadata": {
    "_cell_guid": "2b77ec95-e13a-4886-896b-f66407ef72d7",
    "_uuid": "f9f4a754-94a1-4ff5-86f6-41d1bb765047",
    "collapsed": false,
    "execution": {
     "iopub.execute_input": "2022-09-17T17:06:38.382436Z",
     "iopub.status.busy": "2022-09-17T17:06:38.382021Z",
     "iopub.status.idle": "2022-09-17T17:06:47.012742Z",
     "shell.execute_reply": "2022-09-17T17:06:47.011051Z"
    },
    "jupyter": {
     "outputs_hidden": false
    },
    "papermill": {
     "duration": 8.685591,
     "end_time": "2022-09-17T17:06:47.015383",
     "exception": false,
     "start_time": "2022-09-17T17:06:38.329792",
     "status": "completed"
    },
    "tags": []
   },
   "outputs": [
    {
     "name": "stdout",
     "output_type": "stream",
     "text": [
      "\n",
      "Existing Min, Max Values:\n",
      "min   -3.333333e+26\n",
      "max    1.606518e+03\n",
      "Name: Monthly_Balance, dtype: float64\n",
      "\n",
      "Groupby by Customer_ID's Actual min, max Values:\n",
      "min:\t-3.333333333333333e+26,\n",
      "max:\t1183.9306960885192\n",
      "\n",
      "Before Assigning Min, Max Monthly_Balance: ['No NaN Value']\n",
      "\n",
      "Before Assigning Example Monthly_Balance:\n",
      "\n",
      "[310.39167595729333, 295.61432104073225, 333.9600295968694, 309.1977625633686, 323.9664999631732, 334.864456417663, 280.04409663983637, 328.97449591530835, 279.14863869481445, 306.61186979020056, 301.87706575887506, 227.25690402118008]\n",
      "[323.5550777151861, 309.6085947906515, 265.4874646531188, 291.11606352715245, 245.61898478406326, 239.46481499922072, 334.61958840607645, 275.3861034815317, 279.58867604354555, 318.4767883518287, 260.7342254927612, 307.57591763672826]\n",
      "[406.62288544232047, 350.39351957834924, 218.30384271186168, 354.63462349002145, 441.30551404075095, 420.04620414440666, 337.6532108572321, 370.2991478574313, 474.5734332336703, 439.0620993738886, 203.58056486748768, 459.8749140303517]\n",
      "[581.4298200072883, 573.8289754206959, 629.6868701949761, 258.40958026881617, 496.6279595887097, 489.116892501724, 560.1656355533173, 594.7354555975859, 76.14190898842622, 617.6694881667568, 620.1464516152132, 569.1354473142586]\n",
      "[553.4033169035758, 228.71773015063442, 648.0211241336477, 579.9803108672652, 377.809814440861, nan, 701.3164970145981, 383.81693229466515, 223.62275295079644, 93.23692484012213, 723.1279867193582, 401.2510566903428]\n",
      "\n",
      "After Assigning  Min, Max Monthly_Balance: ['No NaN Value']\n",
      "\n",
      "After Assigning Example Monthly_Balance:\n",
      "\n",
      "[310.39167595729333, 295.61432104073225, 333.9600295968694, 309.1977625633686, 323.9664999631732, 334.864456417663, 280.04409663983637, 328.97449591530835, 279.14863869481445, 306.61186979020056, 301.87706575887506, 227.25690402118008]\n",
      "[323.5550777151861, 309.6085947906515, 265.4874646531188, 291.11606352715245, 245.61898478406326, 239.46481499922072, 334.61958840607645, 275.3861034815317, 279.58867604354555, 318.4767883518287, 260.7342254927612, 307.57591763672826]\n",
      "[406.62288544232047, 350.39351957834924, 218.30384271186168, 354.63462349002145, 441.30551404075095, 420.04620414440666, 337.6532108572321, 370.2991478574313, 474.5734332336703, 439.0620993738886, 203.58056486748768, 459.8749140303517]\n",
      "[581.4298200072883, 573.8289754206959, 629.6868701949761, 258.40958026881617, 496.6279595887097, 489.116892501724, 560.1656355533173, 594.7354555975859, 76.14190898842622, 617.6694881667568, 620.1464516152132, 569.1354473142586]\n",
      "[553.4033169035758, 228.71773015063442, 648.0211241336477, 579.9803108672652, 377.809814440861, 93.23692484012213, 701.3164970145981, 383.81693229466515, 223.62275295079644, 93.23692484012213, 723.1279867193582, 401.2510566903428]\n"
     ]
    }
   ],
   "source": [
    "Reassign_Group_Numeric_Wrong_Values(df, 'Customer_ID', 'Monthly_Balance')"
   ]
  },
  {
   "cell_type": "markdown",
   "id": "db1f64b8",
   "metadata": {
    "_cell_guid": "8fbdd093-b061-41c0-8309-911f49efc189",
    "_uuid": "307ceb09-8e2d-4aff-bd70-8c8f9b101439",
    "papermill": {
     "duration": 0.050069,
     "end_time": "2022-09-17T17:06:47.116431",
     "exception": false,
     "start_time": "2022-09-17T17:06:47.066362",
     "status": "completed"
    },
    "tags": []
   },
   "source": [
    "## End of Cleaning"
   ]
  },
  {
   "cell_type": "code",
   "execution_count": 107,
   "id": "0d648866",
   "metadata": {
    "_cell_guid": "36f5b620-c414-4a6b-a275-a54fa566adc7",
    "_uuid": "ea03d990-fa2a-48e8-8052-5a6e191b12c0",
    "collapsed": false,
    "execution": {
     "iopub.execute_input": "2022-09-17T17:06:47.219310Z",
     "iopub.status.busy": "2022-09-17T17:06:47.218123Z",
     "iopub.status.idle": "2022-09-17T17:06:47.342513Z",
     "shell.execute_reply": "2022-09-17T17:06:47.341348Z"
    },
    "jupyter": {
     "outputs_hidden": false
    },
    "papermill": {
     "duration": 0.178893,
     "end_time": "2022-09-17T17:06:47.344986",
     "exception": false,
     "start_time": "2022-09-17T17:06:47.166093",
     "status": "completed"
    },
    "tags": []
   },
   "outputs": [
    {
     "data": {
      "text/html": [
       "<div>\n",
       "<style scoped>\n",
       "    .dataframe tbody tr th:only-of-type {\n",
       "        vertical-align: middle;\n",
       "    }\n",
       "\n",
       "    .dataframe tbody tr th {\n",
       "        vertical-align: top;\n",
       "    }\n",
       "\n",
       "    .dataframe thead th {\n",
       "        text-align: right;\n",
       "    }\n",
       "</style>\n",
       "<table border=\"1\" class=\"dataframe\">\n",
       "  <thead>\n",
       "    <tr style=\"text-align: right;\">\n",
       "      <th></th>\n",
       "      <th>ID</th>\n",
       "      <th>Customer_ID</th>\n",
       "      <th>Month</th>\n",
       "      <th>Name</th>\n",
       "      <th>Age</th>\n",
       "      <th>SSN</th>\n",
       "      <th>Occupation</th>\n",
       "      <th>Annual_Income</th>\n",
       "      <th>Monthly_Inhand_Salary</th>\n",
       "      <th>Num_Bank_Accounts</th>\n",
       "      <th>...</th>\n",
       "      <th>Credit_Mix</th>\n",
       "      <th>Outstanding_Debt</th>\n",
       "      <th>Credit_Utilization_Ratio</th>\n",
       "      <th>Credit_History_Age</th>\n",
       "      <th>Payment_of_Min_Amount</th>\n",
       "      <th>Total_EMI_per_month</th>\n",
       "      <th>Amount_invested_monthly</th>\n",
       "      <th>Payment_Behaviour</th>\n",
       "      <th>Monthly_Balance</th>\n",
       "      <th>Credit_Score</th>\n",
       "    </tr>\n",
       "  </thead>\n",
       "  <tbody>\n",
       "    <tr>\n",
       "      <th>0</th>\n",
       "      <td>5634</td>\n",
       "      <td>3392</td>\n",
       "      <td>1</td>\n",
       "      <td>Aaron Maashoh</td>\n",
       "      <td>23.0</td>\n",
       "      <td>821000265.0</td>\n",
       "      <td>Scientist</td>\n",
       "      <td>19114.12</td>\n",
       "      <td>1824.843333</td>\n",
       "      <td>3.0</td>\n",
       "      <td>...</td>\n",
       "      <td>Good</td>\n",
       "      <td>809.98</td>\n",
       "      <td>26.822620</td>\n",
       "      <td>265.0</td>\n",
       "      <td>No</td>\n",
       "      <td>49.574949</td>\n",
       "      <td>80.415295</td>\n",
       "      <td>High_spent_Small_value_payments</td>\n",
       "      <td>312.494089</td>\n",
       "      <td>Good</td>\n",
       "    </tr>\n",
       "    <tr>\n",
       "      <th>1</th>\n",
       "      <td>5635</td>\n",
       "      <td>3392</td>\n",
       "      <td>2</td>\n",
       "      <td>Aaron Maashoh</td>\n",
       "      <td>23.0</td>\n",
       "      <td>821000265.0</td>\n",
       "      <td>Scientist</td>\n",
       "      <td>19114.12</td>\n",
       "      <td>1824.843333</td>\n",
       "      <td>3.0</td>\n",
       "      <td>...</td>\n",
       "      <td>Good</td>\n",
       "      <td>809.98</td>\n",
       "      <td>31.944960</td>\n",
       "      <td>266.0</td>\n",
       "      <td>No</td>\n",
       "      <td>49.574949</td>\n",
       "      <td>118.280222</td>\n",
       "      <td>Low_spent_Large_value_payments</td>\n",
       "      <td>284.629162</td>\n",
       "      <td>Good</td>\n",
       "    </tr>\n",
       "    <tr>\n",
       "      <th>2</th>\n",
       "      <td>5636</td>\n",
       "      <td>3392</td>\n",
       "      <td>3</td>\n",
       "      <td>Aaron Maashoh</td>\n",
       "      <td>23.0</td>\n",
       "      <td>821000265.0</td>\n",
       "      <td>Scientist</td>\n",
       "      <td>19114.12</td>\n",
       "      <td>1824.843333</td>\n",
       "      <td>3.0</td>\n",
       "      <td>...</td>\n",
       "      <td>Good</td>\n",
       "      <td>809.98</td>\n",
       "      <td>28.609352</td>\n",
       "      <td>267.0</td>\n",
       "      <td>No</td>\n",
       "      <td>49.574949</td>\n",
       "      <td>81.699521</td>\n",
       "      <td>Low_spent_Medium_value_payments</td>\n",
       "      <td>331.209863</td>\n",
       "      <td>Good</td>\n",
       "    </tr>\n",
       "    <tr>\n",
       "      <th>3</th>\n",
       "      <td>5637</td>\n",
       "      <td>3392</td>\n",
       "      <td>4</td>\n",
       "      <td>Aaron Maashoh</td>\n",
       "      <td>23.0</td>\n",
       "      <td>821000265.0</td>\n",
       "      <td>Scientist</td>\n",
       "      <td>19114.12</td>\n",
       "      <td>1824.843333</td>\n",
       "      <td>3.0</td>\n",
       "      <td>...</td>\n",
       "      <td>Good</td>\n",
       "      <td>809.98</td>\n",
       "      <td>31.377862</td>\n",
       "      <td>268.0</td>\n",
       "      <td>No</td>\n",
       "      <td>49.574949</td>\n",
       "      <td>199.458074</td>\n",
       "      <td>Low_spent_Small_value_payments</td>\n",
       "      <td>223.451310</td>\n",
       "      <td>Good</td>\n",
       "    </tr>\n",
       "    <tr>\n",
       "      <th>4</th>\n",
       "      <td>5638</td>\n",
       "      <td>3392</td>\n",
       "      <td>5</td>\n",
       "      <td>Aaron Maashoh</td>\n",
       "      <td>23.0</td>\n",
       "      <td>821000265.0</td>\n",
       "      <td>Scientist</td>\n",
       "      <td>19114.12</td>\n",
       "      <td>1824.843333</td>\n",
       "      <td>3.0</td>\n",
       "      <td>...</td>\n",
       "      <td>Good</td>\n",
       "      <td>809.98</td>\n",
       "      <td>24.797347</td>\n",
       "      <td>269.0</td>\n",
       "      <td>No</td>\n",
       "      <td>49.574949</td>\n",
       "      <td>41.420153</td>\n",
       "      <td>High_spent_Medium_value_payments</td>\n",
       "      <td>341.489231</td>\n",
       "      <td>Good</td>\n",
       "    </tr>\n",
       "    <tr>\n",
       "      <th>...</th>\n",
       "      <td>...</td>\n",
       "      <td>...</td>\n",
       "      <td>...</td>\n",
       "      <td>...</td>\n",
       "      <td>...</td>\n",
       "      <td>...</td>\n",
       "      <td>...</td>\n",
       "      <td>...</td>\n",
       "      <td>...</td>\n",
       "      <td>...</td>\n",
       "      <td>...</td>\n",
       "      <td>...</td>\n",
       "      <td>...</td>\n",
       "      <td>...</td>\n",
       "      <td>...</td>\n",
       "      <td>...</td>\n",
       "      <td>...</td>\n",
       "      <td>...</td>\n",
       "      <td>...</td>\n",
       "      <td>...</td>\n",
       "      <td>...</td>\n",
       "    </tr>\n",
       "    <tr>\n",
       "      <th>149995</th>\n",
       "      <td>155621</td>\n",
       "      <td>34304</td>\n",
       "      <td>12</td>\n",
       "      <td>Sarah McBridec</td>\n",
       "      <td>28.0</td>\n",
       "      <td>31350942.0</td>\n",
       "      <td>Architect</td>\n",
       "      <td>20002.88</td>\n",
       "      <td>1929.906667</td>\n",
       "      <td>10.0</td>\n",
       "      <td>...</td>\n",
       "      <td>Bad</td>\n",
       "      <td>3571.70</td>\n",
       "      <td>34.780553</td>\n",
       "      <td>78.0</td>\n",
       "      <td>Yes</td>\n",
       "      <td>60.964772</td>\n",
       "      <td>146.486325</td>\n",
       "      <td>Low_spent_Small_value_payments</td>\n",
       "      <td>275.539570</td>\n",
       "      <td>NaN</td>\n",
       "    </tr>\n",
       "    <tr>\n",
       "      <th>149996</th>\n",
       "      <td>155630</td>\n",
       "      <td>37932</td>\n",
       "      <td>9</td>\n",
       "      <td>Nicks</td>\n",
       "      <td>25.0</td>\n",
       "      <td>78735990.0</td>\n",
       "      <td>Mechanic</td>\n",
       "      <td>39628.99</td>\n",
       "      <td>3359.415833</td>\n",
       "      <td>4.0</td>\n",
       "      <td>...</td>\n",
       "      <td>Good</td>\n",
       "      <td>502.38</td>\n",
       "      <td>27.758522</td>\n",
       "      <td>383.0</td>\n",
       "      <td>NM</td>\n",
       "      <td>35.104023</td>\n",
       "      <td>181.442999</td>\n",
       "      <td>Low_spent_Small_value_payments</td>\n",
       "      <td>409.394562</td>\n",
       "      <td>NaN</td>\n",
       "    </tr>\n",
       "    <tr>\n",
       "      <th>149997</th>\n",
       "      <td>155631</td>\n",
       "      <td>37932</td>\n",
       "      <td>10</td>\n",
       "      <td>Nicks</td>\n",
       "      <td>25.0</td>\n",
       "      <td>78735990.0</td>\n",
       "      <td>Mechanic</td>\n",
       "      <td>39628.99</td>\n",
       "      <td>3359.415833</td>\n",
       "      <td>4.0</td>\n",
       "      <td>...</td>\n",
       "      <td>Good</td>\n",
       "      <td>502.38</td>\n",
       "      <td>36.858542</td>\n",
       "      <td>384.0</td>\n",
       "      <td>No</td>\n",
       "      <td>35.104023</td>\n",
       "      <td>10000.000000</td>\n",
       "      <td>Low_spent_Large_value_payments</td>\n",
       "      <td>349.726332</td>\n",
       "      <td>NaN</td>\n",
       "    </tr>\n",
       "    <tr>\n",
       "      <th>149998</th>\n",
       "      <td>155632</td>\n",
       "      <td>37932</td>\n",
       "      <td>11</td>\n",
       "      <td>Nicks</td>\n",
       "      <td>25.0</td>\n",
       "      <td>78735990.0</td>\n",
       "      <td>Mechanic</td>\n",
       "      <td>39628.99</td>\n",
       "      <td>3359.415833</td>\n",
       "      <td>4.0</td>\n",
       "      <td>...</td>\n",
       "      <td>Good</td>\n",
       "      <td>502.38</td>\n",
       "      <td>39.139840</td>\n",
       "      <td>385.0</td>\n",
       "      <td>No</td>\n",
       "      <td>35.104023</td>\n",
       "      <td>97.598580</td>\n",
       "      <td>High_spent_Small_value_payments</td>\n",
       "      <td>463.238981</td>\n",
       "      <td>NaN</td>\n",
       "    </tr>\n",
       "    <tr>\n",
       "      <th>149999</th>\n",
       "      <td>155633</td>\n",
       "      <td>37932</td>\n",
       "      <td>12</td>\n",
       "      <td>Nicks</td>\n",
       "      <td>25.0</td>\n",
       "      <td>78735990.0</td>\n",
       "      <td>Mechanic</td>\n",
       "      <td>39628.99</td>\n",
       "      <td>3359.415833</td>\n",
       "      <td>4.0</td>\n",
       "      <td>...</td>\n",
       "      <td>Good</td>\n",
       "      <td>502.38</td>\n",
       "      <td>34.108530</td>\n",
       "      <td>386.0</td>\n",
       "      <td>No</td>\n",
       "      <td>35.104023</td>\n",
       "      <td>220.457878</td>\n",
       "      <td>Low_spent_Medium_value_payments</td>\n",
       "      <td>360.379683</td>\n",
       "      <td>NaN</td>\n",
       "    </tr>\n",
       "  </tbody>\n",
       "</table>\n",
       "<p>150000 rows × 28 columns</p>\n",
       "</div>"
      ],
      "text/plain": [
       "            ID  Customer_ID  Month            Name   Age          SSN  \\\n",
       "0         5634         3392      1   Aaron Maashoh  23.0  821000265.0   \n",
       "1         5635         3392      2   Aaron Maashoh  23.0  821000265.0   \n",
       "2         5636         3392      3   Aaron Maashoh  23.0  821000265.0   \n",
       "3         5637         3392      4   Aaron Maashoh  23.0  821000265.0   \n",
       "4         5638         3392      5   Aaron Maashoh  23.0  821000265.0   \n",
       "...        ...          ...    ...             ...   ...          ...   \n",
       "149995  155621        34304     12  Sarah McBridec  28.0   31350942.0   \n",
       "149996  155630        37932      9           Nicks  25.0   78735990.0   \n",
       "149997  155631        37932     10           Nicks  25.0   78735990.0   \n",
       "149998  155632        37932     11           Nicks  25.0   78735990.0   \n",
       "149999  155633        37932     12           Nicks  25.0   78735990.0   \n",
       "\n",
       "       Occupation  Annual_Income  Monthly_Inhand_Salary  Num_Bank_Accounts  \\\n",
       "0       Scientist       19114.12            1824.843333                3.0   \n",
       "1       Scientist       19114.12            1824.843333                3.0   \n",
       "2       Scientist       19114.12            1824.843333                3.0   \n",
       "3       Scientist       19114.12            1824.843333                3.0   \n",
       "4       Scientist       19114.12            1824.843333                3.0   \n",
       "...           ...            ...                    ...                ...   \n",
       "149995  Architect       20002.88            1929.906667               10.0   \n",
       "149996   Mechanic       39628.99            3359.415833                4.0   \n",
       "149997   Mechanic       39628.99            3359.415833                4.0   \n",
       "149998   Mechanic       39628.99            3359.415833                4.0   \n",
       "149999   Mechanic       39628.99            3359.415833                4.0   \n",
       "\n",
       "        ...  Credit_Mix  Outstanding_Debt  Credit_Utilization_Ratio  \\\n",
       "0       ...        Good            809.98                 26.822620   \n",
       "1       ...        Good            809.98                 31.944960   \n",
       "2       ...        Good            809.98                 28.609352   \n",
       "3       ...        Good            809.98                 31.377862   \n",
       "4       ...        Good            809.98                 24.797347   \n",
       "...     ...         ...               ...                       ...   \n",
       "149995  ...         Bad           3571.70                 34.780553   \n",
       "149996  ...        Good            502.38                 27.758522   \n",
       "149997  ...        Good            502.38                 36.858542   \n",
       "149998  ...        Good            502.38                 39.139840   \n",
       "149999  ...        Good            502.38                 34.108530   \n",
       "\n",
       "       Credit_History_Age  Payment_of_Min_Amount  Total_EMI_per_month  \\\n",
       "0                   265.0                     No            49.574949   \n",
       "1                   266.0                     No            49.574949   \n",
       "2                   267.0                     No            49.574949   \n",
       "3                   268.0                     No            49.574949   \n",
       "4                   269.0                     No            49.574949   \n",
       "...                   ...                    ...                  ...   \n",
       "149995               78.0                    Yes            60.964772   \n",
       "149996              383.0                     NM            35.104023   \n",
       "149997              384.0                     No            35.104023   \n",
       "149998              385.0                     No            35.104023   \n",
       "149999              386.0                     No            35.104023   \n",
       "\n",
       "        Amount_invested_monthly                 Payment_Behaviour  \\\n",
       "0                     80.415295   High_spent_Small_value_payments   \n",
       "1                    118.280222    Low_spent_Large_value_payments   \n",
       "2                     81.699521   Low_spent_Medium_value_payments   \n",
       "3                    199.458074    Low_spent_Small_value_payments   \n",
       "4                     41.420153  High_spent_Medium_value_payments   \n",
       "...                         ...                               ...   \n",
       "149995               146.486325    Low_spent_Small_value_payments   \n",
       "149996               181.442999    Low_spent_Small_value_payments   \n",
       "149997             10000.000000    Low_spent_Large_value_payments   \n",
       "149998                97.598580   High_spent_Small_value_payments   \n",
       "149999               220.457878   Low_spent_Medium_value_payments   \n",
       "\n",
       "       Monthly_Balance  Credit_Score  \n",
       "0           312.494089          Good  \n",
       "1           284.629162          Good  \n",
       "2           331.209863          Good  \n",
       "3           223.451310          Good  \n",
       "4           341.489231          Good  \n",
       "...                ...           ...  \n",
       "149995      275.539570           NaN  \n",
       "149996      409.394562           NaN  \n",
       "149997      349.726332           NaN  \n",
       "149998      463.238981           NaN  \n",
       "149999      360.379683           NaN  \n",
       "\n",
       "[150000 rows x 28 columns]"
      ]
     },
     "execution_count": 107,
     "metadata": {},
     "output_type": "execute_result"
    }
   ],
   "source": [
    "df"
   ]
  },
  {
   "cell_type": "code",
   "execution_count": 108,
   "id": "b66e883f",
   "metadata": {
    "_cell_guid": "80250b76-3873-4d61-9ec0-1dee9aae4f80",
    "_uuid": "2436f616-0a0e-4272-a17f-4051b71cc375",
    "collapsed": false,
    "execution": {
     "iopub.execute_input": "2022-09-17T17:06:47.448652Z",
     "iopub.status.busy": "2022-09-17T17:06:47.448211Z",
     "iopub.status.idle": "2022-09-17T17:06:47.515406Z",
     "shell.execute_reply": "2022-09-17T17:06:47.514164Z"
    },
    "jupyter": {
     "outputs_hidden": false
    },
    "papermill": {
     "duration": 0.122294,
     "end_time": "2022-09-17T17:06:47.518051",
     "exception": false,
     "start_time": "2022-09-17T17:06:47.395757",
     "status": "completed"
    },
    "tags": []
   },
   "outputs": [
    {
     "data": {
      "text/plain": [
       "ID                              0\n",
       "Customer_ID                     0\n",
       "Month                           0\n",
       "Name                            0\n",
       "Age                             0\n",
       "SSN                             0\n",
       "Occupation                      0\n",
       "Annual_Income                   0\n",
       "Monthly_Inhand_Salary           0\n",
       "Num_Bank_Accounts               0\n",
       "Num_Credit_Card                 0\n",
       "Interest_Rate                   0\n",
       "Num_of_Loan                     0\n",
       "Type_of_Loan                    0\n",
       "Delay_from_due_date             0\n",
       "Num_of_Delayed_Payment          0\n",
       "Changed_Credit_Limit            0\n",
       "Num_Credit_Inquiries            0\n",
       "Credit_Mix                      0\n",
       "Outstanding_Debt                0\n",
       "Credit_Utilization_Ratio        0\n",
       "Credit_History_Age              0\n",
       "Payment_of_Min_Amount           0\n",
       "Total_EMI_per_month             0\n",
       "Amount_invested_monthly         0\n",
       "Payment_Behaviour               0\n",
       "Monthly_Balance                 0\n",
       "Credit_Score                50000\n",
       "dtype: int64"
      ]
     },
     "execution_count": 108,
     "metadata": {},
     "output_type": "execute_result"
    }
   ],
   "source": [
    "df.isna().sum()"
   ]
  },
  {
   "cell_type": "code",
   "execution_count": 112,
   "id": "ab17b819",
   "metadata": {
    "execution": {
     "iopub.execute_input": "2022-09-17T17:06:47.622829Z",
     "iopub.status.busy": "2022-09-17T17:06:47.621981Z",
     "iopub.status.idle": "2022-09-17T17:06:47.627354Z",
     "shell.execute_reply": "2022-09-17T17:06:47.626047Z"
    },
    "papermill": {
     "duration": 0.060609,
     "end_time": "2022-09-17T17:06:47.629829",
     "exception": false,
     "start_time": "2022-09-17T17:06:47.569220",
     "status": "completed"
    },
    "tags": []
   },
   "outputs": [],
   "source": [
    "df.to_csv(\"clean_credit_score_classification.csv\", index=False)"
   ]
  },
  {
   "cell_type": "code",
   "execution_count": 110,
   "id": "81712979",
   "metadata": {
    "execution": {
     "iopub.execute_input": "2022-09-17T17:06:47.768138Z",
     "iopub.status.busy": "2022-09-17T17:06:47.767194Z",
     "iopub.status.idle": "2022-09-17T17:06:47.853645Z",
     "shell.execute_reply": "2022-09-17T17:06:47.852357Z"
    },
    "papermill": {
     "duration": 0.163175,
     "end_time": "2022-09-17T17:06:47.856779",
     "exception": false,
     "start_time": "2022-09-17T17:06:47.693604",
     "status": "completed"
    },
    "tags": []
   },
   "outputs": [
    {
     "name": "stdout",
     "output_type": "stream",
     "text": [
      "<class 'pandas.core.frame.DataFrame'>\n",
      "Int64Index: 100000 entries, 0 to 99999\n",
      "Data columns (total 28 columns):\n",
      " #   Column                    Non-Null Count   Dtype  \n",
      "---  ------                    --------------   -----  \n",
      " 0   ID                        100000 non-null  int64  \n",
      " 1   Customer_ID               100000 non-null  int64  \n",
      " 2   Month                     100000 non-null  int64  \n",
      " 3   Name                      100000 non-null  object \n",
      " 4   Age                       100000 non-null  float64\n",
      " 5   SSN                       100000 non-null  float64\n",
      " 6   Occupation                100000 non-null  object \n",
      " 7   Annual_Income             100000 non-null  float64\n",
      " 8   Monthly_Inhand_Salary     100000 non-null  float64\n",
      " 9   Num_Bank_Accounts         100000 non-null  float64\n",
      " 10  Num_Credit_Card           100000 non-null  float64\n",
      " 11  Interest_Rate             100000 non-null  float64\n",
      " 12  Num_of_Loan               100000 non-null  float64\n",
      " 13  Type_of_Loan              100000 non-null  object \n",
      " 14  Delay_from_due_date       100000 non-null  float64\n",
      " 15  Num_of_Delayed_Payment    100000 non-null  float64\n",
      " 16  Changed_Credit_Limit      100000 non-null  float64\n",
      " 17  Num_Credit_Inquiries      100000 non-null  float64\n",
      " 18  Credit_Mix                100000 non-null  object \n",
      " 19  Outstanding_Debt          100000 non-null  float64\n",
      " 20  Credit_Utilization_Ratio  100000 non-null  float64\n",
      " 21  Credit_History_Age        100000 non-null  float64\n",
      " 22  Payment_of_Min_Amount     100000 non-null  object \n",
      " 23  Total_EMI_per_month       100000 non-null  float64\n",
      " 24  Amount_invested_monthly   100000 non-null  float64\n",
      " 25  Payment_Behaviour         100000 non-null  object \n",
      " 26  Monthly_Balance           100000 non-null  float64\n",
      " 27  Credit_Score              100000 non-null  object \n",
      "dtypes: float64(18), int64(3), object(7)\n",
      "memory usage: 22.1+ MB\n"
     ]
    }
   ],
   "source": [
    "# train\n",
    "df[df['Credit_Score'].notna()].info()"
   ]
  },
  {
   "cell_type": "code",
   "execution_count": 111,
   "id": "763e25f4",
   "metadata": {
    "execution": {
     "iopub.execute_input": "2022-09-17T17:06:47.962169Z",
     "iopub.status.busy": "2022-09-17T17:06:47.961693Z",
     "iopub.status.idle": "2022-09-17T17:06:48.017124Z",
     "shell.execute_reply": "2022-09-17T17:06:48.015234Z"
    },
    "papermill": {
     "duration": 0.110834,
     "end_time": "2022-09-17T17:06:48.020040",
     "exception": false,
     "start_time": "2022-09-17T17:06:47.909206",
     "status": "completed"
    },
    "tags": []
   },
   "outputs": [
    {
     "name": "stdout",
     "output_type": "stream",
     "text": [
      "<class 'pandas.core.frame.DataFrame'>\n",
      "Int64Index: 50000 entries, 100000 to 149999\n",
      "Data columns (total 28 columns):\n",
      " #   Column                    Non-Null Count  Dtype  \n",
      "---  ------                    --------------  -----  \n",
      " 0   ID                        50000 non-null  int64  \n",
      " 1   Customer_ID               50000 non-null  int64  \n",
      " 2   Month                     50000 non-null  int64  \n",
      " 3   Name                      50000 non-null  object \n",
      " 4   Age                       50000 non-null  float64\n",
      " 5   SSN                       50000 non-null  float64\n",
      " 6   Occupation                50000 non-null  object \n",
      " 7   Annual_Income             50000 non-null  float64\n",
      " 8   Monthly_Inhand_Salary     50000 non-null  float64\n",
      " 9   Num_Bank_Accounts         50000 non-null  float64\n",
      " 10  Num_Credit_Card           50000 non-null  float64\n",
      " 11  Interest_Rate             50000 non-null  float64\n",
      " 12  Num_of_Loan               50000 non-null  float64\n",
      " 13  Type_of_Loan              50000 non-null  object \n",
      " 14  Delay_from_due_date       50000 non-null  float64\n",
      " 15  Num_of_Delayed_Payment    50000 non-null  float64\n",
      " 16  Changed_Credit_Limit      50000 non-null  float64\n",
      " 17  Num_Credit_Inquiries      50000 non-null  float64\n",
      " 18  Credit_Mix                50000 non-null  object \n",
      " 19  Outstanding_Debt          50000 non-null  float64\n",
      " 20  Credit_Utilization_Ratio  50000 non-null  float64\n",
      " 21  Credit_History_Age        50000 non-null  float64\n",
      " 22  Payment_of_Min_Amount     50000 non-null  object \n",
      " 23  Total_EMI_per_month       50000 non-null  float64\n",
      " 24  Amount_invested_monthly   50000 non-null  float64\n",
      " 25  Payment_Behaviour         50000 non-null  object \n",
      " 26  Monthly_Balance           50000 non-null  float64\n",
      " 27  Credit_Score              0 non-null      object \n",
      "dtypes: float64(18), int64(3), object(7)\n",
      "memory usage: 11.1+ MB\n"
     ]
    }
   ],
   "source": [
    "# test\n",
    "df[df['Credit_Score'].isna()].info()"
   ]
  },
  {
   "cell_type": "code",
   "execution_count": null,
   "id": "e2d0e09b",
   "metadata": {},
   "outputs": [],
   "source": []
  }
 ],
 "metadata": {
  "kernelspec": {
   "display_name": "Python 3.9.7 ('base')",
   "language": "python",
   "name": "python3"
  },
  "language_info": {
   "codemirror_mode": {
    "name": "ipython",
    "version": 3
   },
   "file_extension": ".py",
   "mimetype": "text/x-python",
   "name": "python",
   "nbconvert_exporter": "python",
   "pygments_lexer": "ipython3",
   "version": "3.9.7"
  },
  "papermill": {
   "default_parameters": {},
   "duration": 208.797601,
   "end_time": "2022-09-17T17:06:48.996298",
   "environment_variables": {},
   "exception": null,
   "input_path": "__notebook__.ipynb",
   "output_path": "__notebook__.ipynb",
   "parameters": {},
   "start_time": "2022-09-17T17:03:20.198697",
   "version": "2.3.4"
  },
  "vscode": {
   "interpreter": {
    "hash": "a71a9e4fb054fff428071484f7faa898cb9ecb31a518fe88e3463da9af879578"
   }
  }
 },
 "nbformat": 4,
 "nbformat_minor": 5
}
